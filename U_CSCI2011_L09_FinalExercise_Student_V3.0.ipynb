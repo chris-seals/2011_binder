{
 "cells": [
  {
   "cell_type": "markdown",
   "metadata": {},
   "source": [
    "<b><center>UNCLASSIFIED</center></b>"
   ]
  },
  {
   "cell_type": "markdown",
   "metadata": {},
   "source": [
    "<img src=\"./GRAPHICS/Banner.png\" width=\"110%\">"
   ]
  },
  {
   "cell_type": "markdown",
   "metadata": {},
   "source": [
    "# <center>**FINAL EXERCISE**</center>\n",
    "\n",
    "## Table of Contents\n",
    "\n",
    "9.0. [Introduction](#Introduction)<br>\n",
    "&nbsp;&nbsp;&nbsp;&nbsp;9.0.1. [Objectives](#Objectives)<br>\n",
    "&nbsp;&nbsp;&nbsp;&nbsp;9.0.2. [Overview](#Overview)<br>\n",
    "&nbsp;&nbsp;&nbsp;&nbsp;9.0.3. [Notes](#Notes)<br>\n",
    "&nbsp;&nbsp;&nbsp;&nbsp;9.0.4. [Collaboration Policy](#Collaboration)<br>\n",
    "&nbsp;&nbsp;&nbsp;&nbsp;9.0.5. [Final Exercise](#Exercise)<br>\n",
    "9.1. [Part 1: Describe the Parking Violations Dataset](#Part1)<br>\n",
    "&nbsp;&nbsp;&nbsp;&nbsp;9.1.1. [Identify Data Types in the Dataset](#1.1) <br>\n",
    "&nbsp;&nbsp;&nbsp;&nbsp;9.1.2. [Identify Issues and Inconsistencies](#1.2)<br>\n",
    "&nbsp;&nbsp;&nbsp;&nbsp;9.1.3. [Use Python to Identify All the Files](#1.3)<br>\n",
    "&nbsp;&nbsp;&nbsp;&nbsp;9.1.4. [Read in the Data](#1.4)<br>\n",
    "&nbsp;&nbsp;&nbsp;&nbsp;9.1.5. [Identify the Number of Records](#1.5)<br>\n",
    "9.2. [Part 2: Analyze the Data](#Part2)<br>\n",
    "&nbsp;&nbsp;&nbsp;&nbsp;9.2.1. [Select Your Question](#2.1)<br>\n",
    "&nbsp;&nbsp;&nbsp;&nbsp;9.2.2. [Apply Computational Thinking](#2.2)<br>\n",
    "9.3. [Part 3: Write the Data Out](#Part3)<br>\n",
    "9.4. [Submit Your Final Exercise](#submit)<br>"
   ]
  },
  {
   "cell_type": "markdown",
   "metadata": {},
   "source": [
    "***\n",
    "<a id='Introduction'></a>\n",
    "## 9.0. Introduction\n",
    "\n",
    "***\n",
    "<a id='Objectives'></a>\n",
    "### 9.0.1. Objectives\n",
    "\n",
    "Using conditionals, loops, Python dictionaries, local data, the CSV Library, and the Glob Library, students will be able to:\n",
    "* Examine the implications of using computation to solve a problem\n",
    "    * Discuss best practices for using computation to solve a problem\n",
    "    * Suggest types of problems that can be solved through computation\n",
    "    * Show how computation can solve a problem\n",
    "<br><br>    \n",
    "* Recognize key computer science concepts\n",
    "    * Identify data types used in Python scripting\n",
    "    * Identify data structures used in Python scripting\n",
    "    * Define variables and strings\n",
    "    * Recognize how queries operate\n",
    "<br><br>    \n",
    "* Demonstrate the ability to build basic scripts using Python scripting language\n",
    "    * Use various data types and structures in Python scripting\n",
    "    * Collect data using Python scripting\n",
    "    * Extract data using Python scripting\n",
    "    * Develop advanced data structures using Python scripting"
   ]
  },
  {
   "cell_type": "markdown",
   "metadata": {},
   "source": [
    "***\n",
    "<a id='Overview'></a>\n",
    "### 9.0.2. Overview:\n",
    "\n",
    "This final exercise is a formal evaluation of the Python scripting language at a fundamental level. This exercise requires students to apply their knowledge of the Python scripting language and tests their ability to analyze a real-world dataset utilizing Python.\n",
    "\n",
    "This final exercise is divided into three parts.\n",
    "\n",
    "* Part 1 is focused on describing the dataset.<br>\n",
    "* Part 2 is focused on conducting exploratory analysis of the datasets.<br>\n",
    "* Part 3 is focused on restructuring the data for use outside of Python.<br>"
   ]
  },
  {
   "cell_type": "markdown",
   "metadata": {},
   "source": [
    "***\n",
    "<a id='Notes'></a>                  \n",
    "### 9.0.3. Notes:\n",
    "\n",
    "This Final Exercise is an open-book assessment. You are free to use the following:\n",
    "* All of the notes taken during class\n",
    "* All of the provided student material (including all solutions)\n",
    "* All of the available search engines and online tools\n",
    "* Facilitator and classmate assistance"
   ]
  },
  {
   "cell_type": "markdown",
   "metadata": {},
   "source": [
    "***\n",
    "<a id='Collaboration'></a>\n",
    "### 9.0.4. Collaboration Policy:\n",
    "\n",
    "During the final exercise, students are encouraged to collaborate. If you choose to collaborate with fellow students, any code cells that were developed as part of a collaborative effort must be annotated by commenting in (`##`) the names of all collaborators. Copying and pasting a classmate's code is not considered a form of collaboration. When asked by a technical facilitator, students should be able to explain how each answer was generated.    "
   ]
  },
  {
   "cell_type": "markdown",
   "metadata": {},
   "source": [
    "<hr>\n",
    "\n",
    "<a id='Exercise'></a>\n",
    "### 9.0.5. Final Exercise\n",
    "\n",
    "Using the best practices you have learned during the past week, how would you address the following problem?\n",
    "\n",
    "You just got hired as an analyst for LA Parking Enforcement. You have a dataset that contains information about Los Angeles Parking Enforcement's ticketing history and you want to better understand patterns around the tickets distributed in the area.\n",
    "\n",
    "In your current role, you are expected to generate a report that addresses one of the following, in regard to Parking Violations:\n",
    "\n",
    "* Fines collected due to parking violations \n",
    "* Frequency of tickets recieved by state \n",
    "* Time of day most tickets are written \n",
    "\n",
    "You will also need to create a text file that contains the findings so you can share your results with your management team."
   ]
  },
  {
   "cell_type": "markdown",
   "metadata": {},
   "source": [
    "***\n",
    "<a id=\"Part1\"></a>\n",
    "## 9.1. Part 1: Describe the Parking Violations Dataset\n",
    "\n",
    "First, you will need to explore the data to see what sort of data you have. Take some time to explore and characterize the dataset. The data for this final exercise can be found in the following folder.\n",
    "<br> <br>\n",
    "<center><code>data/parking_records/</code></center>\n",
    "\n",
    "Open a few of the files at random to determine what type of data you are working with. Begin the final exercise once you have a good understanding of the dataset."
   ]
  },
  {
   "cell_type": "markdown",
   "metadata": {},
   "source": [
    "***\n",
    "<a id=\"1.1\"></a>\n",
    "### 9.1.1.  Identify the Types of Data in the Dataset (e.g. Booleans, Strings, Integers)\n",
    "What data types are in the dataset? Comments are sufficient to answer this question. **No code is required for this exercise.**"
   ]
  },
  {
   "cell_type": "code",
   "execution_count": null,
   "metadata": {},
   "outputs": [],
   "source": [
    "## YOUR ANSWER GOES HERE -- NO CODE NECESSARY ##"
   ]
  },
  {
   "cell_type": "markdown",
   "metadata": {},
   "source": [
    "***\n",
    "<a id=\"1.2\"></a>\n",
    "### 9.1.2. Identify Any Issues or Inconsistencies\n",
    "\n",
    "What are the file formats? Can you identify any limitations, inconsistencies, or distortions of the data?  Comments are sufficient to answer this question. **No code is required for this exercise.**"
   ]
  },
  {
   "cell_type": "code",
   "execution_count": null,
   "metadata": {},
   "outputs": [],
   "source": [
    "## YOUR ANSWER GOES HERE -- NO CODE NECESSARY ##"
   ]
  },
  {
   "cell_type": "markdown",
   "metadata": {},
   "source": [
    "***\n",
    "<a id=\"1.3\"></a>\n",
    "### 9.1.3. Use Python to Identify All the Files\n",
    "    \n",
    "Using the Glob library, create a list of all of the filenames in the `data/parking_records/` folder."
   ]
  },
  {
   "cell_type": "code",
   "execution_count": null,
   "metadata": {},
   "outputs": [],
   "source": [
    "## YOUR CODE GOES HERE ##"
   ]
  },
  {
   "cell_type": "markdown",
   "metadata": {},
   "source": [
    "***\n",
    "<a id=\"1.4\"></a>\n",
    "### 9.1.4. Read in the Data\n",
    "\n",
    "Use the list of filenames created in section 9.1.3 above to read in all the files.  Use the `.DictReader()` object from the CSV library, and combine the data from all the files so that your final data structure is a list of dictionaries. "
   ]
  },
  {
   "cell_type": "code",
   "execution_count": null,
   "metadata": {},
   "outputs": [],
   "source": [
    "## YOUR CODE GOES HERE ##"
   ]
  },
  {
   "cell_type": "markdown",
   "metadata": {},
   "source": [
    "***\n",
    "<a id=\"1.5\"></a>\n",
    "### 9.1.5. Identify the Number of Records in Your List\n",
    "\n",
    "How many rows are in your combined dataset?"
   ]
  },
  {
   "cell_type": "code",
   "execution_count": null,
   "metadata": {},
   "outputs": [],
   "source": [
    "## YOUR CODE GOES HERE ##"
   ]
  },
  {
   "cell_type": "markdown",
   "metadata": {},
   "source": [
    "<img src=\"./GRAPHICS/stoppart1a.png\" width=\"90%\">"
   ]
  },
  {
   "cell_type": "markdown",
   "metadata": {},
   "source": [
    "<hr> <a id=\"Part2\"></a>\n",
    "\n",
    "## 9.2. Part 2: Analyze the Data\n",
    "\n"
   ]
  },
  {
   "cell_type": "markdown",
   "metadata": {},
   "source": [
    "***\n",
    "<a id=\"2.1\"></a>\n",
    "\n",
    "### 9.2.1. Select Only <b><font color=\"brick\">ONE</font></b> of the Three Problems Listed Below\n",
    "\n",
    "**The problem you select here will be used throughout Parts 2 and 3 of the Exercise.** "
   ]
  },
  {
   "cell_type": "markdown",
   "metadata": {},
   "source": [
    "#### A. Calculate Total Fines Collected by Parking Violations   \n",
    "\n",
    "Your managers are interested in the amount of money they have collected from **all** the parking violations in the area. For each of the violations in the dataset, locate the fine amount and add it to a grand total of fines collected. Note: some of the values for fine amount are empty; you will need to replace its value before trying to add the fines together. "
   ]
  },
  {
   "cell_type": "markdown",
   "metadata": {},
   "source": [
    "#### B. Evaluate the Number of Violations by State\n",
    "\n",
    "Parking Enforcement wants to know which states they write tickets for most often. Create a dictionary where the key is the state represented on the vehicle's licence plate and the value is the number of times a ticket was issued to vehicles from that state. Which state has the most violations? How many violations does that state have?"
   ]
  },
  {
   "cell_type": "markdown",
   "metadata": {},
   "source": [
    "#### C. Determine Violation Count by Time of Day\n",
    "\n",
    "Parking Enforcement wants to better understand what time of day most of their tickets are issued ('Issue time'). In the dataset, Issue time is stored as a string between '0' and '2359.0' (i.e. hours and minutes on a 24-hour clock). \n",
    "\n",
    "Create variables to hold the number of parking violations that occured at each part of the day: Morning, Afternoon, and Night. Which time of day does Parking Enforcement issue the most tickets?  \n",
    "\n",
    "For the purposes of this analysis, the break down of time of day will be as follows: \n",
    "\n",
    "  Time         |  Part of Day\n",
    ":-------------: | :-------------:\n",
    "200 - 1000  | 'Morning'\n",
    "1001 - 1900 | 'Afternoon'\n",
    "1901 - 0159 | 'Night'"
   ]
  },
  {
   "cell_type": "markdown",
   "metadata": {},
   "source": [
    "<hr>\n",
    "\n",
    "<a id=\"2.2\"></a>\n",
    "\n",
    "### 9.2.2. Apply Computational Thinking\n",
    "For the question you choose above, work through the computational thinking steps to accomplish the task. Comments are sufficient to answer the computational thinking portion of this question. **No code is required for this exercise.**\n",
    "\n",
    ">#### Step 1. Decomposition\n",
    ">* What are the inputs you will need?\n",
    ">* What should the output(s) look like?\n",
    ">* Do you need to break the problem into smaller parts?"
   ]
  },
  {
   "cell_type": "code",
   "execution_count": null,
   "metadata": {},
   "outputs": [],
   "source": [
    "## YOUR ANSWER GOES HERE -- NO CODE NECESSARY ##"
   ]
  },
  {
   "cell_type": "markdown",
   "metadata": {},
   "source": [
    ">#### Step 2. Pattern Recognition\n",
    ">* What are the patterns or commonalities in the data?\n",
    ">* Are there fringe cases to deal with?"
   ]
  },
  {
   "cell_type": "code",
   "execution_count": null,
   "metadata": {},
   "outputs": [],
   "source": [
    "## YOUR ANSWER GOES HERE -- NO CODE NECESSARY ##"
   ]
  },
  {
   "cell_type": "markdown",
   "metadata": {},
   "source": [
    ">#### Step 3. Abstraction\n",
    ">* Will the process you've developed work for any similar dataset? Or does it rely on idiosyncrasies of this particular dataset?"
   ]
  },
  {
   "cell_type": "code",
   "execution_count": null,
   "metadata": {},
   "outputs": [],
   "source": [
    "## YOUR ANSWER GOES HERE -- NO CODE NECESSARY ##"
   ]
  },
  {
   "cell_type": "markdown",
   "metadata": {},
   "source": [
    ">#### Step 4. Algorithmic Design\n",
    ">* Write the pseudocode for your problem."
   ]
  },
  {
   "cell_type": "code",
   "execution_count": null,
   "metadata": {},
   "outputs": [],
   "source": [
    "## YOUR ANSWER GOES HERE -- NO CODE NECESSARY ##"
   ]
  },
  {
   "cell_type": "markdown",
   "metadata": {},
   "source": [
    "<hr>\n",
    "\n",
    "<a id=\"2.1\"></a>\n",
    "\n",
    "### 9.2.3. Code Your Solution\n",
    "\n",
    "Turn the algorithm steps you created in Step 4 above into a Python script that solves your chosen problem."
   ]
  },
  {
   "cell_type": "code",
   "execution_count": null,
   "metadata": {},
   "outputs": [],
   "source": [
    "## YOUR CODE GOES HERE ##"
   ]
  },
  {
   "cell_type": "markdown",
   "metadata": {},
   "source": [
    "<img src=\"./GRAPHICS/stoppart2a.png\" width=\"90%\">"
   ]
  },
  {
   "cell_type": "markdown",
   "metadata": {},
   "source": [
    "<hr> <a id=\"Part3\"></a>\n",
    "\n",
    "## 9.3. Part 3: Write the Data Out \n",
    "\n",
    "Store the results you generated in Part 2 to solve your chosen problem. If necessary, format your results in a string explaning what your data means. Then, write your data to a file located in the `'data/'` folder. Chose which library and method to use based on the format of your results."
   ]
  },
  {
   "cell_type": "code",
   "execution_count": null,
   "metadata": {},
   "outputs": [],
   "source": [
    "## YOUR CODE GOES HERE ##"
   ]
  },
  {
   "cell_type": "markdown",
   "metadata": {},
   "source": [
    "<img src=\"./GRAPHICS/stoppart3a.png\" width=\"90%\">"
   ]
  },
  {
   "cell_type": "markdown",
   "metadata": {},
   "source": [
    "<hr> <a id='submit'></a>\n",
    "\n",
    "## 9.4. Submit Your Final Exercise\n",
    "\n",
    "Read carefully and follow the instructions below to submit your final exercise notebook.\n",
    "\n",
    "* Save your completed FinalExercise_Student_v3.0.ipynb file as `YourBlackboardUserID_Cohort#_Final.ipynb`   \n",
    "    - Example: `1234567_24_Final.ipynb`  <br><br>\n",
    "* Save your `YourBlackboardUserID_Cohort#_Final.ipynb` as a .zip file\n",
    "   1. Right-click the file\n",
    "   2. Select **Send to** >> **Compressed (zipped) folder**<br><br>\n",
    " \n",
    "* Submit `YourBlackboardUserID_Cohort#_Final.zip` via Blackboard\n",
    "    1. Log in to Blackboard and go to the Data Literacy Community of Practice (CoP)\n",
    "    2. Select **CSCI2011 - Fundamentals of Problem Solving Using Python I** (left side of the CoP)\n",
    "    3. Select **CSCI2011 Final Exercise**\n",
    "    4. Select **Submit CSCI2011 Final Exercise**\n",
    "    4. Under the Assignment Submission section, attach your reviewed and completed `YourBlackboardUserID_Cohort#_Final.zip` file\n",
    "    5. Select **Submit**\n",
    "    6. Confirm with the facilitator that `YourBlackboardUserID_Cohort#_Final.zip` was received<br><br>\n",
    "    \n",
    "* Complete the end-of-course survey via Blackboard (10-15 min)\n",
    "    1. Log in to Blackboard and go to the Data Literacy Community of Practice (CoP)\n",
    "    2. Select **CSCI2011 - Fundamentals of Problem Solving Using Python I** (left side of the CoP)\n",
    "    3. Select **CSCI2011 End of Course Survey**\n",
    "    4. Select the EOC Survey associated with your assigned session <br><br>\n",
    "    \n",
    "* Complete the post-course assessment on Blackboard if you haven't already (10-15 min)\n",
    "    1. Select **CSCI2011 Post-Course Assessment**\n",
    "    2. Complete the assessment in one sitting, you CANNOT pause and resume at a later time"
   ]
  },
  {
   "cell_type": "markdown",
   "metadata": {},
   "source": [
    "<hr>\n",
    "\n",
    "<center><b>UNCLASSIFIED</b></center>"
   ]
  }
 ],
 "metadata": {
  "kernelspec": {
   "display_name": "Python 3",
   "language": "python",
   "name": "python3"
  },
  "language_info": {
   "codemirror_mode": {
    "name": "ipython",
    "version": 3
   },
   "file_extension": ".py",
   "mimetype": "text/x-python",
   "name": "python",
   "nbconvert_exporter": "python",
   "pygments_lexer": "ipython3",
   "version": "3.6.6"
  }
 },
 "nbformat": 4,
 "nbformat_minor": 2
}
