{
 "cells": [
  {
   "cell_type": "markdown",
   "metadata": {},
   "source": [
    "<b><center>UNCLASSIFIED</center></b>"
   ]
  },
  {
   "cell_type": "markdown",
   "metadata": {},
   "source": [
    "<img src=\"./GRAPHICS/Banner.png\" width=\"110%\">"
   ]
  },
  {
   "cell_type": "markdown",
   "metadata": {},
   "source": [
    "# Lesson 2: Data Types"
   ]
  },
  {
   "cell_type": "markdown",
   "metadata": {},
   "source": [
    "## Table of Contents\n",
    "\n",
    "2.1. [Objectives](#Objectives)<br>\n",
    "2.2. [Overview](#Overview)<br>\n",
    "2.3. [Review](#Review)<br>\n",
    "&nbsp;&nbsp;&nbsp;&nbsp;2.3.1. [Computational Thinking](#ComputationalThinking)<br>\n",
    "&nbsp;&nbsp;&nbsp;&nbsp;2.3.2. [Variables](#Variables)<br>\n",
    "&nbsp;&nbsp;&nbsp;&nbsp;2.3.3. [Jupyter Notebooks: Keyboard Shortcuts](#KeyboardShortcuts)<br>\n",
    "2.4. [Lesson: Data Types](#Lesson)<br>\n",
    "&nbsp;&nbsp;&nbsp;&nbsp;2.4.1. [Introduction to Data Types](#Introduction)<br>\n",
    "&nbsp;&nbsp;&nbsp;&nbsp;2.4.2. [Numbers and Arithmetic Operators](#Numbers)<br>\n",
    "&nbsp;&nbsp;&nbsp;&nbsp;2.4.3. [Strings](#Strings)<br>\n",
    "&nbsp;&nbsp;&nbsp;&nbsp;2.4.4. [The None Type](#None)<br>\n",
    "2.5. [Guided Exercise: Solving a Practical Exercise](#GuidedExercise)<br>\n",
    "2.6. [Practical Exercises](#PracticalExercises)<br>\n",
    "&nbsp;&nbsp;&nbsp;&nbsp;2.6.1. [Practical Exercise 1: Casting](#PE1)<br>\n",
    "&nbsp;&nbsp;&nbsp;&nbsp;2.6.2. [Practical Exercise 2: How Big is Washington, D.C.?](#PE2)<br>\n",
    "&nbsp;&nbsp;&nbsp;&nbsp;2.6.3. [Practical Exercise 3: Cleaning Data](#PE3)<br>\n",
    "&nbsp;&nbsp;&nbsp;&nbsp;2.6.4. [Practical Exercise 4: Radio Signal Travel Time](#PE4)<br>\n",
    "&nbsp;&nbsp;&nbsp;&nbsp;2.6.5. [Practical Exercise 5: Restaurant Bill](#PE5)<br>\n",
    "&nbsp;&nbsp;&nbsp;&nbsp;2.6.6. [Practical Exercise 6: Hours, Minutes, and Seconds](#PE6)<br>\n",
    "&nbsp;&nbsp;&nbsp;&nbsp;2.6.7. [Practical Exercise 7: String Slicing Exercises](#PE7)<br>\n",
    "&nbsp;&nbsp;&nbsp;&nbsp;2.6.8. [Practical Exercise 8: Slicing with the Step Parameter](#PE8)<br>\n",
    "&nbsp;&nbsp;&nbsp;&nbsp;2.6.9. [Practical Exercise 9: Processing Markup Languages](#PE9)<br>\n",
    "2.7. [Appendix](#appendix)<br>"
   ]
  },
  {
   "cell_type": "markdown",
   "metadata": {},
   "source": [
    "***\n",
    "<a id='Objectives'></a>\n",
    "## 2.1 Objectives\n",
    "\n",
    "* Examine the implications of using computation to solve a problem\n",
    "    * Discuss best practices for using computation to solve a problem\n",
    "    * Suggest types of problems that can be solved through computation\n",
    "    * Show how computation can solve a problem\n",
    "<br><br>    \n",
    "* Recognize key computer science concepts\n",
    "    * Identify data types used in Python scripting\n",
    "    * Identify data structures used in Python scripting\n",
    "    * Define variables and strings\n",
    "    * Recognize how queries operate\n",
    "<br><br>    \n",
    "* Demonstrate the ability to build basic scripts using Python scripting language\n",
    "    * Use various data types and structures in Python scripting\n",
    "    * Collect data using Python scripting\n",
    "    * Extract data using Python scripting\n",
    "    * Develop advanced data structures using Python scripting"
   ]
  },
  {
   "cell_type": "markdown",
   "metadata": {},
   "source": [
    "<hr>\n",
    "<a id='Overview'></a>\n",
    "\n",
    "## 2.2. Overview\n",
    "The following material is divided into the following parts:\n",
    "* Lesson\n",
    "* Guided Exercise\n",
    "* Practical Exercises"
   ]
  },
  {
   "cell_type": "markdown",
   "metadata": {},
   "source": [
    "<hr>\n",
    "<a id='Review'></a>\n",
    "\n",
    "## 2.3. Review\n",
    "\n",
    "<a id=\"ComputationalThinking\"></a>\n",
    "<hr>\n",
    "\n",
    "### 2.3.1. Computational Thinking\n",
    "\n",
    "The basic steps for approaching a computational problem are:\n",
    "\n",
    "1. **Decomposition:** Breaking down data, processes, or problems into smaller, manageable parts   \n",
    "2. **Pattern Recognition:** Observing patterns, trends, and regularities in data      \n",
    "3. **Abstraction:** Identifying the general principles that generate these patterns\n",
    "4. **Algorithm Design:** Developing the step by step instructions for solving this and similar problems "
   ]
  },
  {
   "cell_type": "markdown",
   "metadata": {},
   "source": [
    "**Exercise:** Write some pseudocode to solve the following problem: Given a number, print the squared value. \n",
    "> Remember that pseudocode is just a set of steps, not actual working code."
   ]
  },
  {
   "cell_type": "code",
   "execution_count": null,
   "metadata": {},
   "outputs": [],
   "source": [
    "## YOUR PSEUDOCODE GOES HERE ##"
   ]
  },
  {
   "cell_type": "markdown",
   "metadata": {},
   "source": [
    "<hr>\n",
    "<a id='Variables'></a>\n",
    "\n",
    "### 2.3.2. Variables\n",
    "\n",
    "**Exercise:** Create a variable of any type and then call the `print()` function on it."
   ]
  },
  {
   "cell_type": "code",
   "execution_count": null,
   "metadata": {},
   "outputs": [],
   "source": [
    "## YOUR CODE GOES HERE ##"
   ]
  },
  {
   "cell_type": "markdown",
   "metadata": {},
   "source": [
    "<hr> <a id='KeyboardShortcuts'></a>\n",
    "\n",
    "### 2.3.3. Jupyter Notebook: Keyboard Shortcuts\n",
    "\n",
    "**Exercise:** Add a new code cell below, type some code to print the sentence `'Hello Lesson 2!'`, and run it using keyboard shortcuts."
   ]
  },
  {
   "cell_type": "markdown",
   "metadata": {},
   "source": [
    "<hr>\n",
    "<a id='Lesson'></a>\n",
    "\n",
    "## 2.4. Lesson: Data Types\n",
    "\n",
    "<hr> <a id='Introduction'></a>\n",
    "\n",
    "### 2.4.1. Introduction to Data Types\n",
    "\n",
    "#### References\n",
    "* [Python: Data Types](https://docs.python.org/2/library/datatypes.html)\n",
    "* [Python: Type()](https://docs.python.org/2.7/library/functions.html#type)\n",
    "\n",
    "There are many data types in Python, but to keep things simple, we will begin by covering the basics: Boolean, integer, float, string, and the None Type. See the table below for short descriptions of these basic data types. \n",
    "\n",
    "| Plain Language Description                              | Python Data Type | `type()` Output |\n",
    "| :------------------------------------------ | :---------------: | :-------------: |\n",
    "| True or False                               | Boolean          | `bool`            |\n",
    "| Whole Numbers                               | Integer          | `int`             |\n",
    "| Decimal Numbers                             | Float            | `float`           |\n",
    "| Sequences of characters including letters, <br>numbers, formatting characters, and/or punctuation   | String   | `str` |\n",
    "| Nothingness, non-existence; not the same as <br>zero or empty                 | None          | `NoneType`            |\n",
    "\n",
    "**Why do data types matter?**\n",
    "\n",
    "Different data objects (e.g. some text, a number, or a list of things) are given specific data types so that computers know how to use, manipulate, and store them. A Python program will get confused if you tell it to add `'one'`, which is text, and `2`, which is a number.  People can make the mental leap that `'one'` also means the numeric value `1`, but a computer program cannot make this leap on its own. It can sometimes be difficult to know the type of a data object just by looking at it.  Luckily, there is a built-in function that tells us the type of any argument we pass it: the `type()` function. Remember, functions always have parentheses after their name and functions' inputs always go inside of those parentheses. Try calling `type()` in the cells below."
   ]
  },
  {
   "cell_type": "code",
   "execution_count": null,
   "metadata": {},
   "outputs": [],
   "source": [
    "boolean_variable = True\n",
    "type(boolean_variable)"
   ]
  },
  {
   "cell_type": "code",
   "execution_count": null,
   "metadata": {},
   "outputs": [],
   "source": [
    "integer_variable = 3\n",
    "type(integer_variable)"
   ]
  },
  {
   "cell_type": "code",
   "execution_count": null,
   "metadata": {},
   "outputs": [],
   "source": [
    "integer_variable + integer_variable"
   ]
  },
  {
   "cell_type": "code",
   "execution_count": null,
   "metadata": {},
   "outputs": [],
   "source": [
    "string_variable = 'This is a string.'\n",
    "type(string_variable)"
   ]
  },
  {
   "cell_type": "code",
   "execution_count": null,
   "metadata": {},
   "outputs": [],
   "source": [
    "string_variable + string_variable"
   ]
  },
  {
   "cell_type": "markdown",
   "metadata": {},
   "source": [
    "Even when given the same exact command, Python can perform different operations depending on the type of data that it is working with. When told to add two numbers together, Python knows to perform addition. However, when told to add two strings together, Python knows that addition is not possible, and instead concatenates them."
   ]
  },
  {
   "cell_type": "code",
   "execution_count": null,
   "metadata": {},
   "outputs": [],
   "source": [
    "integer_variable + string_variable"
   ]
  },
  {
   "cell_type": "markdown",
   "metadata": {},
   "source": [
    "If Python is not sure how two data types relate to each other for a given operation, it will throw a `TypeError`, telling you that it doesn't know which operation to perform. Check your data types using the `type()` function and make sure that they are what you expected."
   ]
  },
  {
   "cell_type": "markdown",
   "metadata": {},
   "source": [
    "**Exercise:** In the code cell below, assign a value to a variable, then use the `type()` function to output the data type for that variable."
   ]
  },
  {
   "cell_type": "code",
   "execution_count": null,
   "metadata": {},
   "outputs": [],
   "source": [
    "## YOUR CODE GOES HERE ##"
   ]
  },
  {
   "cell_type": "markdown",
   "metadata": {},
   "source": [
    "**Exercise:** In the code cell below, use the variables that we created above and type a period after them (ex: `integer.`), then hit `tab` to view the available methods. Notice the differences in which methods are available to each data type."
   ]
  },
  {
   "cell_type": "code",
   "execution_count": null,
   "metadata": {},
   "outputs": [],
   "source": [
    "## YOUR CODE GOES HERE ##"
   ]
  },
  {
   "cell_type": "markdown",
   "metadata": {},
   "source": [
    "***\n",
    "<a id='Numbers'></a>\n",
    "### 2.4.2. Numbers (Integers and Floats) and Arithmetic Operators\n",
    "\n",
    "#### References:\n",
    "* [TutorialsPoint: Python - Basic Operators](https://www.tutorialspoint.com/python/python_basic_operators.htm)\n",
    "\n",
    "The difference between integers and floats is the decimal point, which is sometimes called a floating point. Integers are whole numbers and do not include a decimal point. Even in a number like like `2.0`, the presence of a decimal makes it a float. However, Python treats equivalent numbers as equal even if they are of different types."
   ]
  },
  {
   "cell_type": "markdown",
   "metadata": {},
   "source": [
    "You can use integers and floats together in arithmetic expressions."
   ]
  },
  {
   "cell_type": "code",
   "execution_count": null,
   "metadata": {},
   "outputs": [],
   "source": [
    "2.5 + 10"
   ]
  },
  {
   "cell_type": "markdown",
   "metadata": {},
   "source": [
    ">NOTE: There is a difference between Python 2.7 (which you may have on your work computer) and 3.5 (which we are using in this class) when doing division with integers.</b>\n",
    "* Python 2.7: Division operations involving only integers will result in a rounded down integer.  \n",
    "    - ```python\n",
    "2/5 = 0``` \n",
    "* Python 3.5: Division operations involving only integers will result in a float. \n",
    "    - ```python\n",
    "2/5 = 0.4```\n",
    ">\n",
    ">You can get Python 2.7 to output the float result by making one of the numbers in your expression a float (i.e. `2/5.0`)"
   ]
  },
  {
   "cell_type": "markdown",
   "metadata": {},
   "source": [
    "Just like any data value, we can assign numbers explicitly to variables or create them with expressions."
   ]
  },
  {
   "cell_type": "code",
   "execution_count": null,
   "metadata": {},
   "outputs": [],
   "source": [
    "side_of_square = 5\n",
    "\n",
    "area_of_square = side_of_square * side_of_square\n",
    "area_of_square"
   ]
  },
  {
   "cell_type": "markdown",
   "metadata": {},
   "source": [
    "**Exercise:** Write an expression with both integers and floats, and assign the result to a variable."
   ]
  },
  {
   "cell_type": "code",
   "execution_count": null,
   "metadata": {},
   "outputs": [],
   "source": [
    "## YOUR CODE GOES HERE ##"
   ]
  },
  {
   "cell_type": "markdown",
   "metadata": {},
   "source": [
    "#### 2.4.2.1. Casting\n",
    "\n",
    "We can convert other data types to integers and floats using the `int()` and `float()` functions.  Using these functions to change a value's data type is called casting. Other data types have their own functions for casting data objects. In the code cell below, notice how we have to cast the string `'4'` to an integer so that we can calculate the perimeter of a triangle."
   ]
  },
  {
   "cell_type": "code",
   "execution_count": null,
   "metadata": {},
   "outputs": [],
   "source": [
    "side = '4'\n",
    "\n",
    "side = int(side)\n",
    "\n",
    "perimeter = side + side + side\n",
    "perimeter"
   ]
  },
  {
   "cell_type": "markdown",
   "metadata": {},
   "source": [
    "**Exercise:** Run the following code cell. What is causing the error, and how can we change the code so it runs without throwing an error?"
   ]
  },
  {
   "cell_type": "code",
   "execution_count": null,
   "metadata": {},
   "outputs": [],
   "source": [
    "my_num = '100.5'\n",
    "my_num = int(my_num)\n",
    "my_num"
   ]
  },
  {
   "cell_type": "markdown",
   "metadata": {},
   "source": [
    "#### 2.4.2.2. Arithmetic Operators\n",
    "\n",
    "| Operator  | Operation                            |\n",
    "| :-------: | :----------------------------------- |\n",
    "| `**`        | exponent                             |\n",
    "| `*`         | multiplication                       |\n",
    "| `/`         | division                             |\n",
    "| `//`        | floor division - rounds down the result of division                       |\n",
    "| `%`         | modulus - returns only the remainder of division|\n",
    "| `+`         | addition                             |\n",
    "| `-`         | subtraction                          |"
   ]
  },
  {
   "cell_type": "markdown",
   "metadata": {},
   "source": [
    "View the arithmetic expressions in the cells below. Note that each `print()` statement below contains two elements: a string, and the expression itself. The arithmetic expression is evaluated and its result is printed next to the string."
   ]
  },
  {
   "cell_type": "code",
   "execution_count": null,
   "metadata": {},
   "outputs": [],
   "source": [
    "print('10.2 + 0.8 =', 10.2 + 0.8)\n",
    "print('4 - 6 =', 4 - 6)\n",
    "print('8 * 2 =', 8 * 2)\n",
    "print('10 / 3 =', 10 / 3) "
   ]
  },
  {
   "cell_type": "code",
   "execution_count": null,
   "metadata": {},
   "outputs": [],
   "source": [
    "print('10 // 3 =', 10 // 3)\n",
    "print('10 % 3 =', 10 % 3)\n",
    "print('2 ** 3 =', 2 ** 3) "
   ]
  },
  {
   "cell_type": "markdown",
   "metadata": {},
   "source": [
    "Python will evaluate arithmetic expressions in the order P,E,MD,AS: parentheses, exponents, multiplication and division (floor division, modulus), then addition and subtraction. For groupings of multiplication and division, as well as for groupings of addition and subtraction, the order is based on position and works from left to right. Work through the formula/expression below to understand how it produces the result, then run it to check if you were right."
   ]
  },
  {
   "cell_type": "code",
   "execution_count": null,
   "metadata": {},
   "outputs": [],
   "source": [
    "3 - 36 / (2 * 3) ** 2"
   ]
  },
  {
   "cell_type": "markdown",
   "metadata": {},
   "source": [
    "**Exercise:** Write a new arithmetic expression in the code cell below. Include a string-to-number casting function."
   ]
  },
  {
   "cell_type": "code",
   "execution_count": null,
   "metadata": {},
   "outputs": [],
   "source": [
    "## YOUR CODE GOES HERE ##"
   ]
  },
  {
   "cell_type": "markdown",
   "metadata": {},
   "source": [
    "#### 2.4.2.3. Assignment Operators\n",
    "\n",
    "In Python, a single equals sign (`=`) is used to assign values to variables.  The assignment operators below are used to adjust and assign values simultaneously. These operators are really just abbreviations of longer equations.  See the examples below, then create your own.\n",
    "\n",
    "| Operator  | Operation                            |\n",
    "| :-------: | :----------------------------------- |\n",
    "| `+=`        | adds right operand to the left operand, then assigns the result to left operand |\n",
    "| `-=`        | subtracts right operand from the left operand, then assigns the result to left operand |\n",
    "| `*=`        | multiply right operand by the left operand, then assigns the result to left operand |"
   ]
  },
  {
   "cell_type": "code",
   "execution_count": null,
   "metadata": {},
   "outputs": [],
   "source": [
    "n = 100\n",
    "n += 1\n",
    "n"
   ]
  },
  {
   "cell_type": "markdown",
   "metadata": {},
   "source": [
    "Above, the `+=` adds `1` to `n` and then resets `n` to that new value (in this case `101`). The above is equivalent to the code below, where we add `1` to `n` explicitly and assign the result back to `n`."
   ]
  },
  {
   "cell_type": "code",
   "execution_count": null,
   "metadata": {},
   "outputs": [],
   "source": [
    "n = 100\n",
    "n = n + 1\n",
    "n"
   ]
  },
  {
   "cell_type": "markdown",
   "metadata": {},
   "source": [
    "**Exercise:** Write your own equation using an assignment operator below."
   ]
  },
  {
   "cell_type": "code",
   "execution_count": null,
   "metadata": {},
   "outputs": [],
   "source": [
    "## YOUR CODE GOES HERE ##"
   ]
  },
  {
   "cell_type": "markdown",
   "metadata": {},
   "source": [
    "<hr>\n",
    "<a id='Strings'></a>\n",
    "\n",
    "### 2.4.3. Strings\n",
    "\n",
    "#### References:\n",
    "* [Python: Strings](https://docs.python.org/3.4/tutorial/introduction.html#strings)\n",
    "* [Python: string - Common string operations](https://docs.python.org/3.4/library/string.html#module-string)\n",
    "* [Wikipedia: ASCII](https://simple.wikipedia.org/wiki/ASCII)\n",
    "\n",
    "Strings are immutable sequences of zero or more characters. In Python 3, strings can include extended character sets such as Unicode. Example Unicode characters are shown below. Strings are always wrapped in quotation marks. We can use single quotes (`''`), double quotes (`\"\"`), or three sets of quotation marks often called triple quotes (`\"\"\" \"\"\"`)."
   ]
  },
  {
   "cell_type": "markdown",
   "metadata": {},
   "source": [
    "#### 2.4.3.1. Creating Strings\n",
    "Use a set of single, double, or triple quotation marks to create a string."
   ]
  },
  {
   "cell_type": "code",
   "execution_count": null,
   "metadata": {},
   "outputs": [],
   "source": [
    "empty_string_2 = ''\n",
    "empty_string_2"
   ]
  },
  {
   "cell_type": "code",
   "execution_count": null,
   "metadata": {},
   "outputs": [],
   "source": [
    "first_name = 'George'\n",
    "first_name"
   ]
  },
  {
   "cell_type": "code",
   "execution_count": null,
   "metadata": {},
   "outputs": [],
   "source": [
    "last_name = \"Washington\"\n",
    "last_name"
   ]
  },
  {
   "cell_type": "markdown",
   "metadata": {},
   "source": [
    "If you try and write multi-line strings using single or double quotes, you will get an error telling you that it did not expect the end of line: it was expecting a closing quote on that same line, as you can see below."
   ]
  },
  {
   "cell_type": "code",
   "execution_count": null,
   "metadata": {},
   "outputs": [],
   "source": [
    "nce_address = 'NATIONAL GEOSPATIAL-INTELLIGENCE AGENCY\n",
    "7500 GEOINT Drive \n",
    "Springfield, Virginia 22150\n",
    "571-557-5400'\n",
    "\n",
    "print(nce_address)"
   ]
  },
  {
   "cell_type": "markdown",
   "metadata": {},
   "source": [
    "Triple quotes allow you to define a string that spans multiple lines. Note how whitespace (new lines, spaces, and tabs) is included as part of the string and the formatting is preserved."
   ]
  },
  {
   "cell_type": "code",
   "execution_count": null,
   "metadata": {},
   "outputs": [],
   "source": [
    "ncw_address = '''NATIONAL GEOSPATIAL-INTELLIGENCE AGENCY\n",
    "3200 S 2nd St\n",
    "St. Louis, Missouri 63118\n",
    "(571) 557-5400'''\n",
    "\n",
    "print(ncw_address)"
   ]
  },
  {
   "cell_type": "markdown",
   "metadata": {},
   "source": [
    "We also create strings by casting other data types using the `str()` function."
   ]
  },
  {
   "cell_type": "code",
   "execution_count": null,
   "metadata": {},
   "outputs": [],
   "source": [
    "str(3.1415)"
   ]
  },
  {
   "cell_type": "markdown",
   "metadata": {},
   "source": [
    "**Exercise:** Create a string in the cell below and store it into a variable. Then, print the variable."
   ]
  },
  {
   "cell_type": "code",
   "execution_count": null,
   "metadata": {},
   "outputs": [],
   "source": [
    "## YOUR CODE GOES HERE ##"
   ]
  },
  {
   "cell_type": "markdown",
   "metadata": {},
   "source": [
    "#### 2.4.3.2. Indexing and Slicing a String</b>\n",
    "\n",
    "Strings in Python are treated as sequences of characters. So Python assigns numeric indexes to each item, starting from zero. Each index also has a corresponding negative index, which the graphic below illustrates. We can access individual characters or substrings of characters (called slices) using index numbers. \n",
    "\n",
    "<img src=\"./GRAPHICS/arrayIndex.png\" width=\"40%\">"
   ]
  },
  {
   "cell_type": "code",
   "execution_count": null,
   "metadata": {},
   "outputs": [],
   "source": [
    "sample_string = 'four score and seven years ago'\n",
    "sample_string[1]"
   ]
  },
  {
   "cell_type": "markdown",
   "metadata": {},
   "source": [
    "Notice what happens if we try to access an index that is not contained in our sequence."
   ]
  },
  {
   "cell_type": "code",
   "execution_count": null,
   "metadata": {},
   "outputs": [],
   "source": [
    "sample_string[100]"
   ]
  },
  {
   "cell_type": "markdown",
   "metadata": {},
   "source": [
    "**Slicing**\n",
    "\n",
    "Slicing is similar to indexing except you are accessing multiple items instead of a single element. A slice can be of any size, and to create one we need to specify its start and stop indexes.\n",
    "\n",
    "| Syntax               | Description                               |\n",
    "|:----------------------:|-------------------------------------------|\n",
    "|`string_variable[i]`|Returns the character at index `i` from the string|\n",
    "|`string_variable[start:stop]`| Returns the characters from `start` up to but not including `stop`|\n",
    "\n",
    "Below, we access all characters from index `5` up to (but not including) index `10`."
   ]
  },
  {
   "cell_type": "code",
   "execution_count": null,
   "metadata": {},
   "outputs": [],
   "source": [
    "sample_string[5:10] "
   ]
  },
  {
   "cell_type": "markdown",
   "metadata": {},
   "source": [
    "Below, we get all characters from index `0` up to index `4`. If you do not specify a start index, it is assumed to be `0`."
   ]
  },
  {
   "cell_type": "code",
   "execution_count": null,
   "metadata": {},
   "outputs": [],
   "source": [
    "sample_string[:4]"
   ]
  },
  {
   "cell_type": "markdown",
   "metadata": {},
   "source": [
    "If you do not specify a stop index, the slice will include everything from the start index up to (and including) the end of the string. Below, we access all characters from index `15` onward."
   ]
  },
  {
   "cell_type": "code",
   "execution_count": null,
   "metadata": {
    "scrolled": true
   },
   "outputs": [],
   "source": [
    "sample_string[-3:]"
   ]
  },
  {
   "cell_type": "markdown",
   "metadata": {},
   "source": [
    "**Exercise:** Create a string in the cell below and save it to a variable. Then, print a single character and a slice of that string."
   ]
  },
  {
   "cell_type": "code",
   "execution_count": null,
   "metadata": {},
   "outputs": [],
   "source": [
    "## YOUR CODE GOES HERE ##"
   ]
  },
  {
   "cell_type": "markdown",
   "metadata": {},
   "source": [
    "**2.4.3.3. Methods and Operations**\n",
    "\n",
    "String methods are functions that can be applied to manipulate strings. These methods all return modified copies of the original string and leave the original string unaltered.\n",
    "\n",
    "The `.upper()` method produces a new string where all alphabetic characters are upper case. The `.lower()` method produces a new string where all alphabetic characters are lower case.\n",
    "\n",
    "| Syntax               | Description                               |\n",
    "|:----------------------:|-------------------------------------------|\n",
    "|`string_variable.upper()`        | Returns an upper case string |\n",
    "|`string_variable.lower()`       | Returns a lower case string |"
   ]
  },
  {
   "cell_type": "code",
   "execution_count": null,
   "metadata": {},
   "outputs": [],
   "source": [
    "greeting = 'hello'\n",
    "greeting.upper()"
   ]
  },
  {
   "cell_type": "code",
   "execution_count": null,
   "metadata": {},
   "outputs": [],
   "source": [
    "farewell = 'GOODBYE'\n",
    "farewell.lower()"
   ]
  },
  {
   "cell_type": "markdown",
   "metadata": {},
   "source": [
    "Note that neither of these original values are changed, as we see below:"
   ]
  },
  {
   "cell_type": "code",
   "execution_count": null,
   "metadata": {
    "scrolled": true
   },
   "outputs": [],
   "source": [
    "print(greeting, farewell)"
   ]
  },
  {
   "cell_type": "markdown",
   "metadata": {},
   "source": [
    "If you would like to hold on to the new version instead of just displaying the altered copy, you have to save it to variable. If you save it to the same variable name, we call that \"overwriting the variable.\""
   ]
  },
  {
   "cell_type": "code",
   "execution_count": null,
   "metadata": {},
   "outputs": [],
   "source": [
    "# Saving to new variable:\n",
    "new_greeting = greeting.upper()\n",
    "\n",
    "# Overwriting the variable:\n",
    "farewell = farewell.lower()"
   ]
  },
  {
   "cell_type": "markdown",
   "metadata": {},
   "source": [
    "The `.strip()` method removes leading and trailing characters from a string. If you do not tell it what to strip, `.strip()` will just remove whitespace characters (spaces, newlines, etc.). The `.find()` method looks for a substring and returns the index location of the first character of the first instance of the substring if it finds it; otherwise it returns `-1`. The `.replace()` method returns a copy of the original string where every instance of a specified substring (the first argument) is replaced with a replacement string (the second argument).\n",
    "\n",
    "| Syntax               | Description                               |\n",
    "|:----------------------:|-------------------------------------------|\n",
    "|`string_variable.strip(chars)` | Removes any character found in `chars` from the beginning and end of a string |\n",
    "|`string_variable.find(substring)`    | Searches a string for `substring` and returns the index location of first <br>character of the first instance of `substring` or `-1` if substring is not found |\n",
    "|`string_variable.replace(substring, new)` | Replaces all occurrences of `substring` with `new` |"
   ]
  },
  {
   "cell_type": "code",
   "execution_count": null,
   "metadata": {},
   "outputs": [],
   "source": [
    "spacey_str = '       1234032E    '\n",
    "spacey_str.strip()"
   ]
  },
  {
   "cell_type": "code",
   "execution_count": null,
   "metadata": {},
   "outputs": [],
   "source": [
    "states = 'Alabama, Alaska, Arizona, Arkansas...'\n",
    "states.find('Arizona')"
   ]
  },
  {
   "cell_type": "code",
   "execution_count": null,
   "metadata": {},
   "outputs": [],
   "source": [
    "date_str = '01/01/2000'\n",
    "date_str.replace('/', '-')"
   ]
  },
  {
   "cell_type": "markdown",
   "metadata": {},
   "source": [
    "The `.split()` method creates a list of strings by splitting the original string on a delimiter that we specify. The delimiter can be a single character or multiple characters, and the default behavior if no argument is passed is to split on whitespace characters. The `.join()` method does the inverse of `.split()`. It creates a single string from a list of strings by joining them around a delimiter. The relationship between the `.split()` and `.join()` functions can be described by this graphic:\n",
    "\n",
    "<img src=\"./GRAPHICS/StringSplitJoin.png\" width=\"33%\">\n",
    "\n",
    "| Syntax               | Description                               |\n",
    "|:----------------------:|-------------------------------------------|\n",
    "|`string_variable.split(substring)`   | Splits a string into a list of strings using `substring` as a delimiter|\n",
    "|`string_variable.join(list_of_strings)`   | Creates one string from a list of strings by joining them with `string_variable`|"
   ]
  },
  {
   "cell_type": "code",
   "execution_count": null,
   "metadata": {},
   "outputs": [],
   "source": [
    "sentence = 'A bunch of words separated by spaces'\n",
    "sentence.split()"
   ]
  },
  {
   "cell_type": "code",
   "execution_count": null,
   "metadata": {},
   "outputs": [],
   "source": [
    "date = ['05', '07', '2018']\n",
    "'/'.join(date)"
   ]
  },
  {
   "cell_type": "markdown",
   "metadata": {},
   "source": [
    "**Exercise:** Take the dates below and reformat them both to the following format: `mm/dd/yyyy`."
   ]
  },
  {
   "cell_type": "code",
   "execution_count": null,
   "metadata": {},
   "outputs": [],
   "source": [
    "date_1 = '01-02-2018'\n",
    "date_2 = '--12.18.1983--'"
   ]
  },
  {
   "cell_type": "code",
   "execution_count": null,
   "metadata": {},
   "outputs": [],
   "source": [
    "## YOUR CODE GOES HERE ##"
   ]
  },
  {
   "cell_type": "markdown",
   "metadata": {},
   "source": [
    "We can concatenate, or chain together, two strings using the plus sign (`+`). We can repeat strings with the multiplication sign. Just like in math, multiplication is just repeated addition."
   ]
  },
  {
   "cell_type": "code",
   "execution_count": null,
   "metadata": {},
   "outputs": [],
   "source": [
    "f_name = 'G.'\n",
    "l_name = 'van Rossum'\n",
    "\n",
    "f_name + ' ' + l_name"
   ]
  },
  {
   "cell_type": "code",
   "execution_count": null,
   "metadata": {},
   "outputs": [],
   "source": [
    "'-' * 50"
   ]
  },
  {
   "cell_type": "markdown",
   "metadata": {},
   "source": [
    "**Exercise:** Using slicing and string concatenation (`+`) reformat the dates below in the following format: `mm/dd/yyyy`."
   ]
  },
  {
   "cell_type": "code",
   "execution_count": null,
   "metadata": {},
   "outputs": [],
   "source": [
    "date_3 = '04052016'\n",
    "date_4 = '1776,07.04'"
   ]
  },
  {
   "cell_type": "code",
   "execution_count": null,
   "metadata": {},
   "outputs": [],
   "source": [
    "## YOUR CODE GOES HERE ##"
   ]
  },
  {
   "cell_type": "markdown",
   "metadata": {},
   "source": [
    "<hr>\n",
    "<a id='None'></a>\n",
    "\n",
    "### 2.4.4. The None Type\n",
    "\n",
    "#### References:\n",
    "* [W3 Schools: None](https://www.w3schools.com/python/ref_keyword_none.asp)\n",
    "\n",
    "The None data type only has one possible value, `None`, which is used to indicate the absence of data. `None` is not the same as zero, an empty list, or an empty string. The `None` type is used to indicate an empty cell in a table or spreadsheet. Other uses of `None` will become evident when we begin to create functions in this course. "
   ]
  },
  {
   "cell_type": "code",
   "execution_count": null,
   "metadata": {},
   "outputs": [],
   "source": [
    "type(None)"
   ]
  },
  {
   "cell_type": "markdown",
   "metadata": {},
   "source": [
    "`None` is not equivalent to empty data structures such as the empty string (`''`), or the empty list (`[]`), nor is it equivalent to zero (`0`)."
   ]
  },
  {
   "cell_type": "code",
   "execution_count": null,
   "metadata": {},
   "outputs": [],
   "source": [
    "None == 0"
   ]
  },
  {
   "cell_type": "code",
   "execution_count": null,
   "metadata": {},
   "outputs": [],
   "source": [
    "None == ''"
   ]
  },
  {
   "cell_type": "markdown",
   "metadata": {},
   "source": [
    "***\n",
    "<a id=\"GuidedExercise\"></a>\n",
    "## 2.5. Guided Exercise: Solving a Practical Exercise"
   ]
  },
  {
   "cell_type": "markdown",
   "metadata": {},
   "source": [
    "Throughout this week, at the end of every lesson and guided exercise there will be multiple practical exercises to practice applying the lesson content. \n",
    "\n",
    "Guidelines to solving Practical Exercises:\n",
    "1. Read the question carefully and discuss with a neighbor what the problem is asking. \n",
    "3. Pseudocode! Without any code, write out the steps that you should take to solve this problem.\n",
    "4. Convert the pseudocode steps into actual code. \n",
    "5. Compare with either input/output tables or neighbors to confirm that your code is giving you the correct answer\n",
    "\n",
    "Remember: Coding is not a one person mission, so talk to your neighbors!"
   ]
  },
  {
   "cell_type": "markdown",
   "metadata": {},
   "source": [
    "**Practical Exercise Example:** Write code to covert Celsius temperatures to Fahrenheit. The formula is as follows:\n",
    "```Python\n",
    "fahrenheit = (celsius * (9/5)) + 32\n",
    "```\n",
    "| Example Input | Expected Output |\n",
    "|:---:|:---:|\n",
    "| `100`  |`212`  |\n",
    "| `0`   |` 32`   |\n",
    "| `-40`  |`-40`  |\n",
    "\n",
    "> NOTE: The input/output table is meant to show expected outputs for given example inputs. Use it to check your code."
   ]
  },
  {
   "cell_type": "markdown",
   "metadata": {},
   "source": [
    "**Pseudocode:**\n",
    "- Input: A number of degrees in Celsius\n",
    "- Output: A number of degrees in Fahrenheit\n",
    "\n",
    "\n",
    "1. Use the formula given to do the conversion\n",
    "2. Print or display the result"
   ]
  },
  {
   "cell_type": "code",
   "execution_count": null,
   "metadata": {},
   "outputs": [],
   "source": [
    "celsius = 100\n",
    "\n",
    "fahrenheit = (celsius * (9/5)) + 32\n",
    "fahrenheit"
   ]
  },
  {
   "cell_type": "markdown",
   "metadata": {},
   "source": [
    "Now that we have the final answer, we can refer back to the input/output table in order to check that we have the correct answer. Then, if those outputs match, try the other outputs to make sure your code is working for a variety of inputs."
   ]
  },
  {
   "cell_type": "code",
   "execution_count": null,
   "metadata": {},
   "outputs": [],
   "source": [
    "celsius = 0\n",
    "\n",
    "fahrenheit = (celsius * (9/5)) + 32\n",
    "fahrenheit"
   ]
  },
  {
   "cell_type": "markdown",
   "metadata": {},
   "source": [
    "After trying all the inputs, if we keep getting the expected output then we have successfully solved the problem being asked. "
   ]
  },
  {
   "cell_type": "markdown",
   "metadata": {},
   "source": [
    "<hr>\n",
    "<a id='PracticalExercises'></a>\n",
    "\n",
    "## 2.6. Practical Exercises\n",
    "\n",
    "<hr>\n",
    "<a id='PE1'></a>\n",
    "\n",
    "### 2.6.1. Practical Exercise 1: Casting\n",
    "\n",
    "<b>References:</b>\n",
    "* [PythonSpot: Datatype casting](https://pythonspot.com/datatype-casting/)\n",
    "\n",
    "Cast the following two values into floats and then add them together."
   ]
  },
  {
   "cell_type": "code",
   "execution_count": null,
   "metadata": {},
   "outputs": [],
   "source": [
    "costs_2016 = '912765.56'\n",
    "costs_2017 = '864920.21'"
   ]
  },
  {
   "cell_type": "code",
   "execution_count": null,
   "metadata": {},
   "outputs": [],
   "source": [
    "## YOUR CODE GOES HERE ##"
   ]
  },
  {
   "cell_type": "markdown",
   "metadata": {},
   "source": [
    "<hr> <a id='PE2'></a>\n",
    "\n",
    "### 2.6.2. Practical Exercise 2: How Big is Washington, D.C.?\n",
    "\n",
    "In accordance with the Residence Act of 1790, Washington, D.C. was declared to be a square diamond 10 miles wide by 10 miles wide using land ceded from Maryland and Virginia.  However, in the 1840s the Virginia state government said, \"Give us our land back! We want those citizens to vote in our commonwealth.\" and Virginia got 31.6518 square miles of land back from the nation's capital.<br>\n",
    "\n",
    "How big is D.C. today? Assign numeric values to variables before doing calculations.  Use `print()` to give your final answer as a full sentence.\n",
    "\n",
    "<img src=\"./GRAPHICS/WashingtonDC.png\" width=\"33%\">\n",
    "\n",
    "HINT: Two ways to find the area of a square are: (`length_of_a_side ** 2`) or (`length_of_a_side * length_of_a_side`)"
   ]
  },
  {
   "cell_type": "code",
   "execution_count": null,
   "metadata": {},
   "outputs": [],
   "source": [
    "## YOUR CODE GOES HERE ##"
   ]
  },
  {
   "cell_type": "markdown",
   "metadata": {},
   "source": [
    "<hr> <a id='PE3'></a>\n",
    "\n",
    "### 2.6.3. Practical Exercise 3: Cleaning Data\n",
    "\n",
    "In the code cell below, there are four string values representing coordinates in Degrees-Minutes-Seconds (DMS) format. Standardize the format of each the coordinates below. Each example requires different code to fix, so treat each coordinate seperately. Do not attempt to write one script to reformat all of the examples at once. The desired formats are as follows:\n",
    "* longitude: `DDDMMSS` + `E` or `W` (Example: `1104523E`)\n",
    "* latitude: `DDMMSS` + `N` or `S` (Example: `432602N`)\n",
    "\n",
    "> NOTE: Latitude ranges from 0 to 90 degrees, and longitude ranges from 0 to 180 degrees.\n",
    "\n",
    "Do not attempt to write one script to reformat all of the examples at once, but rather treat each case separately. For example, for the input `c2 = ' 1200001E '`, one acceptable answer is `c2.strip()`, even though this same code wouldn't fix any of the other examples.\n",
    "\n",
    "| Example Input | Expected Output |\n",
    "|:-------:|:-----------------:|\n",
    "| `'n435421'` | `'435421N'` |\n",
    "| `' 1200001E '` | `'1200001E'` |\n",
    "| `'781130-(S) '` | `'781130S'` |\n",
    "| `'e 093.48.71'` | `'0934871E'` |"
   ]
  },
  {
   "cell_type": "code",
   "execution_count": null,
   "metadata": {},
   "outputs": [],
   "source": [
    "c1 = 'n435421'\n",
    "c2 = ' 1200001E '\n",
    "c3 = '781130-(S) '\n",
    "c4 = 'e 093.48.71'"
   ]
  },
  {
   "cell_type": "code",
   "execution_count": null,
   "metadata": {},
   "outputs": [],
   "source": [
    "## YOUR CODE GOES HERE ##"
   ]
  },
  {
   "cell_type": "markdown",
   "metadata": {},
   "source": [
    "<hr>\n",
    "<a id='PE4'></a>\n",
    "\n",
    "### 2.6.4. Practical Exercise 4: Radio Signal Travel Time\n",
    "\n",
    "Calculate to see how long, in hours, a radio signal (which travels at the speed of light) takes to reach Earth from the Voyager 1 spacecraft. First use comments in the code cell below to write out the steps of calculation or unit conversion that are needed to find the answer.  Then write the code to execute these steps. Make your answer print out as a complete sentence. HINT: Start with the speed of light in kilometers per hour to write less code.\n",
    "\n",
    "<img src=\"./GRAPHICS/Voyager.png\" width=\"25%\">\n",
    "\n",
    "|Helpful values |  |\n",
    "|:---|:---:|\n",
    "|Speed of light in kilometers per hour| `1079252848.8`|\n",
    "|Voyager 1 distance from Earth in kilometers| `20836509700` |"
   ]
  },
  {
   "cell_type": "code",
   "execution_count": null,
   "metadata": {},
   "outputs": [],
   "source": [
    "## YOUR CODE GOES HERE ##"
   ]
  },
  {
   "cell_type": "markdown",
   "metadata": {},
   "source": [
    "<hr>\n",
    "\n",
    "<a id='PE5'></a>\n",
    "### 2.6.5. Practical Exercise 5: Restaurant Bill\n",
    "\n",
    "Calculate the overall cost of a restaurant bill given the pre-tax total, tax rate, and tip percentage. Apply a tip to the post-tax cost of the meal to get your final output.\n",
    "\n",
    "| Example Input | Expected Output |\n",
    "|:-------|:-----------------:|\n",
    "| `bill = 44.50`<br>`tax = .0675`<br>`tip = .15` | `54.63` |\n",
    "| `bill = 100`<br>`tax = .09`<br>`tip = .20` | `130.80` |\n",
    "| `bill = 567.34`<br>`tax = .0525`<br>`tip = .20` | `716.55` |\n",
    "\n",
    "HINT: Multiply a value by `(1 + percentage)` to get the sum of the original value plus that percentage of the original value."
   ]
  },
  {
   "cell_type": "code",
   "execution_count": null,
   "metadata": {},
   "outputs": [],
   "source": [
    "## YOUR CODE GOES HERE ##"
   ]
  },
  {
   "cell_type": "markdown",
   "metadata": {},
   "source": [
    "<hr>\n",
    "\n",
    "<a id='PE6'></a>\n",
    "### 2.6.6. Practical Exercise 6: Hours, Minutes, and Seconds\n",
    "\n",
    "**Problem 1:** Given a number of seconds (int or float), output the equivalent amount of time in minutes and seconds as a string.\n",
    "\n",
    "| Example Input | Expected Output |\n",
    "|:-------:|:-----------------:|\n",
    "| `seconds = 257` | `'4 minutes and 17 seconds'` |\n",
    "| `seconds = 7904` | `'131 minutes and 44 seconds'` |\n",
    "| `seconds = 1000` | `'16 minutes and 40 seconds'` |\n",
    "| `seconds = 123123` | `'2052 minutes and 3 seconds'` |"
   ]
  },
  {
   "cell_type": "code",
   "execution_count": null,
   "metadata": {},
   "outputs": [],
   "source": [
    "## YOUR CODE GOES HERE ##"
   ]
  },
  {
   "cell_type": "markdown",
   "metadata": {},
   "source": [
    "**Problem 2:** Incorporate the number of hours into the output as well so that the output is in the format `'X hours, Y minutes, and Z seconds'`.\n",
    "\n",
    "| Example Input | Expected Output |\n",
    "|:-------:|:-----------------:|\n",
    "| `seconds = 257` | `'0 hours, 4 minutes, and 17 seconds'` |\n",
    "| `seconds = 7904` | `'2 hours, 11 minutes, and 44 seconds'` |\n",
    "| `seconds = 1000` | `'0 hours, 16 minutes, and 40 seconds'` |\n",
    "| `seconds = 123123` | `'34 hours, 12 minutes, and 3 seconds'` |"
   ]
  },
  {
   "cell_type": "code",
   "execution_count": null,
   "metadata": {},
   "outputs": [],
   "source": [
    "## YOUR CODE GOES HERE ##"
   ]
  },
  {
   "cell_type": "markdown",
   "metadata": {},
   "source": [
    "<hr> \n",
    "\n",
    "<a id='PE7'></a>\n",
    "### 2.6.7. Practical Exercise 7: String Slicing Exercises\n",
    "\n",
    "**Problem 1:** Using slicing and concatenation, print out James Bond's name as 'Bond, James Bond.'"
   ]
  },
  {
   "cell_type": "code",
   "execution_count": null,
   "metadata": {},
   "outputs": [],
   "source": [
    "name = 'James Bond'"
   ]
  },
  {
   "cell_type": "code",
   "execution_count": null,
   "metadata": {},
   "outputs": [],
   "source": [
    "## YOUR CODE GOES HERE ##"
   ]
  },
  {
   "cell_type": "markdown",
   "metadata": {},
   "source": [
    "**Problem 2:** Slice the following text to just get the mission, start date, location, and coordinates (without the labels).<br>\n",
    "\n",
    "HINT: Use the `.find()` string function to search for specific text and find the index location, then use the location as a start or stop index in a slice."
   ]
  },
  {
   "cell_type": "code",
   "execution_count": null,
   "metadata": {},
   "outputs": [],
   "source": [
    "mission_text = '''Your mission, should you choose to accept it: \n",
    "You must infiltrate the terrorist group SPECTRE and retrieve the ancient artifact\n",
    "\n",
    "Start Date: 07/18/2025\n",
    "Location: Hidden Base in the Pacific Ocean\n",
    "Coordinates: 15.121054, 177.902503\n",
    "This message will self-destruct in five seconds'''"
   ]
  },
  {
   "cell_type": "code",
   "execution_count": null,
   "metadata": {},
   "outputs": [],
   "source": [
    "## YOUR CODE GOES HERE ##"
   ]
  },
  {
   "cell_type": "markdown",
   "metadata": {},
   "source": [
    "<hr> \n",
    "\n",
    "<a id='PE8'></a>\n",
    "### 2.6.8. [Challenge] Practical Exercise 8: Slicing with the Step Parameter"
   ]
  },
  {
   "cell_type": "markdown",
   "metadata": {},
   "source": [
    "There is an optional parameter in slicing which controls what is called the _step_. By default the step is 1, so it captures every character. If you set the step to 2, it would get every other character. A step of 3 would get every third, and so on. Run the code cells below to see some examples of using step in a slice."
   ]
  },
  {
   "cell_type": "code",
   "execution_count": null,
   "metadata": {},
   "outputs": [],
   "source": [
    "text = 't h i s   i s   a   s t r i n g   e x a m p l e'"
   ]
  },
  {
   "cell_type": "code",
   "execution_count": null,
   "metadata": {},
   "outputs": [],
   "source": [
    "text[::2]"
   ]
  },
  {
   "cell_type": "code",
   "execution_count": null,
   "metadata": {},
   "outputs": [],
   "source": [
    "text[::3]"
   ]
  },
  {
   "cell_type": "code",
   "execution_count": null,
   "metadata": {},
   "outputs": [],
   "source": [
    "text[::4]"
   ]
  },
  {
   "cell_type": "code",
   "execution_count": null,
   "metadata": {},
   "outputs": [],
   "source": [
    "text[::-1]"
   ]
  },
  {
   "cell_type": "markdown",
   "metadata": {},
   "source": [
    "**Problem 1:** The message in the following code cell was sent by a fellow field agent. Decode it by slicing every 4th character using the step parameter."
   ]
  },
  {
   "cell_type": "code",
   "execution_count": null,
   "metadata": {},
   "outputs": [],
   "source": [
    "message = '075303557674 dwxpgsjldxeetsgavafshsyedfs dtdhthieddelvfhp'"
   ]
  },
  {
   "cell_type": "code",
   "execution_count": null,
   "metadata": {},
   "outputs": [],
   "source": [
    "## YOUR CODE GOES HERE ##"
   ]
  },
  {
   "cell_type": "markdown",
   "metadata": {},
   "source": [
    "**Problem 2:** Use the step parameter to reverse your name, and fix the capitalization.\n",
    "\n",
    "|Example Input | Expexted Output |\n",
    "|:---|:---:|\n",
    "|`'Jimmy'`| `'Ymmij'` |\n",
    "|`'Sacha'`| `'Ahcas'` |\n",
    "|`'Doris'`| `'Sirod'` |"
   ]
  },
  {
   "cell_type": "code",
   "execution_count": null,
   "metadata": {},
   "outputs": [],
   "source": [
    "## YOUR CODE GOES HERE ##"
   ]
  },
  {
   "cell_type": "markdown",
   "metadata": {},
   "source": [
    "<hr> \n",
    "\n",
    "<a id='PE9'></a>\n",
    "### 2.6.9. [Challenge] Practical Exercise 9: Processing Markup Languages\n",
    "\n",
    "Below is data in a fake markup language. The tags (e.g. `<a>`, `</a>`) make it possible to programmatically find and extract elements of the data. Using a combination of string methods, we can write a script that will analyze this data. We want to process the data into a format we can more easily use. Here's the sample data we'll be using:\n",
    "\n",
    "```python\n",
    "s1 = '<a>USGS_datastore_5A</a> <b>Democratic Republic of Congo (DRC)</b> <c>Mount Nyiragongo</c> <d>3470 meters</d>'\n",
    "s2 = '<a>USGS_datastore_1N</a> <b>United States of America (USA)</b> <c>Mount Whitney</c> <d>4421 meters</d>'\n",
    "s3 = '<a>USGS_datastore_8C</a> <b>French Republic (FR)</b> <c>Mont Blanc</c> <d>4808 meters</d>'\n",
    "```\n",
    "\n",
    "**Problem 1:** Write a script that takes a letter representing a tag (e.g. `'a'`) and constructs the full open tag string (`'<a>'`) and close tag string (`'</a>'`).\n",
    "\n",
    "| Example Input | Expected Output |\n",
    "|:-------:|:-----------------:|\n",
    "| `tag = 'a'` | `open_tag = '<a>'`<br>`close_tag = '</a>'` |\n",
    "| `tag = 'b'` | `open_tag = '<b>'`<br>`close_tag = '</b>'` |\n",
    "| `tag = 'd'` | `open_tag = '<d>'`<br>`close_tag = '</d>'` |"
   ]
  },
  {
   "cell_type": "code",
   "execution_count": null,
   "metadata": {},
   "outputs": [],
   "source": [
    "## YOUR CODE GOES HERE ##"
   ]
  },
  {
   "cell_type": "markdown",
   "metadata": {},
   "source": [
    "**Problem 2:** Write a script that takes a string like the ones in our sample data and a letter representing a tag (e.g. `'a'`), and outputs the data value stored inside the tag in the input string.<br>\n",
    "\n",
    "HINT: Use the code you wrote above to construct the full tags, then use `.find()` to find the indexes you want to use in your slice.\n",
    "\n",
    "| Example Input | Expected Output |\n",
    "|:-------:|:-----------------:|\n",
    "| `data = s1`<br>`tag = 'a'` | `'USGS_datastore_5A'` |\n",
    "| `data = s2`<br>`tag = 'b'` | `'United States of America (USA)'` |\n",
    "| `data = s3`<br>`tag = 'd'` | `'4808 meters'` |"
   ]
  },
  {
   "cell_type": "code",
   "execution_count": null,
   "metadata": {},
   "outputs": [],
   "source": [
    "s1 = '<a>USGS_datastore_5A</a> <b>Democratic Republic of Congo (DRC)</b> <c>Mount Nyiragongo</c> <d>3470 meters</d>'\n",
    "s2 = '<a>USGS_datastore_1N</a> <b>United States of America (USA)</b> <c>Mount Whitney</c> <d>4421 meters</d>'\n",
    "s3 = '<a>USGS_datastore_8C</a> <b>French Republic (FR)</b> <c>Mont Blanc</c> <d>4808 meters</d>'"
   ]
  },
  {
   "cell_type": "code",
   "execution_count": null,
   "metadata": {},
   "outputs": [],
   "source": [
    "## YOUR CODE GOES HERE ##"
   ]
  },
  {
   "cell_type": "markdown",
   "metadata": {},
   "source": [
    "<hr> \n",
    "\n",
    "<a id='appendix'></a>\n",
    "## 2.7. Appendix\n",
    "\n",
    "<br><center>**Basic Data Types**</center>\n",
    "\n",
    "| Plain Language Description                              | Python Data Type | `type()` Output |\n",
    "| :------------------------------------------ | :---------------: | :-------------: |\n",
    "| True or False                               | Boolean          | `bool`            |\n",
    "| Whole Numbers                               | Integer          | `int`             |\n",
    "| Decimal Numbers                             | Float            | `float`           |\n",
    "| Sequences of characters including letters, <br>numbers, formatting characters, and punctuation   | String   | `str` |\n",
    "| Nothingness, non-existence; not the same as <br>zero or empty                 | None          | `NoneType`            |\n",
    "\n",
    "<br><center>**Arithmetic Operators**</center>\n",
    "\n",
    "| Operator  | Operation                            |\n",
    "| :-------: | :----------------------------------- |\n",
    "| `**`        | exponent                             |\n",
    "| `*`         | multiplication                       |\n",
    "| `/`         | division                             |\n",
    "| `//`        | floor division - rounds down the result of division                       |\n",
    "| `%`         | modulus - returns only the remainder of division|\n",
    "| `+`         | addition                             |\n",
    "| `-`         | subtraction                          |\n",
    "\n",
    "<br><center>**Assignment Operators**</center>\n",
    "\n",
    "| Operator  | Operation                            |\n",
    "| :-------: | :----------------------------------- |\n",
    "| `+=`        | adds right operand to the left operand, then assigns the result to left operand |\n",
    "| `-=`        | subtracts right operand from the left operand, then assigns the result to left operand |\n",
    "| `*=`        | multiply right operand by the left operand, then assigns the result to left operand |\n",
    "\n",
    "<br><center>**String Methods and Operations**</center>\n",
    "\n",
    "| Syntax               | Description                               |\n",
    "|:----------------------:|-------------------------------------------|\n",
    "|`string_variable[i]`|Returns the character at index `i` from the string|\n",
    "|`string_variable[start:stop]`| Returns the characters from `start` up to but not including `stop`|\n",
    "|`string_variable.upper()`        | Returns an upper case string |\n",
    "|`string_variable.lower()`       | Returns a lower case string |\n",
    "|`string_variable.strip(chars)` | Removes any character found in `chars` from the beginning and end of a string |\n",
    "|`string_variable.find(substring)`    | Searches a string for `substring` and returns the index location of first <br>character of the first instance of `substring` or `-1` if substring is not found |\n",
    "|`string_variable.replace(substring, new)` | Replaces all occurrences of `substring` with `new` |\n",
    "|`string_variable.split(substring)`   | Splits a string into a list of strings using `substring` as a delimiter|\n",
    "|`string_variable.join(list_of_strings)`   | Creates one string from a list of strings by joining them with `string_variable`|\n",
    "|`s1 + s2`| Concatenate `s1` and `s2`|\n",
    "|`s1 * n`| Repeat `s1` `n` times|\n",
    "\n",
    "<br><center>**Casting Functions**</center>\n",
    "\n",
    "| Syntax               | Description                               |\n",
    "|:----------------------:|-------------------------------------------|\n",
    "|`int(x)`|Returns an integer interpretation of `x`, if such an interpretation is possible|\n",
    "|`float(x)`|Returns a float interpretation of `x`, if such an interpretation is possible|\n",
    "|`str(x)`|Returns a string interpretation of `x`, if such an interpretation is possible|\n",
    "|`bool(x)`|Returns a boolean interpretation of `x`, if such an interpretation is possible|"
   ]
  },
  {
   "cell_type": "markdown",
   "metadata": {},
   "source": [
    "<hr>\n",
    "<b><center>UNCLASSIFIED</center></b>"
   ]
  }
 ],
 "metadata": {
  "anaconda-cloud": {},
  "kernelspec": {
   "display_name": "Python 3",
   "language": "python",
   "name": "python3"
  },
  "language_info": {
   "codemirror_mode": {
    "name": "ipython",
    "version": 3
   },
   "file_extension": ".py",
   "mimetype": "text/x-python",
   "name": "python",
   "nbconvert_exporter": "python",
   "pygments_lexer": "ipython3",
   "version": "3.6.6"
  }
 },
 "nbformat": 4,
 "nbformat_minor": 1
}
