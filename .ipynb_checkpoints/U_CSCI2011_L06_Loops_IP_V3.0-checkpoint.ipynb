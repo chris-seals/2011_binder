{
 "cells": [
  {
   "cell_type": "markdown",
   "metadata": {},
   "source": [
    "<b><center>UNCLASSIFIED</center></b>"
   ]
  },
  {
   "cell_type": "markdown",
   "metadata": {},
   "source": [
    "<img src=\"./GRAPHICS/Banner.png\" width=\"110%\">"
   ]
  },
  {
   "cell_type": "markdown",
   "metadata": {},
   "source": [
    "# Lesson 6: Loops"
   ]
  },
  {
   "cell_type": "markdown",
   "metadata": {},
   "source": [
    "## Table of Contents\n",
    "\n",
    "6.1. [Objectives](#Objectives)<br>\n",
    "6.2. [Overview](#Overview)<br>\n",
    "6.3. [Review](#Review)<br>\n",
    "&nbsp;&nbsp;&nbsp;&nbsp;6.3.1. [Lists](#lists)<br>\n",
    "&nbsp;&nbsp;&nbsp;&nbsp;6.3.2. [Sets](#sets)<br>\n",
    "&nbsp;&nbsp;&nbsp;&nbsp;6.3.3. [Dictionaries](#dicts)<br>\n",
    "6.4. [Lesson: Loops](#Lesson)<br>\n",
    "&nbsp;&nbsp;&nbsp;&nbsp;6.4.1. [For Loops](#for)<br>\n",
    "&nbsp;&nbsp;&nbsp;&nbsp;6.4.2. [While Loops](#while)<br>\n",
    "&nbsp;&nbsp;&nbsp;&nbsp;6.4.3. [Break and Continue](#break)<br>\n",
    "6.5. [Guided Exercise: Credit Card Data](#guided)<br>\n",
    "6.6. [Practical Exercises](#Practical)<br>\n",
    "&nbsp;&nbsp;&nbsp;&nbsp;6.6.1. [Practical Exercise 1: Iterating Through a List](#PE1)<br>\n",
    "&nbsp;&nbsp;&nbsp;&nbsp;6.6.2. [Practical Exercise 2: Latitude or Longitude](#PE2)<br>\n",
    "&nbsp;&nbsp;&nbsp;&nbsp;6.6.3. [Practical Exercise 3: Lists in a List](#PE3)<br>\n",
    "&nbsp;&nbsp;&nbsp;&nbsp;6.6.4. [Practical Exercise 4: Sets in a List](#PE4)<br>\n",
    "&nbsp;&nbsp;&nbsp;&nbsp;6.6.5. [Practical Exercise 5: Crime Data](#PE5)<br>\n",
    "&nbsp;&nbsp;&nbsp;&nbsp;6.6.6. [Practical Exercise 6: Shortest and Longest Words](#PE6)<br>\n",
    "&nbsp;&nbsp;&nbsp;&nbsp;6.6.7. [Practical Exercise 7: Digit Degree](#PE7)<br>\n",
    "&nbsp;&nbsp;&nbsp;&nbsp;6.6.8. [Practical Exercise 8: Common Character Count](#PE8)<br>\n",
    "&nbsp;&nbsp;&nbsp;&nbsp;6.6.9. [Practical Exercise 9: Guessing Game](#PE9)<br>\n",
    "6.7. [Appendix](#appendix)<br>"
   ]
  },
  {
   "cell_type": "markdown",
   "metadata": {},
   "source": [
    "<hr>\n",
    "\n",
    "<a id=\"Objectives\"></a>\n",
    "## 6.1. Objectives\n",
    "\n",
    "* Examine the implications of using computation to solve a problem\n",
    "    * Discuss best practices for using computation to solve a problem\n",
    "    * Suggest types of problems that can be solved through computation\n",
    "    * Show how computation can solve a problem\n",
    "<br><br>    \n",
    "* Recognize key computer science concepts\n",
    "    * Identify data types used in Python scripting\n",
    "    * Identify data structures used in Python scripting\n",
    "    * Define variables and strings\n",
    "    * Recognize how queries operate\n",
    "<br><br>    \n",
    "* Demonstrate the ability to build basic scripts using Python scripting language\n",
    "    * Use various data types and structures in Python scripting\n",
    "    * Collect data using Python scripting\n",
    "    * Extract data using Python scripting\n",
    "    * Develop advanced data structures using Python scripting"
   ]
  },
  {
   "cell_type": "markdown",
   "metadata": {},
   "source": [
    "<hr>\n",
    "\n",
    "<a id=\"Overview\"></a>\n",
    "## 6.2. Overview\n",
    "The following material is divided into the following parts:\n",
    "* Lesson\n",
    "* Guided Exercise\n",
    "* Practical Exercises"
   ]
  },
  {
   "cell_type": "markdown",
   "metadata": {},
   "source": [
    "<b><font color=\"brick\">Instructor Guidance</font>: Refer back to Lesson 1 and relate the four steps of problem-solving using Computational Thinking (Decomposition, Pattern Recognition, Abstraction, & Algorithm Design) to lessons, exercises, examples, student questions/comments, etc., as appropriate throughout this lesson.</b>"
   ]
  },
  {
   "cell_type": "markdown",
   "metadata": {},
   "source": [
    "<hr>\n",
    "\n",
    "<a id=\"Review\"></a>\n",
    "## 6.3. Review\n",
    "\n",
    "<hr> \n",
    "\n",
    "<a id='lists'></a>\n",
    "### 6.3.1. Lists\n",
    "\n",
    "**Exercise:** Create a list of at least 5 elements, then print the last three elements using slicing."
   ]
  },
  {
   "cell_type": "code",
   "execution_count": null,
   "metadata": {},
   "outputs": [],
   "source": [
    "## YOUR CODE GOES HERE ##"
   ]
  },
  {
   "cell_type": "code",
   "execution_count": null,
   "metadata": {},
   "outputs": [],
   "source": [
    "## INSTRUCTION SOLUTION(S) ##\n",
    "my_list = [1, 2, 3, 4, 5, 'six']\n",
    "my_list[-3:]"
   ]
  },
  {
   "cell_type": "markdown",
   "metadata": {},
   "source": [
    "**Exercise:** Change the first element of the list you just created using indexing and assignment."
   ]
  },
  {
   "cell_type": "code",
   "execution_count": null,
   "metadata": {},
   "outputs": [],
   "source": [
    "## YOUR CODE GOES HERE ##"
   ]
  },
  {
   "cell_type": "code",
   "execution_count": null,
   "metadata": {},
   "outputs": [],
   "source": [
    "## INSTRUCTION SOLUTION(S) ##\n",
    "my_list[0] = 100\n",
    "my_list"
   ]
  },
  {
   "cell_type": "markdown",
   "metadata": {},
   "source": [
    "**Exercise:** Use `.append()` to add an item to your list and then find its length using `len()`."
   ]
  },
  {
   "cell_type": "code",
   "execution_count": null,
   "metadata": {},
   "outputs": [],
   "source": [
    "## YOUR CODE GOES HERE ##"
   ]
  },
  {
   "cell_type": "code",
   "execution_count": null,
   "metadata": {},
   "outputs": [],
   "source": [
    "## INSTRUCTION SOLUTION(S) ##\n",
    "my_list.append(24)\n",
    "len(my_list)"
   ]
  },
  {
   "cell_type": "markdown",
   "metadata": {},
   "source": [
    "**Exercise:** Use indexing to access the element `'here'` in the list below."
   ]
  },
  {
   "cell_type": "code",
   "execution_count": null,
   "metadata": {},
   "outputs": [],
   "source": [
    "my_list = [[1, 2, 3, 4], [5, 6], [7, 8, 'here', 10]]"
   ]
  },
  {
   "cell_type": "code",
   "execution_count": null,
   "metadata": {},
   "outputs": [],
   "source": [
    "## YOUR CODE GOES HERE ##"
   ]
  },
  {
   "cell_type": "code",
   "execution_count": null,
   "metadata": {},
   "outputs": [],
   "source": [
    "## INSTRUCTION SOLUTION(S) ##\n",
    "my_list[-1][2]"
   ]
  },
  {
   "cell_type": "markdown",
   "metadata": {},
   "source": [
    "*** \n",
    "<a id='sets'></a>\n",
    "### 6.3.2. Sets"
   ]
  },
  {
   "cell_type": "markdown",
   "metadata": {},
   "source": [
    "**Exercise:** Deduplicate the following list by casting it to a set."
   ]
  },
  {
   "cell_type": "code",
   "execution_count": null,
   "metadata": {},
   "outputs": [],
   "source": [
    "num_list = [1, 1, 2, 3, 6, 8, 1, 2, 5, 6, 8]"
   ]
  },
  {
   "cell_type": "code",
   "execution_count": null,
   "metadata": {},
   "outputs": [],
   "source": [
    "## YOUR CODE GOES HERE ##"
   ]
  },
  {
   "cell_type": "code",
   "execution_count": null,
   "metadata": {},
   "outputs": [],
   "source": [
    "## INSTRUCTION SOLUTION(S) ##\n",
    "num_set = set(num_list)\n",
    "num_set"
   ]
  },
  {
   "cell_type": "markdown",
   "metadata": {},
   "source": [
    "**Exercise:** Find the maximum and minimum values of the set you just created using the `max()` and `min()` functions."
   ]
  },
  {
   "cell_type": "code",
   "execution_count": null,
   "metadata": {},
   "outputs": [],
   "source": [
    "## YOUR CODE GOES HERE ##"
   ]
  },
  {
   "cell_type": "code",
   "execution_count": null,
   "metadata": {},
   "outputs": [],
   "source": [
    "## INSTRUCTION SOLUTION(S) ##\n",
    "max(num_set), min(num_set)"
   ]
  },
  {
   "cell_type": "markdown",
   "metadata": {},
   "source": [
    "*** \n",
    "<a id='dicts'></a>\n",
    "### 6.3.3. Dictionaries"
   ]
  },
  {
   "cell_type": "markdown",
   "metadata": {},
   "source": [
    "**Exercise:** Initialize the dictionary in the cell below. Then, in a separate code cell, add the following key-value pair to that dictionary: `{'Germany': '+49'}`"
   ]
  },
  {
   "cell_type": "code",
   "execution_count": null,
   "metadata": {},
   "outputs": [],
   "source": [
    "country_codes = {'USA': '+1', 'UK': '+44', 'Mexico': '+52',\n",
    "                 'India': '+91', 'China': '+86'}"
   ]
  },
  {
   "cell_type": "code",
   "execution_count": null,
   "metadata": {},
   "outputs": [],
   "source": [
    "## YOUR CODE GOES HERE ##"
   ]
  },
  {
   "cell_type": "code",
   "execution_count": null,
   "metadata": {},
   "outputs": [],
   "source": [
    "## INSTRUCTION SOLUTION(S) ##\n",
    "country_codes['Germany'] = '+49'\n",
    "country_codes"
   ]
  },
  {
   "cell_type": "markdown",
   "metadata": {},
   "source": [
    "<hr>\n",
    "\n",
    "<a id=\"Lesson\"></a>\n",
    "## 6.4. Lesson: Loops\n",
    "\n",
    "<hr>\n",
    "\n",
    "<a id=\"for\"></a>\n",
    "### 6.4.1. For Loops\n",
    "\n",
    "#### References:\n",
    "* [Python: The for statement](https://docs.python.org/3.4/reference/compound_stmts.html?highlight=while%20statement#the-for-statement)\n",
    "\n",
    "The power of computation is the ability to do a lot of actions very quickly. Imagine you have thousands of data points to analyze. First, you write some `if` statements to intelligently parse, cleanse, and account for the data, perhaps looking at some individual data points as examples to guide you. Now you have a script that works. But how do you actually execute your code on each data point in the set?\n",
    "\n",
    "Python makes iterating, or looping, through a collection of data points easy and intuitive. Python has a statement called a `for` loop that steps through a data collection, and allows you to execute code on its individual elements. A `for` loop allows us to, for example, run a set of `if` blocks on each of the data points in a large data set. The following is a template for a `for` loop in Python.\n",
    "\n",
    "```python\n",
    "for item in collection:\n",
    "    do_something()\n",
    "```\n",
    "\n",
    "Below, we start with a simple list of integers. The `for` loop takes each integer in the list in order and stores it temporarily in the variable `num`. This gives us the ability to operate on that variable in the indented space under the `for` statement. Because it temporarily holds each item in the list, `num` is called a _temporary variable_.\n",
    "\n",
    "Let's begin by simply printing out each item in our list, one by one."
   ]
  },
  {
   "cell_type": "code",
   "execution_count": null,
   "metadata": {},
   "outputs": [],
   "source": [
    "num_list = [9, 12, 15, 18, 21, 24, 27, 30, 33, 36, 39]"
   ]
  },
  {
   "cell_type": "code",
   "execution_count": null,
   "metadata": {},
   "outputs": [],
   "source": [
    "for num in num_list:\n",
    "    print(num)"
   ]
  },
  {
   "cell_type": "markdown",
   "metadata": {},
   "source": [
    "From here, we can add more complexity and begin using our temporary variable to perform calculations on each item in the list."
   ]
  },
  {
   "cell_type": "code",
   "execution_count": null,
   "metadata": {},
   "outputs": [],
   "source": [
    "num_list = [9, 12, 15, 18, 21, 24, 27, 30, 33, 36, 39]"
   ]
  },
  {
   "cell_type": "code",
   "execution_count": null,
   "metadata": {},
   "outputs": [],
   "source": [
    "for num in num_list:\n",
    "    new_num = num - 100\n",
    "    print(num, new_num)"
   ]
  },
  {
   "cell_type": "markdown",
   "metadata": {},
   "source": [
    "When you are working with data, you often want to store your processed data in new collections that you create. Above, all we did was print the data on the screen. What if we want to store it instead in another list? First, we need to create an empty list to store the new values. Then, we can use `.append()` inside of a `for` loop to add items to the new list."
   ]
  },
  {
   "cell_type": "code",
   "execution_count": null,
   "metadata": {},
   "outputs": [],
   "source": [
    "new_list = []\n",
    "\n",
    "for num in num_list:\n",
    "    new_list.append(num - 100)\n",
    "\n",
    "new_list"
   ]
  },
  {
   "cell_type": "markdown",
   "metadata": {},
   "source": [
    "**Discussion Question:** What is the variable `num` doing in the `for` loop above?"
   ]
  },
  {
   "cell_type": "markdown",
   "metadata": {},
   "source": [
    "We could have accomplished the same thing by accessing each item in the list separately. But as you can see below, the code to do this is messier and more fragile than the `for` loop above. This method also requires us to know how many items are in our collection, whereas with a `for` loop, Python automatically stops at the end of the collection."
   ]
  },
  {
   "cell_type": "code",
   "execution_count": null,
   "metadata": {},
   "outputs": [],
   "source": [
    "new_list = []\n",
    "\n",
    "new_list.append(num_list[0] - 100)\n",
    "new_list.append(num_list[1] - 100)\n",
    "new_list.append(num_list[2] - 100)\n",
    "new_list.append(num_list[3] - 100)\n",
    "new_list.append(num_list[4] - 100)\n",
    "new_list.append(num_list[5] - 100)\n",
    "new_list.append(num_list[6] - 100)\n",
    "new_list.append(num_list[7] - 100)\n",
    "new_list.append(num_list[8] - 100)\n",
    "new_list.append(num_list[9] - 100)\n",
    "new_list.append(num_list[10] - 100)\n",
    "\n",
    "new_list"
   ]
  },
  {
   "cell_type": "markdown",
   "metadata": {},
   "source": [
    "#### 6.4.1.1. Temporary Variables\n",
    "\n",
    "Python `for` loops require us to define a temporary variable to store each element from our sequence as it iterates through. We saw this above with `num`. Temporary variable names follow the same naming conventions as normal Python variables, and you can name them whatever you want. Just like with other variables, it helps to choose descriptive temporary variable names. You can put any code you want in a `for` loop's indented space, including conditionals and other `for` loops."
   ]
  },
  {
   "cell_type": "code",
   "execution_count": null,
   "metadata": {},
   "outputs": [],
   "source": [
    "animals_list = ['dog', 'cat', 'snake', 'rabbit', 'lion', 'mouse']\n",
    "danger_animals = ['snake', 'lion']\n",
    "\n",
    "for animal in animals_list:\n",
    "    \n",
    "    if animal in danger_animals:\n",
    "        print(animal.upper() + '!')\n",
    "        \n",
    "    else:\n",
    "        print(animal)"
   ]
  },
  {
   "cell_type": "markdown",
   "metadata": {},
   "source": [
    "**Exercise:** Write a `for` loop to find all the countries in the list below that do not contain the letter `'a'`."
   ]
  },
  {
   "cell_type": "code",
   "execution_count": null,
   "metadata": {},
   "outputs": [],
   "source": [
    "countries = ['USA', 'Mexico', 'Canada', 'Belgium', 'Denmark', 'France', \n",
    "             'Iceland', 'Italy', 'Luxembourg', 'Netherlands', 'Norway', \n",
    "             'Portugal', 'UK', 'Greece', 'Turkey', 'Germany', 'Spain']"
   ]
  },
  {
   "cell_type": "code",
   "execution_count": null,
   "metadata": {},
   "outputs": [],
   "source": [
    "## YOUR CODE GOES HERE ##"
   ]
  },
  {
   "cell_type": "code",
   "execution_count": null,
   "metadata": {},
   "outputs": [],
   "source": [
    "## INSTRUCTION SOLUTION(S) ##\n",
    "for country in countries:\n",
    "    if 'a' not in country.lower():\n",
    "        print(country)"
   ]
  },
  {
   "cell_type": "markdown",
   "metadata": {},
   "source": [
    "**Exercise:** Create a new list of numbers by looping through the list below and multiplying each number by negative one (`-1`). Use `.append()` to add each new item to your new list."
   ]
  },
  {
   "cell_type": "code",
   "execution_count": null,
   "metadata": {},
   "outputs": [],
   "source": [
    "nums = [-91, -88, -85, -82, -79, -76, -73, -70, -67, -64, -61]"
   ]
  },
  {
   "cell_type": "code",
   "execution_count": null,
   "metadata": {},
   "outputs": [],
   "source": [
    "## YOUR CODE GOES HERE ##"
   ]
  },
  {
   "cell_type": "code",
   "execution_count": null,
   "metadata": {},
   "outputs": [],
   "source": [
    "## INSTRUCTION SOLUTION(S) ##\n",
    "new_list = []\n",
    "\n",
    "for n in nums:\n",
    "    new_n = n * -1\n",
    "    new_list.append(new_n)\n",
    "    \n",
    "new_list"
   ]
  },
  {
   "cell_type": "markdown",
   "metadata": {},
   "source": [
    "#### 6.4.1.2. Looping Through Other Collections\n",
    "\n",
    "We can use a `for` loop on any collection we've learned about so far, including dictionaries. Remember that Python treats strings as a sequence of characters, and dictionaries require use of the `.items()` function."
   ]
  },
  {
   "cell_type": "code",
   "execution_count": null,
   "metadata": {},
   "outputs": [],
   "source": [
    "my_string = '14:14:06.337121'\n",
    "\n",
    "for item in my_string:\n",
    "    print(item)"
   ]
  },
  {
   "cell_type": "code",
   "execution_count": null,
   "metadata": {},
   "outputs": [],
   "source": [
    "my_tuple = (2018, 11, 1, 14, 15, 7, 833493)\n",
    "\n",
    "for item in my_tuple:\n",
    "    print(item)"
   ]
  },
  {
   "cell_type": "code",
   "execution_count": null,
   "metadata": {},
   "outputs": [],
   "source": [
    "my_set = {(38.94, -77.03), (38.89, -76.99), (38.95, -76.95), (38.91, -76.98), (38.96, -76.99)}\n",
    "\n",
    "for coord in my_set:\n",
    "    print('coordinate:', coord)\n",
    "\n",
    "    for item in coord:\n",
    "        print('   degree: ', item)\n",
    "        \n",
    "    print('- ' * 15)"
   ]
  },
  {
   "cell_type": "markdown",
   "metadata": {},
   "source": [
    "#### 6.4.1.3. Looping through dictionaries with `.items()`\n",
    "\n",
    "Looping through dictionaries is less straightforward than looping through other collections because dictionary items are not just singular data points. Each item in a dictionary consists of a key and value. There are a few different ways to loop through dictionaries, but the most helpful way is to use `.items()`. The `.items()` method works a lot like the `.keys()` and `.values()` methods we learned about in Lesson 3, but provides both the keys and the values. Using `.items()` allows us to store two temporary variables at the same time, one for the key and one for the value.\n",
    "\n",
    "| Syntax               | Description                               |\n",
    "|:----------------------:|-------------------------------------------|\n",
    "|`for key, val in my_dict.items():`| Allows you to loop through `my_dict`, storing each entry's key in `key` and value in `val`|"
   ]
  },
  {
   "cell_type": "code",
   "execution_count": null,
   "metadata": {},
   "outputs": [],
   "source": [
    "my_dictionary = {'66828': 'Jackalyn E.', '89339': 'Sunil K.', '59887': 'Colin O.', \n",
    "                 '94383': 'Marianna I.', '62172': 'Huong N.', '69578': 'Agrippa O.', \n",
    "                 '36563': 'Zlatko J.', '35851': 'Kumari V.'}"
   ]
  },
  {
   "cell_type": "code",
   "execution_count": null,
   "metadata": {},
   "outputs": [],
   "source": [
    "for k, v in my_dictionary.items():\n",
    "    print('Name:', v)\n",
    "    print('Employee ID:', k)\n",
    "    print('-'*20)"
   ]
  },
  {
   "cell_type": "markdown",
   "metadata": {},
   "source": [
    "**Exercise:** Loop through the dictionary below and print the keys and values where the value is greater than `5`."
   ]
  },
  {
   "cell_type": "code",
   "execution_count": null,
   "metadata": {},
   "outputs": [],
   "source": [
    "practice_dict = {'Z': 0, 'Y': 1, 'X': 2, 'W': 3, 'V': 4, 'U': 5, \n",
    "                 'T': 6, 'S': 7, 'R': 8, 'Q': 9, 'P': 10, 'O': 11}"
   ]
  },
  {
   "cell_type": "code",
   "execution_count": null,
   "metadata": {},
   "outputs": [],
   "source": [
    "## YOUR CODE GOES HERE ##"
   ]
  },
  {
   "cell_type": "code",
   "execution_count": null,
   "metadata": {},
   "outputs": [],
   "source": [
    "## INSTRUCTION SOLUTION(S) ##\n",
    "for let, num in practice_dict.items():\n",
    "    if num > 5:\n",
    "        print(let, '--', num)"
   ]
  },
  {
   "cell_type": "markdown",
   "metadata": {},
   "source": [
    "\n",
    "#### 6.4.1.4. Counting with a Dictionary\n",
    "\n",
    "You can use `for` loops and dictionaries count up all of the items in a collection at once. Say you have a list of coordinates like the one below. We first need to initialize a new dictionary to hold our counts. Then, the logic put simply is: for each item in the list, 1) if the item is NOT in the dictionary yet, set the item as a key in a new dictionary entry with the value `1`; 2) if the item is already in the dictionary, add `1` to its current value."
   ]
  },
  {
   "cell_type": "code",
   "execution_count": null,
   "metadata": {},
   "outputs": [],
   "source": [
    "coords = [(17.06, 18.07), (17.01, 18.08), (17.04, 18.01), (17.05, 18.09), (17.09, 18.05),\n",
    "          (17.03, 18.03), (17.05, 18.07), (17.04, 18.05), (17.02, 18.02), (17.08, 18.05),\n",
    "          (17.03, 18.07), (17.04, 18.03), (17.04, 18.06), (17.01, 18.09), (17.03, 18.07), \n",
    "          (17.03, 18.09), (17.08, 18.02), (17.08, 18.06), (17.08, 18.06), (17.02, 18.02), \n",
    "          (17.05, 18.05), (17.07, 18.05), (17.01, 18.08), (17.05, 18.02), (17.09, 18.06), \n",
    "          (17.07, 18.04), (17.09, 18.09), (17.05, 18.03), (17.02, 18.08), (17.03, 18.07), \n",
    "          (17.06, 18.04), (17.08, 18.06), (17.04, 18.05), (17.02, 18.09), (17.03, 18.06), \n",
    "          (17.08, 18.06), (17.04, 18.04), (17.08, 18.02), (17.05, 18.07), (17.07, 18.01), \n",
    "          (17.04, 18.06), (17.06, 18.02), (17.04, 18.03), (17.01, 18.04), (17.04, 18.02), \n",
    "          (17.03, 18.01), (17.06, 18.01), (17.04, 18.01), (17.06, 18.06), (17.09, 18.07)]"
   ]
  },
  {
   "cell_type": "code",
   "execution_count": null,
   "metadata": {},
   "outputs": [],
   "source": [
    "counts = {}\n",
    "\n",
    "for coord in coords:\n",
    "    if coord not in counts:\n",
    "        counts[coord] = 1\n",
    "    else:\n",
    "        counts[coord] += 1\n",
    "        \n",
    "counts"
   ]
  },
  {
   "cell_type": "markdown",
   "metadata": {},
   "source": [
    "<hr> \n",
    "\n",
    "<a id='while'></a>\n",
    "### 6.4.2. While Loops\n",
    "\n",
    "#### References:\n",
    "* [Python: The while statement](https://docs.python.org/3.4/reference/compound_stmts.html#while)\n",
    "* [TutorialsPoint: Python - Loops](https://www.tutorialspoint.com/python/python_loops.htm)\n",
    "\n",
    "The `while` loop repeats while a given Boolean test expression is `True`. The `while` loop tests the Boolean test expression before executing the loop body.\n",
    "\n",
    "<img src=\"./GRAPHICS/While_Loop.png\" width=\"33%\"><br>\n",
    "\n",
    "The code below shows an example `while` loop. Once the Boolean expression becomes `False`, the loop is terminated. The `while` loop is different from the `for` loop in that it will keep looping until its condition evaluates to `False`, so it can run many times and is not limited by the number of items in a collection."
   ]
  },
  {
   "cell_type": "code",
   "execution_count": null,
   "metadata": {},
   "outputs": [],
   "source": [
    "count = 0"
   ]
  },
  {
   "cell_type": "code",
   "execution_count": null,
   "metadata": {},
   "outputs": [],
   "source": [
    "while count < 10:\n",
    "    print(count)\n",
    "    count += 1"
   ]
  },
  {
   "cell_type": "markdown",
   "metadata": {},
   "source": [
    "Just like in a `for` loop, we can put any code we want inside a `while` loop, including conditionals and other loops. For example:"
   ]
  },
  {
   "cell_type": "code",
   "execution_count": null,
   "metadata": {},
   "outputs": [],
   "source": [
    "file_size = 0\n",
    "\n",
    "while file_size < 10000000:\n",
    "    file_size += 1\n",
    "\n",
    "    if file_size == 5000000:\n",
    "        print('file is 50% full...')\n",
    "    \n",
    "    if file_size == 7500000:\n",
    "        print('file is 75% full...')\n",
    "\n",
    "        \n",
    "print('done writing.')"
   ]
  },
  {
   "cell_type": "markdown",
   "metadata": {},
   "source": [
    "Above, we set `file_size` equal to zero. The `while` statement checks if the value of `file_size` is greater than `1000`. Until this statement becomes `False`, `file_size` increases by one. When `file_size` is equal to `5000000` and `7500000`, we print a message to the screen."
   ]
  },
  {
   "cell_type": "markdown",
   "metadata": {},
   "source": [
    "#### 6.4.2.1. Infinite Loops\n",
    "\n",
    "Use caution when writing `while` loops. Since a `while` loop will continue until its Boolean expression evaluates to `False`, it is possible for a loop to continue forever. Infinite loops usually break your script, and should be avoided. The `while` loop example below will execute infinitely, because its condition will always evaluate to `True`. We didn't put this in a code cell because running it could cause your notebook to freeze!\n",
    "\n",
    "```python\n",
    "while 1 > 0:\n",
    "    print('I am running!')\n",
    "```\n",
    "\n",
    "If you end up running an infinite loop in your notebook, you'll need to manually interrupt the process. The \"Interrupt\" option in the notebook's \"Kernel\" menu will attempt to interrupt any ongoing Python operations. If this option does not work, try using \"Restart.\" This will restart the kernel and halt the execution of your loop. \n",
    "\n",
    "> NOTE: Restarting your kernel wipes all variables from memory, so you will need to rerun any cells you need starting from the top of the notebook."
   ]
  },
  {
   "cell_type": "markdown",
   "metadata": {},
   "source": [
    "**Exercise:** Write a `while` loop. Be careful to avoid infinite loops!"
   ]
  },
  {
   "cell_type": "code",
   "execution_count": null,
   "metadata": {},
   "outputs": [],
   "source": [
    "## YOUR CODE GOES HERE ##"
   ]
  },
  {
   "cell_type": "code",
   "execution_count": null,
   "metadata": {},
   "outputs": [],
   "source": [
    "## INSTRUCTION SOLUTION(S) ##\n",
    "number = 20\n",
    "\n",
    "while number % 7 != 0:\n",
    "    print(number)\n",
    "    number -= 1"
   ]
  },
  {
   "cell_type": "markdown",
   "metadata": {},
   "source": [
    "<hr> \n",
    "\n",
    "<a id='break'></a>\n",
    "### 6.4.3. Break and Continue\n",
    "\n",
    "#### References:\n",
    "* [Python: break and continue Statements, and else Clauses on Loops](https://docs.python.org/3.4/tutorial/controlflow.html#break-and-continue-statements-and-else-clauses-on-loops)\n",
    "* [TutorialsPoint: Python break, continue and pass Statements](http://www.tutorialspoint.com/python/python_loop_control.htm)\n",
    "\n",
    "The `break` statement terminates the first `for` or `while` loop it is nested under. Programmers sometimes put a `break` statement in `while` loops they are developing to make sure they don't run infinitely. But `break` statements are useful in other cases too, such as terminating a `for` loop if a certain condition is met. The graphic below illustrates how the `break` statement affects the flow of your code.\n",
    "\n",
    "![](./GRAPHICS/break.png)"
   ]
  },
  {
   "cell_type": "markdown",
   "metadata": {},
   "source": [
    "Break is effective when you are only looking for a certain number of things, and you don't know how long it will take to find them. The `for` loop below will hit the `break` statement after it finds 2 items that meet the criteria, breaking it out of the loop and skipping the rest of the IDs."
   ]
  },
  {
   "cell_type": "code",
   "execution_count": null,
   "metadata": {},
   "outputs": [],
   "source": [
    "all_ids = ['96193', '77954', '45162', '82362', '94513', '34251', \n",
    "           '66835', '65384', '95875', '63816', '27472', '98119']\n",
    "\n",
    "target_ids = []\n",
    "\n",
    "for i in all_ids:\n",
    "    \n",
    "    if i[0] == '9':\n",
    "        target_ids.append(i)\n",
    "        \n",
    "    if len(target_ids) >= 2:\n",
    "        break\n",
    "\n",
    "target_ids"
   ]
  },
  {
   "cell_type": "markdown",
   "metadata": {},
   "source": [
    "Another flow control statement is `continue`. It skips any code following it in the `for` or `while` loop that contains it, and begins the next loop iteration. This is similar to `break`, but instead of terminating the entire loop it just terminates the current iteration of the loop and the loop continues to execute. The graphic below illustrates how the `continue` statement affects the flow of your code.\n",
    "\n",
    "![](./GRAPHICS/continue.png)\n",
    "\n",
    "The `continue` statement, like `break`, can only affect `while` and `for` loops. The `continue` statement is useful when you want to skip items in a collection that meet certain criteria."
   ]
  },
  {
   "cell_type": "code",
   "execution_count": null,
   "metadata": {},
   "outputs": [],
   "source": [
    "all_ids = ['96193', '77954', '45162', '82362', '94513', '34251', \n",
    "           '66835', '65384', '95875', '63816', '27472', '98119']\n",
    "\n",
    "for i in all_ids:\n",
    "    \n",
    "    if i[0] == '9':\n",
    "        continue\n",
    "        \n",
    "    print(i)"
   ]
  },
  {
   "cell_type": "markdown",
   "metadata": {},
   "source": [
    "<b><font color = \"brick\">Instructor Guidance</font>: Refer back to Lesson 1 and relate the four steps of problem-solving using Computational Thinking (Decomposition, Pattern Recognition, Abstraction, & Algorithm Design) as appropriate throughout these exercises.</b>"
   ]
  },
  {
   "cell_type": "markdown",
   "metadata": {},
   "source": [
    "<hr>\n",
    "\n",
    "<a id=\"guided\"></a>\n",
    "## 6.5. Guided Exercise: Credit Card Data\n",
    "\n",
    "We have been given data about credit card users in a dictionary. Each key is a user's name, and linked to that is another dictionary containing their credit card type and the number of transactions using their card. We want to accomplish the following:\n",
    "\n",
    "1. Determine what types of cards are in the data set.\n",
    "2. Create a dictionary that maps the card types to the number of people in the data set who use that card.\n",
    "3. Find the card type in the data set with the most users."
   ]
  },
  {
   "cell_type": "code",
   "execution_count": null,
   "metadata": {},
   "outputs": [],
   "source": [
    "card_data = {'Albert B.': {'transactions': 58, 'type': 'Mastercard'}, 'Andrea M.': {'transactions': 152, 'type': 'Visa'},\n",
    "             'Barbara S.': {'transactions': 69, 'type': 'Discover'}, 'Carolyn R.': {'transactions': 194, 'type': 'Mastercard'},\n",
    "             'Cheryl S.': {'transactions': 30, 'type': 'Discover'}, 'Christopher R.': {'transactions': 55, 'type': 'Visa'},\n",
    "             'Connie G.': {'transactions': 90, 'type': 'Visa'}, 'Craig F.': {'transactions': 197, 'type': 'Discover'},\n",
    "             'Daniel G.': {'transactions': 84, 'type': 'Visa'}, 'Dawn D.': {'transactions': 67, 'type': 'Mastercard'},\n",
    "             'Dolores C.': {'transactions': 90, 'type': 'Mastercard'}, 'Douglas H.': {'transactions': 66, 'type': 'Discover'},\n",
    "             'Edna W.': {'transactions': 162, 'type': 'Mastercard'}, 'Emma D.': {'transactions': 114, 'type': 'Mastercard'},\n",
    "             'Fran W.': {'transactions': 49, 'type': 'Discover'}, 'Heath M.': {'transactions': 41, 'type': 'Discover'},\n",
    "             'Iona H.': {'transactions': 145, 'type': 'Discover'}, 'Janice P.': {'transactions': 169, 'type': 'Discover'},\n",
    "             'Jenette P.': {'transactions': 68, 'type': 'Mastercard'}, 'Jennifer W.': {'transactions': 102, 'type': 'Visa'},\n",
    "             'John H.': {'transactions': 96, 'type': 'Discover'}, 'John L.': {'transactions': 182, 'type': 'Mastercard'},\n",
    "             'Joshua H.': {'transactions': 89, 'type': 'Visa'}, 'Kenneth L.': {'transactions': 108, 'type': 'Mastercard'},\n",
    "             'Leah E.': {'transactions': 167, 'type': 'Mastercard'}, 'Leona D.': {'transactions': 70, 'type': 'Discover'},\n",
    "             'Linda B.': {'transactions': 62, 'type': 'Visa'}, 'Luz G.': {'transactions': 159, 'type': 'Discover'},\n",
    "             'Mabel C.': {'transactions': 80, 'type': 'Mastercard'}, 'Marina L.': {'transactions': 37, 'type': 'Discover'},\n",
    "             'Paul B.': {'transactions': 188, 'type': 'Discover'}, 'Randy E.': {'transactions': 62, 'type': 'Mastercard'},\n",
    "             'Reynaldo M.': {'transactions': 197, 'type': 'Visa'}, 'Rose C.': {'transactions': 151, 'type': 'Visa'},\n",
    "             'Samuel P.': {'transactions': 28, 'type': 'Mastercard'}, 'Tammi J.': {'transactions': 65, 'type': 'Mastercard'},\n",
    "             'Tammy A.': {'transactions': 93, 'type': 'Visa'}, 'Therese S.': {'transactions': 130, 'type': 'Mastercard'},\n",
    "             'Whitney D.': {'transactions': 140, 'type': 'Visa'}, 'William D.': {'transactions': 142, 'type': 'Discover'}} "
   ]
  },
  {
   "cell_type": "markdown",
   "metadata": {},
   "source": [
    "**Problem 1:** Determine what types of cards are in the data set.\n",
    "\n",
    "**Pseudocode:**\n",
    "1. Loop over the `card_data` dictionary (`.items()`)\n",
    "2. For each card user:\n",
    "    1. access the card type\n",
    "    2. store the card type in a set"
   ]
  },
  {
   "cell_type": "code",
   "execution_count": null,
   "metadata": {},
   "outputs": [],
   "source": [
    "card_types = set()\n",
    "\n",
    "for name, user in card_data.items():\n",
    "    card = user['type']\n",
    "    card_types.add(card)\n",
    "    \n",
    "card_types"
   ]
  },
  {
   "cell_type": "markdown",
   "metadata": {},
   "source": [
    "**Problem 2:** Create a dictionary that maps the card types to the number of people in the data set who use that card.\n",
    "\n",
    "**Pseudocode:**\n",
    "1. Create a `card_count` dictionary where each card type starts with a count of zero\n",
    "    1. Loop over the `card_types` set\n",
    "    2. Store each card type in a dictionary with the value of `0`\n",
    "2. Loop over the `card_data` dictionary (`.items()`)\n",
    "3. For each user:\n",
    "    1. Access the card type\n",
    "    2. Increment the value stored at that card type in `card_count` by one"
   ]
  },
  {
   "cell_type": "code",
   "execution_count": null,
   "metadata": {},
   "outputs": [],
   "source": [
    "card_count = {}\n",
    "\n",
    "for card in card_types:\n",
    "    card_count[card] = 0\n",
    "    \n",
    "card_count"
   ]
  },
  {
   "cell_type": "code",
   "execution_count": null,
   "metadata": {},
   "outputs": [],
   "source": [
    "for name, user in card_data.items():\n",
    "    card = user['type']\n",
    "    card_count[card] += 1\n",
    "    \n",
    "card_count"
   ]
  },
  {
   "cell_type": "markdown",
   "metadata": {},
   "source": [
    "**Problem 3:** Find the card type in the data set with the most users.\n",
    "\n",
    "**Pseudocode:**\n",
    "1. Loop over the `card_count` dictionary (`.items()`) \n",
    "2. For each card-count pair:\n",
    "    1. If the count is the biggest one we've seen:\n",
    "        1. Store the card\n",
    "        2. Store the count as the new highest count we've seen"
   ]
  },
  {
   "cell_type": "code",
   "execution_count": null,
   "metadata": {},
   "outputs": [],
   "source": [
    "biggest_count = -1\n",
    "\n",
    "for card, count in card_count.items():\n",
    "    if count > biggest_count:\n",
    "        most_users = card\n",
    "        biggest_count = count\n",
    "        \n",
    "most_users"
   ]
  },
  {
   "cell_type": "markdown",
   "metadata": {},
   "source": [
    "<b><font color=\"brick\">Instructor Guidance</font>: Refer back to Lesson 1 and relate the four steps of problem-solving using Computational Thinking (Decomposition, Pattern Recognition, Abstraction, & Algorithm Design) as appropriate throughout these exercises.\n",
    "\n",
    "<font color=\"brick\">Instructor Guidance</font>: The practical exercises deemed most important due to content and/or a cumulative result, which should be completed first in the interest of maximum training value in relation to time are Practical Exercises 1-3. Ensure you go over the exercise solutions and (as necessary) the processes to arrive at the solutions with the students.\n",
    "\n",
    "<font color=\"brick\">Instructor Guidance</font>: Follow-up questions are designed to be asked by the facilitators individually as each student completes the task and has it looked at by a facilitator.</b>"
   ]
  },
  {
   "cell_type": "markdown",
   "metadata": {},
   "source": [
    "<hr>\n",
    "\n",
    "<a class=\"anchor\" id=\"Practical\"></a>\n",
    "## 6.6. Practical Exercises\n",
    "\n",
    "<hr>\n",
    "\n",
    "<a id=\"PE1\"></a>\n",
    "### 6.6.1. Practical Exercise 1: Iterating through a List \n",
    "\n",
    "Given a list of the integers 1 through 100, iterate through the list and print only those integers divisible by 3 and 5 (e.g. `15`, `30`, `45`...). HINT: A number `N` is divisible by a number `M` if `N % M == 0` (refer back to Lesson 2's _Numbers and Arithmetic Operators_ section for more help)."
   ]
  },
  {
   "cell_type": "code",
   "execution_count": null,
   "metadata": {},
   "outputs": [],
   "source": [
    "numbers = [1, 2, 3, 4, 5, 6, 7, 8, 9, 10, 11, 12, 13, 14, 15, 16, 17, 18, 19, 20, \n",
    "           21, 22, 23, 24, 25, 26, 27, 28, 29, 30, 31, 32, 33, 34, 35, 36, 37, 38, 39, 40, \n",
    "           41, 42, 43, 44, 45, 46, 47, 48, 49, 50, 51, 52, 53, 54, 55, 56, 57, 58, 59, 60, \n",
    "           61, 62, 63, 64, 65, 66, 67, 68, 69, 70, 71, 72, 73, 74, 75, 76, 77, 78, 79, 80, \n",
    "           81, 82, 83, 84, 85, 86, 87, 88, 89, 90, 91, 92, 93, 94, 95, 96, 97, 98, 99, 100]"
   ]
  },
  {
   "cell_type": "code",
   "execution_count": null,
   "metadata": {},
   "outputs": [],
   "source": [
    "## YOUR CODE GOES HERE ##"
   ]
  },
  {
   "cell_type": "code",
   "execution_count": null,
   "metadata": {
    "scrolled": true
   },
   "outputs": [],
   "source": [
    "## INSTRUCTION SOLUTION(S) ##\n",
    "for num in numbers:    \n",
    "    if (num % 3 == 0) and (num % 5 == 0):\n",
    "        print(num)"
   ]
  },
  {
   "cell_type": "markdown",
   "metadata": {},
   "source": [
    "<hr>\n",
    "\n",
    "<a id=\"PE2\"></a>\n",
    "### 6.6.2. Practical Exercise 2: Latitude or Longitude\n",
    "\n",
    "Given the following list of geocoordinates in DMS format. Count how many latitudes and how many longitudes are in the list. HINT: You can determine whether the coordinate is a latitude or a longitude by its length or its direction character (`'N'`/`'S'` for latitude, and`'E'`/`'W'` for longitude)\n",
    "\n",
    "Answer: 42 latitudes, 58 longitudes"
   ]
  },
  {
   "cell_type": "code",
   "execution_count": null,
   "metadata": {},
   "outputs": [],
   "source": [
    "coordinates = ['165111S', '772936N', '1540314W', '524920N', '1382226W', '1494046W', '1273142E', '064818N', '324152S', '1354123E', '001250S', '0791748E',\n",
    "               '1425335E', '743414N', '0105626E', '0403851E', '1000553W', '1441608W', '1111318E', '0502950W', '1213522E', '650817S', '110030N', '751410N',\n",
    "               '1254845E', '0202309W', '214335S', '0672053E', '0350757W', '1500421E', '0251415E', '892003S', '0362443E', '0924453E', '0704910W', '680200N',\n",
    "               '384150N', '1411905E', '0893952E', '141245S', '842323S', '0613531E', '714928S', '0134030E', '350634N', '1520651E', '051614N', '753752N',\n",
    "               '144353S', '053704S', '783821S', '320622S', '1505342W', '450616N', '1634818E', '155903N', '001144S', '451918N', '802520N', '0874633E',\n",
    "               '1671010W', '0183120W', '0180436E', '1235710E', '1230421W', '1074359W', '1432415E', '1385207E', '0553724E', '0920508E', '0642142E', '463922N',\n",
    "               '1690909E', '615032S', '1623158W', '0423401E', '281842S', '471328N', '0293556E', '1184323E', '462711S', '321521S', '1792755W', '0395606E',\n",
    "               '1585044W', '112310N', '083548S', '332630N', '0060556E', '1615349E', '0510816E', '0430350E', '675627S', '414849S', '1264624W', '0765530W',\n",
    "               '1071918E', '0294522W', '644533S', '213823N']"
   ]
  },
  {
   "cell_type": "code",
   "execution_count": null,
   "metadata": {},
   "outputs": [],
   "source": [
    "## YOUR CODE GOES HERE ##"
   ]
  },
  {
   "cell_type": "code",
   "execution_count": null,
   "metadata": {},
   "outputs": [],
   "source": [
    "## INSTRUCTION SOLUTION(S) ##\n",
    "lats = 0\n",
    "lons = 0\n",
    "\n",
    "for coord in coordinates:\n",
    "    if ('N' in coord) or ('S' in coord):\n",
    "        lats += 1\n",
    "        \n",
    "    elif ('E' in coord) or ('W' in coord):\n",
    "        lons += 1\n",
    "        \n",
    "print('lats:', lats)\n",
    "print('lons:', lons)"
   ]
  },
  {
   "cell_type": "markdown",
   "metadata": {},
   "source": [
    "<hr>\n",
    "\n",
    "<a id=\"PE3\"></a>\n",
    "### 6.6.3. Practical Exercise 3: Lists in a List\n",
    "\n",
    "**Problem 1:** Using indexing, access the value `'here'` in the list of lists below."
   ]
  },
  {
   "cell_type": "code",
   "execution_count": null,
   "metadata": {},
   "outputs": [],
   "source": [
    "numbers = [[5, 'here', 2], [4, 2, 5, 7], [4, 2, 8, 0, 1, 2]]"
   ]
  },
  {
   "cell_type": "code",
   "execution_count": null,
   "metadata": {},
   "outputs": [],
   "source": [
    "## YOUR CODE GOES HERE ##"
   ]
  },
  {
   "cell_type": "code",
   "execution_count": null,
   "metadata": {},
   "outputs": [],
   "source": [
    "## INSTRUCTION SOLUTION(S) ##\n",
    "numbers[0][1]"
   ]
  },
  {
   "cell_type": "markdown",
   "metadata": {},
   "source": [
    "**Problem 2:** Using indexing, access the value `'here'` in the list of lists below."
   ]
  },
  {
   "cell_type": "code",
   "execution_count": null,
   "metadata": {},
   "outputs": [],
   "source": [
    "numbers = [[5, 4, 2], [4, 2, 'here', 7], [4, 2, 8, 0, 1, 2]]"
   ]
  },
  {
   "cell_type": "code",
   "execution_count": null,
   "metadata": {},
   "outputs": [],
   "source": [
    "## YOUR CODE GOES HERE ##"
   ]
  },
  {
   "cell_type": "code",
   "execution_count": null,
   "metadata": {},
   "outputs": [],
   "source": [
    "## INSTRUCTION SOLUTION(S) ##\n",
    "numbers[1][2]"
   ]
  },
  {
   "cell_type": "markdown",
   "metadata": {},
   "source": [
    "**Problem 3:** Using indexing, access the value `'here'` in the list of lists below."
   ]
  },
  {
   "cell_type": "code",
   "execution_count": null,
   "metadata": {},
   "outputs": [],
   "source": [
    "numbers = [[5, 4, 2], [4, 2, 5, 7], [4, 2, 8, 'here', 1, 2]]"
   ]
  },
  {
   "cell_type": "code",
   "execution_count": null,
   "metadata": {},
   "outputs": [],
   "source": [
    "## YOUR CODE GOES HERE ##"
   ]
  },
  {
   "cell_type": "code",
   "execution_count": null,
   "metadata": {},
   "outputs": [],
   "source": [
    "## INSTRUCTION SOLUTION(S) ##\n",
    "numbers[2][3]"
   ]
  },
  {
   "cell_type": "markdown",
   "metadata": {},
   "source": [
    "**Problem 4:** Using a nested `for` loop, access each number in the list below. For each number, if it's a `4`, print it out; otherwise do nothing."
   ]
  },
  {
   "cell_type": "code",
   "execution_count": null,
   "metadata": {},
   "outputs": [],
   "source": [
    "numbers = [[5, 4, 2], [4, 2, 5, 7], [4, 2, 8, 0, 1, 2]]"
   ]
  },
  {
   "cell_type": "code",
   "execution_count": null,
   "metadata": {},
   "outputs": [],
   "source": [
    "## YOUR CODE GOES HERE ##"
   ]
  },
  {
   "cell_type": "code",
   "execution_count": null,
   "metadata": {},
   "outputs": [],
   "source": [
    "## INSTRUCTION SOLUTION(S) ##\n",
    "for sublist in numbers:\n",
    "    for num in sublist:\n",
    "        if num == 4:\n",
    "            print(num)"
   ]
  },
  {
   "cell_type": "markdown",
   "metadata": {},
   "source": [
    "**Problem 5:** Using a nested `for` loop, calculate the sum of all the numbers in the list below. HINT: The answer is 76."
   ]
  },
  {
   "cell_type": "code",
   "execution_count": null,
   "metadata": {},
   "outputs": [],
   "source": [
    "numbers = [[5, 4, 2], [4, 2, 5, 7], [4, 2, 8, 0, 1, 2], [6, 8, 6, 8, 2]]"
   ]
  },
  {
   "cell_type": "code",
   "execution_count": null,
   "metadata": {},
   "outputs": [],
   "source": [
    "## YOUR CODE GOES HERE ##"
   ]
  },
  {
   "cell_type": "code",
   "execution_count": null,
   "metadata": {},
   "outputs": [],
   "source": [
    "## INSTRUCTION SOLUTION(S) ##\n",
    "total = 0\n",
    "for sublist in numbers: \n",
    "    for num in sublist:\n",
    "        total += num\n",
    "\n",
    "total"
   ]
  },
  {
   "cell_type": "markdown",
   "metadata": {},
   "source": [
    "<hr>\n",
    "\n",
    "<a id=\"PE4\"></a>\n",
    "### 6.6.4. Practical Exercise 4: Sets in a List\n",
    "\n",
    "You are given a list of sets below. Create the union of every set that has exactly 1 or exactly 2 elements. Note that your answer may display in different order than the answer below. \n",
    "\n",
    "**Bonus:** How would you check whether your answer matches ours using Python?\n",
    "\n",
    "Answer: `{'q', 198, 'T', 'V', 784, 'N', 404, 342, 'g', 282, 155, 'b', 92, 411, 481, 'e', 551, 684, 438, 247, 827, 'F'}`"
   ]
  },
  {
   "cell_type": "code",
   "execution_count": null,
   "metadata": {},
   "outputs": [],
   "source": [
    "setlist = [{718, 176, 'A', 'N', 'y'}, {358, 71, 332, 'D', 'G'}, {25, 'P', 'D'}, {'I', 'j', 'e', 891, 605}, {257, 'K', 947}, \n",
    "           {'J', 131, 8, 914, 693}, {737, 'f', 941, 926}, {961, 'o', 'J'}, {233, 410, 405}, {'u', 427, 'V', 'F'}, \n",
    "           {'d', 411, 'm', 511}, {865, 'N', 'I'}, {'T', 'e'}, {233, 395, 'l'}, {481, 'N'}, {'Q', 'S', 'd'}, {65, 793, 785, 280}, \n",
    "           {312, 1, 645}, {'C', 901, 'T', 'p', 316}, {'a', 'C', 'S'}, {720, 'u', 'S', 822}, {634, 459, 388}, {589, 'S', 117, 'x'}, \n",
    "           {198, 551}, {438, 'g'}, {'r', 'B', 'D', 'k', 'f'}, {323, 668, 965, 739}, {'a', 781, 29}, {247, 551}, {'c', 107, 'V', 381, 'n'}, \n",
    "           {695, 'S', 711}, {784}, {'T', 282}, {342}, {827, 404}, {707, 'p', 787, 'b', 669}, {155, 'F'}, {'k', 'B', 832, 516}, \n",
    "           {467, 645, 'd', 'l'}, {'V'}, {'b'}, {420, 'j', 'F'}, {684, 92}, {'c', 840, 'j'}, {'q'}, {'p', 'a', 645, 'g'}, {770, 331, 'O', 'D', 335}, \n",
    "           {'T', 'u', 564, 'B'}, {411}, {'Z', 'e', 't', 'V'}]"
   ]
  },
  {
   "cell_type": "code",
   "execution_count": null,
   "metadata": {},
   "outputs": [],
   "source": [
    "## YOUR CODE GOES HERE ##"
   ]
  },
  {
   "cell_type": "code",
   "execution_count": null,
   "metadata": {},
   "outputs": [],
   "source": [
    "## INSTRUCTION SOLUTION(S) ##\n",
    "my_set = set()\n",
    "for s in setlist:\n",
    "    if len(s) in {1, 2}:\n",
    "        my_set = my_set.union(s)\n",
    "\n",
    "print(my_set)\n",
    "my_set == {'q', 198, 'T', 'V', 784, 'N', 404, 342, 'g', 282, 155, 'b', 92, 411, 481, 'e', 551, 684, 438, 247, 827, 'F'}"
   ]
  },
  {
   "cell_type": "markdown",
   "metadata": {},
   "source": [
    "<hr>\n",
    "\n",
    "<a id=\"PE5\"></a>\n",
    "### 6.6.5. Practical Exercise 5: Crime Data\n",
    "\n",
    "**Problem 1:** Loop over the dictionary below. Print out each date along with how many crimes were reported on that date.\n",
    "\n",
    "**Bonus:** Create a new dictionary to store this information."
   ]
  },
  {
   "cell_type": "code",
   "execution_count": null,
   "metadata": {},
   "outputs": [],
   "source": [
    "crime_dates = {'07-11-2016': ['110716AT001', '110716AT010', '110716DN011', '110716DN014', '110716DN059', '110716DN071', '110716NA003', '110716NA023',\n",
    "                              '110716NA039', '110716NA049', '110716NA051', '110716NA054', '110716RB004', '110716RB008', '110716TF000', '110716TF019'],\n",
    "               '08-11-2016': ['110816AT003', '110816AT006', '110816AT014', '110816DN004', '110816DN029', '110816DN034', '110816DN037', '110816NA001',\n",
    "                              '110816NA028', '110816NA039', '110816NA040', '110816NA049', '110816RB010', '110816TF013', '110816TF015', '110816TF032', '110816TF038', '110816TF044'], \n",
    "               '09-11-2016': ['110916AT000', '110916DN009', '110916DN019', '110916DN021', '110916DN022', '110916DN029', '110916DN065', '110916DN069',\n",
    "                              '110916NA001', '110916NA036', '110916NA046', '110916RB004', '110916RB021', '110916TF000', '110916TF013', '110916TF017', '110916TF025', '110916TF037'],\n",
    "               '10-11-2016': ['111016DN013', '111016DN015', '111016DN022', '111016DN036', '111016DN049', '111016DN055', '111016DN058', '111016NA018',\n",
    "                              '111016NA029', '111016NA040', '111016RB010', '111016RB014', '111016RB017', '111016TF007', '111016TF015', '111016TF024', '111016TF025'],\n",
    "               '11-11-2016': ['111116AT004', '111116DN008', '111116DN015', '111116DN030', '111116DN033', '111116DN048', '111116NA001', '111116NA026',\n",
    "                              '111116NA031', '111116RB005', '111116RB012', '111116TF004', '111116TF010', '111116TF036', '111116TF048']\n",
    "              }"
   ]
  },
  {
   "cell_type": "code",
   "execution_count": null,
   "metadata": {},
   "outputs": [],
   "source": [
    "## YOUR CODE GOES HERE ##"
   ]
  },
  {
   "cell_type": "code",
   "execution_count": null,
   "metadata": {},
   "outputs": [],
   "source": [
    "## INSTRUCTION SOLUTION(S) ##\n",
    "for date, crimes in crime_dates.items():\n",
    "    print(date, ':', len(crimes))\n",
    "    \n",
    "## BONUS SOLUTION ##\n",
    "num_crimes = {}\n",
    "for date, crimes in crime_dates.items():\n",
    "    num_crimes[date] = len(crimes)\n",
    "num_crimes"
   ]
  },
  {
   "cell_type": "markdown",
   "metadata": {},
   "source": [
    "**Problem 2:** Loop over the dictionary below. Count the number of times each coordinate appears in the data set. Store this information in a dictionary where the coordinate is the key and the appearance count is the value. HINT: See this Lesson's Appendix for help on counting using a dictionary."
   ]
  },
  {
   "cell_type": "code",
   "execution_count": null,
   "metadata": {},
   "outputs": [],
   "source": [
    "crime_coords = {'110716AT001': (39.29, -76.65), '110716AT010': (39.29, -76.64), '110716DN011': (39.28, -76.65), '110716DN014': (39.29, -76.65), '110716DN059': (39.29, -76.65), '110716DN071': (39.28, -76.67),\n",
    "                '110716NA003': (39.29, -76.68), '110716NA023': (39.29, -76.68), '110716NA039': (39.29, -76.65), '110716NA049': (39.27, -76.65), '110716NA051': (39.28, -76.65), '110716NA054': (39.30, -76.66),\n",
    "                '110716RB004': (39.28, -76.65), '110716RB008': (39.30, -76.66), '110716TF000': (39.29, -76.64), '110716TF019': (39.30, -76.65), '110816AT003': (39.29, -76.65), '110816AT006': (39.29, -76.68),\n",
    "                '110816AT014': (39.29, -76.68), '110816DN004': (39.28, -76.64), '110816DN029': (39.28, -76.66), '110816DN034': (39.29, -76.65), '110816DN037': (39.30, -76.67), '110816NA001': (39.29, -76.67),\n",
    "                '110816NA028': (39.28, -76.65), '110816NA039': (39.29, -76.66), '110816NA040': (39.29, -76.66), '110816NA049': (39.30, -76.66), '110816RB010': (39.28, -76.65), '110816TF013': (39.29, -76.65),\n",
    "                '110816TF015': (39.29, -76.65), '110816TF032': (39.30, -76.67), '110816TF038': (39.28, -76.65), '110816TF044': (39.30, -76.66), '110916AT000': (39.29, -76.65), '110916DN009': (39.28, -76.65),\n",
    "                '110916DN019': (39.30, -76.64), '110916DN021': (39.30, -76.67), '110916DN022': (39.28, -76.66), '110916DN029': (39.28, -76.65), '110916DN065': (39.29, -76.68), '110916DN069': (39.30, -76.67),\n",
    "                '110916NA001': (39.30, -76.65), '110916NA036': (39.30, -76.65), '110916NA046': (39.28, -76.66), '110916RB004': (39.28, -76.66), '110916RB021': (39.30, -76.66), '110916TF000': (39.29, -76.65),\n",
    "                '110916TF013': (39.30, -76.64), '110916TF017': (39.29, -76.65), '110916TF025': (39.29, -76.65), '110916TF037': (39.29, -76.66), '111016DN013': (39.28, -76.66), '111016DN015': (39.28, -76.66),\n",
    "                '111016DN022': (39.29, -76.66), '111016DN036': (39.29, -76.64), '111016DN049': (39.29, -76.66), '111016DN055': (39.30, -76.65), '111016DN058': (39.29, -76.64), '111016NA018': (39.29, -76.65),\n",
    "                '111016NA029': (39.30, -76.65), '111016NA040': (39.28, -76.65), '111016RB010': (39.30, -76.65), '111016RB014': (39.28, -76.67), '111016RB017': (39.28, -76.66), '111016TF007': (39.30, -76.66),\n",
    "                '111016TF015': (39.30, -76.65), '111016TF024': (39.28, -76.64), '111016TF025': (39.29, -76.68), '111116AT004': (39.29, -76.66), '111116DN008': (39.29, -76.64), '111116DN015': (39.29, -76.66),\n",
    "                '111116DN030': (39.30, -76.65), '111116DN033': (39.28, -76.65), '111116DN048': (39.28, -76.65), '111116NA001': (39.28, -76.66), '111116NA026': (39.28, -76.64), '111116NA031': (39.29, -76.68),\n",
    "                '111116RB005': (39.28, -76.67), '111116RB012': (39.30, -76.67), '111116TF004': (39.30, -76.65), '111116TF010': (39.30, -76.67), '111116TF036': (39.29, -76.67), '111116TF048': (39.30, -76.66)\n",
    "               }"
   ]
  },
  {
   "cell_type": "code",
   "execution_count": null,
   "metadata": {},
   "outputs": [],
   "source": [
    "## YOUR CODE GOES HERE ##"
   ]
  },
  {
   "cell_type": "code",
   "execution_count": null,
   "metadata": {},
   "outputs": [],
   "source": [
    "## INSTRUCTION SOLUTION(S) ##\n",
    "coord_count = {}\n",
    "for crime_id, coord in crime_coords.items():\n",
    "    if coord not in coord_count:\n",
    "        coord_count[coord] = 1\n",
    "    else:\n",
    "        coord_count[coord] += 1\n",
    "        \n",
    "coord_count"
   ]
  },
  {
   "cell_type": "markdown",
   "metadata": {},
   "source": [
    "**Problem 3:** Using the dictionary you just created, programmatically find the coordinate that appeared most in the data set. HINT: The answer is `(39.29, -76.65)`."
   ]
  },
  {
   "cell_type": "code",
   "execution_count": null,
   "metadata": {},
   "outputs": [],
   "source": [
    "## YOUR CODE GOES HERE ##"
   ]
  },
  {
   "cell_type": "code",
   "execution_count": null,
   "metadata": {},
   "outputs": [],
   "source": [
    "## INSTRUCTION SOLUTION(S) ##\n",
    "biggest_count = -1\n",
    "\n",
    "for coord, count in coord_count.items():\n",
    "    if count > biggest_count:\n",
    "        biggest_count = count\n",
    "        target_coord = coord\n",
    "\n",
    "print(target_coord)\n",
    "\n",
    "## ALTERNATE SOLUTION ##\n",
    "biggest_count = max(coord_count.values())\n",
    "for coord, count in coord_count.items():\n",
    "    if count == biggest_count:\n",
    "        print(coord)\n",
    "        break"
   ]
  },
  {
   "cell_type": "markdown",
   "metadata": {},
   "source": [
    "<hr>\n",
    "\n",
    "<a id=\"PE6\"></a>\n",
    "### 6.6.6. Practical Exercise 6: Shortest and Longest Words\n",
    "\n",
    "**Problem 1:** Use a loop to find the length of the shortest word in the set below. HINT: The answer is 2."
   ]
  },
  {
   "cell_type": "code",
   "execution_count": null,
   "metadata": {},
   "outputs": [],
   "source": [
    "words = {'Rick', 'Omar', 'William', 'Brenda', 'Susan', 'Marilyn', 'Fritz', 'Jesse', 'June', 'Brian', 'Thelma', \n",
    "         'Gary', 'Ryan', 'Larry', 'David', 'Hertha', 'Earl', 'Jared', 'Robert', 'Cheryl', 'Patricia', 'Jane', \n",
    "         'Jose', 'Chad', 'Irwin', 'Sammy', 'Karl', 'Eric', 'Coleen', 'Kaitlin', 'Lee', 'Janice', 'Carol', 'Henry', \n",
    "         'Jill', 'Clay', 'Troy', 'Gerald', 'Richard', 'Heather', 'Kim', 'James', 'Lindsay', 'Arden', 'Frank', 'Joshua', \n",
    "         'Mildred', 'Valentina', 'Paula', 'Rachel', 'Clinton', 'Joseph', 'Quintin', 'Devin', 'Jeffrey', 'Thaddeus', \n",
    "         'Lorena', 'Jennefer', 'Bernadine', 'Kyle', 'Beverly', 'Laurel', 'Leonard', 'Fermin', 'Kayla', 'Crystal', \n",
    "         'Amos', 'Cornelius', 'John', 'Karen', 'Howard', 'Angela', 'Linda', 'Gwendolyn', 'Edgar', 'Jo', 'Clifford', \n",
    "         'Harold', 'Darnell', 'Mary', 'Gordon', 'Ada', 'Isidro', 'Jack', 'Lynn', 'Sana', 'Mattie', 'Hilary', 'Christine', \n",
    "         'Antoinette', 'Alejandro'}"
   ]
  },
  {
   "cell_type": "code",
   "execution_count": null,
   "metadata": {},
   "outputs": [],
   "source": [
    "## YOUR CODE GOES HERE ##"
   ]
  },
  {
   "cell_type": "code",
   "execution_count": null,
   "metadata": {},
   "outputs": [],
   "source": [
    "## INSTRUCTION SOLUTION(S) ##\n",
    "min_length = len(words.pop())  \n",
    "\n",
    "for word in words:\n",
    "    if len(word) < min_length:\n",
    "        min_length = len(word)\n",
    "        \n",
    "min_length"
   ]
  },
  {
   "cell_type": "markdown",
   "metadata": {},
   "source": [
    "**Problem 2:** Use a loop to find the length of the longest word in the set below. "
   ]
  },
  {
   "cell_type": "code",
   "execution_count": null,
   "metadata": {},
   "outputs": [],
   "source": [
    "words = {'Rick', 'Omar', 'William', 'Brenda', 'Susan', 'Marilyn', 'Fritz', 'Jesse', 'June', 'Brian', 'Thelma', \n",
    "         'Gary', 'Ryan', 'Larry', 'David', 'Hertha', 'Earl', 'Jared', 'Robert', 'Cheryl', 'Patricia', 'Jane', \n",
    "         'Jose', 'Chad', 'Irwin', 'Sammy', 'Karl', 'Eric', 'Coleen', 'Kaitlin', 'Lee', 'Janice', 'Carol', 'Henry', \n",
    "         'Jill', 'Clay', 'Troy', 'Gerald', 'Richard', 'Heather', 'Kim', 'James', 'Lindsay', 'Arden', 'Frank', 'Joshua', \n",
    "         'Mildred', 'Valentina', 'Paula', 'Rachel', 'Clinton', 'Joseph', 'Quintin', 'Devin', 'Jeffrey', 'Thaddeus', \n",
    "         'Lorena', 'Jennefer', 'Bernadine', 'Kyle', 'Beverly', 'Laurel', 'Leonard', 'Fermin', 'Kayla', 'Crystal', \n",
    "         'Amos', 'Cornelius', 'John', 'Karen', 'Howard', 'Angela', 'Linda', 'Gwendolyn', 'Edgar', 'Jo', 'Clifford', \n",
    "         'Harold', 'Darnell', 'Mary', 'Gordon', 'Ada', 'Isidro', 'Jack', 'Lynn', 'Sana', 'Mattie', 'Hilary', 'Christine', \n",
    "         'Antoinette', 'Alejandro', 'Christophe'}"
   ]
  },
  {
   "cell_type": "code",
   "execution_count": null,
   "metadata": {},
   "outputs": [],
   "source": [
    "## YOUR CODE GOES HERE ##"
   ]
  },
  {
   "cell_type": "code",
   "execution_count": null,
   "metadata": {},
   "outputs": [],
   "source": [
    "## INSTRUCTION SOLUTION(S) ##\n",
    "max_length = 0\n",
    "\n",
    "for word in words:\n",
    "    if len(word) > max_length:\n",
    "        max_length = len(word)\n",
    "        \n",
    "max_length"
   ]
  },
  {
   "cell_type": "markdown",
   "metadata": {},
   "source": [
    "**Problem 3:** Loop through the set above again. This time, append any word that is the same length as the longest word to a new list. HINT: Your final list should have two words in it."
   ]
  },
  {
   "cell_type": "code",
   "execution_count": null,
   "metadata": {},
   "outputs": [],
   "source": [
    "## YOUR CODE GOES HERE ##"
   ]
  },
  {
   "cell_type": "code",
   "execution_count": null,
   "metadata": {},
   "outputs": [],
   "source": [
    "## INSTRUCTION SOLUTION(S) ##\n",
    "big_words = []\n",
    "for word in words:\n",
    "    if len(word) == max_length:\n",
    "        big_words.append(word)\n",
    "        \n",
    "big_words"
   ]
  },
  {
   "cell_type": "markdown",
   "metadata": {},
   "source": [
    "<hr>\n",
    "\n",
    "<a id=\"PE7\"></a>\n",
    "### 6.6.7. [Challenge] Practical Exercise 7: Digit Degree\n",
    "\n",
    "Let's define the digit degree of some positive integer as the number of times we need to replace this number with the sum of its digits until we get to a one-digit number. Write a script to find the digit degree of any positive integer.\n",
    "\n",
    "| Example Input | Expected Output |\n",
    "|:-------:|:-----------------:|\n",
    "| `5` | `0` |\n",
    "| `100` | `1` |\n",
    "| `91` | `2` |\n",
    "| `289` | `3` |\n",
    "\n",
    "Example: Digit degree of 289\n",
    "\n",
    "    289 ⟹ 2 + 8 + 9 ⟹ 19\n",
    "    19 ⟹ 1 + 9 ⟹ 10\n",
    "    10 ⟹ 1 + 0 ⟹ 1 (degree = 3) (we've reached a one-digit number, so we stop)"
   ]
  },
  {
   "cell_type": "code",
   "execution_count": null,
   "metadata": {},
   "outputs": [],
   "source": [
    "## YOUR CODE GOES HERE ##"
   ]
  },
  {
   "cell_type": "code",
   "execution_count": null,
   "metadata": {},
   "outputs": [],
   "source": [
    "## INSTRUCTION SOLUTION(S) ##\n",
    "n = 289\n",
    "degree = 0\n",
    "\n",
    "while len(str(n)) > 1:\n",
    "        \n",
    "    digit_sum = 0\n",
    "    for digit in str(n):\n",
    "        digit_sum += int(digit)\n",
    "    \n",
    "    n = digit_sum\n",
    "    degree += 1\n",
    "    \n",
    "degree"
   ]
  },
  {
   "cell_type": "markdown",
   "metadata": {},
   "source": [
    "<hr>\n",
    "\n",
    "<a id=\"PE8\"></a>\n",
    "### 6.6.8. [Challenge] Practical Exercise 8: Common Character Count\n",
    "\n",
    "Given two strings find the total number of common characters between them (case sensitive). For example, if the two strings are `'abda'` and `'ada'` the common character count should be `3` (the strings have three characters in common: two `'a'`s and one `'d'`).\n",
    "\n",
    "| Example Input | Expected Output |\n",
    "|:-------|:-----------------:|\n",
    "| `s1 = 'aaa'`<br>`s2 = 'aa'` | `2` |\n",
    "| `s1 = 'aabcc'`<br>`s2 = 'adcaa'` | `3` |\n",
    "| `s1 = 'abcabc'`<br>`s2 = 'xyzmtf'` | `0` |\n",
    "| `s1 = 'zzzzZa'`<br>`s2 = 'zzzzzzzaaa'` | `5` |"
   ]
  },
  {
   "cell_type": "code",
   "execution_count": null,
   "metadata": {},
   "outputs": [],
   "source": [
    "## YOUR CODE GOES HERE ##"
   ]
  },
  {
   "cell_type": "code",
   "execution_count": null,
   "metadata": {},
   "outputs": [],
   "source": [
    "## INSTRUCTION SOLUTION(S) ##\n",
    "s1 = 'zzzzZa'\n",
    "s2 = 'zzzzzzzaaa'\n",
    "\n",
    "result = 0\n",
    "for letter in set(s1):\n",
    "    if letter in s2:\n",
    "        count1 = s1.count(letter)\n",
    "        count2 = s2.count(letter)\n",
    "        result += min(count1, count2)\n",
    "        \n",
    "result"
   ]
  },
  {
   "cell_type": "markdown",
   "metadata": {},
   "source": [
    "<hr>\n",
    "\n",
    "<a id=\"PE9\"></a>\n",
    "### 6.6.9. [Challenge] Practical Exercise 9: Guessing Game\n",
    "\n",
    "#### References:\n",
    "* [Python: The Random Library's `.randint()` function](https://docs.python.org/3/library/random.html#random.randint)\n",
    "\n",
    "Create a game to guess the number that the computer randomly generates. \n",
    "\n",
    "**Problem 1:** Using the code given below, generate a random number between 1 and 9 inclusive. For more information, see [the documentation](https://docs.python.org/3/library/random.html#random.randint). Store your own guess in the `guess` variable, then write an `if` block to print whether you were correct or not."
   ]
  },
  {
   "cell_type": "code",
   "execution_count": null,
   "metadata": {},
   "outputs": [],
   "source": [
    "import random\n",
    "\n",
    "number = random.randint(1, 9)\n",
    "guess = 8"
   ]
  },
  {
   "cell_type": "code",
   "execution_count": null,
   "metadata": {},
   "outputs": [],
   "source": [
    "## YOUR CODE GOES HERE ##"
   ]
  },
  {
   "cell_type": "code",
   "execution_count": null,
   "metadata": {},
   "outputs": [],
   "source": [
    "## INSTRUCTION SOLUTION(S) ##\n",
    "if guess < number:\n",
    "    print('Too low!')\n",
    "    \n",
    "elif guess > number:\n",
    "    print('Too high!')\n",
    "    \n",
    "else:\n",
    "    print('You got it!')"
   ]
  },
  {
   "cell_type": "markdown",
   "metadata": {},
   "source": [
    "**Problem 2:** You can use the `input()` function to capture a guess from the player using the code below. Copy your code from above into the cell below and try it out."
   ]
  },
  {
   "cell_type": "code",
   "execution_count": null,
   "metadata": {},
   "outputs": [],
   "source": [
    "number = random.randint(1, 9)\n",
    "guess = int(input('Enter a number 1 through 9: '))"
   ]
  },
  {
   "cell_type": "code",
   "execution_count": null,
   "metadata": {},
   "outputs": [],
   "source": [
    "## YOUR CODE GOES HERE ##"
   ]
  },
  {
   "cell_type": "code",
   "execution_count": null,
   "metadata": {},
   "outputs": [],
   "source": [
    "## INSTRUCTION SOLUTION(S) ##\n",
    "if guess < number:\n",
    "    print('Too low!')\n",
    "    \n",
    "elif guess > number:\n",
    "    print('Too high!')\n",
    "    \n",
    "else:\n",
    "    print('You got it!')"
   ]
  },
  {
   "cell_type": "markdown",
   "metadata": {},
   "source": [
    "**Problem 3:** Take all the code from the problem above and nest it under a `while` loop. The idea is to keep asking for guesses until the player gets it right."
   ]
  },
  {
   "cell_type": "code",
   "execution_count": null,
   "metadata": {},
   "outputs": [],
   "source": [
    "## YOUR CODE GOES HERE ##"
   ]
  },
  {
   "cell_type": "code",
   "execution_count": null,
   "metadata": {},
   "outputs": [],
   "source": [
    "## INSTRUCTION SOLUTION(S) ##\n",
    "number = random.randint(1, 9)\n",
    "guess = int(input('Enter a number 1 through 9: '))\n",
    "\n",
    "while guess != number:\n",
    "    if guess < number:\n",
    "        print('Too low!')\n",
    "\n",
    "    elif guess > number:\n",
    "        print('Too high!')\n",
    "    \n",
    "    guess = int(input('Enter a number 1 through 9: '))\n",
    "    \n",
    "print('You got it!')"
   ]
  },
  {
   "cell_type": "markdown",
   "metadata": {},
   "source": [
    "<a id='appendix'></a>\n",
    "## 6.7. Appendix"
   ]
  },
  {
   "cell_type": "markdown",
   "metadata": {},
   "source": [
    "<center><b>Looping Keywords</b></center>\n",
    "\n",
    "| Keyword               | Description                               |\n",
    "|:----------------------:|-------------------------------------------|\n",
    "|`for`| Initializes a `for` loop, which continues through every item in a collection|\n",
    "|`while`| Initializes a `while` loop, which continues until a stop condition is met|\n",
    "|`break`| Exits the nearest `for` or `while` loop it is nested under|\n",
    "|`continue`| Exits the current iteration of the nearest `for` or `while` loop it is nested under|\n",
    "\n",
    "<br><center><b>Looping Through a Dictionary</b></center>\n",
    "\n",
    "| Syntax               | Description                               |\n",
    "|:----------------------:|-------------------------------------------|\n",
    "|`for key, val in my_dict.items():`| Allows you to loop through `my_dict`, storing each entry's key in `key` and value in `val`|"
   ]
  },
  {
   "cell_type": "markdown",
   "metadata": {},
   "source": [
    "<hr> <b><center>UNCLASSIFIED</center></b>"
   ]
  }
 ],
 "metadata": {
  "anaconda-cloud": {},
  "celltoolbar": "Raw Cell Format",
  "kernelspec": {
   "display_name": "Python 3",
   "language": "python",
   "name": "python3"
  },
  "language_info": {
   "codemirror_mode": {
    "name": "ipython",
    "version": 3
   },
   "file_extension": ".py",
   "mimetype": "text/x-python",
   "name": "python",
   "nbconvert_exporter": "python",
   "pygments_lexer": "ipython3",
   "version": "3.7.3"
  }
 },
 "nbformat": 4,
 "nbformat_minor": 2
}
