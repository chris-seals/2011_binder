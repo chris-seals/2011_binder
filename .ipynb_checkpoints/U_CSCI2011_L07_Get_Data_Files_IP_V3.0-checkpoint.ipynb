{
 "cells": [
  {
   "cell_type": "markdown",
   "metadata": {},
   "source": [
    "<b><center>UNCLASSIFIED</center></b>"
   ]
  },
  {
   "cell_type": "markdown",
   "metadata": {},
   "source": [
    "<img src=\"./GRAPHICS/Banner.png\" width=\"110%\">"
   ]
  },
  {
   "cell_type": "markdown",
   "metadata": {},
   "source": [
    "# Lesson 7: Getting Data from Files"
   ]
  },
  {
   "cell_type": "markdown",
   "metadata": {},
   "source": [
    "## Table of Contents\n",
    "\n",
    "7.1. [Objectives](#Objectives)<br>\n",
    "7.2. [Overview](#Overview)<br>\n",
    "7.3. [Review](#Review)<br>\n",
    "&nbsp;&nbsp;&nbsp;&nbsp;7.3.1. [For Loops](#for)<br>\n",
    "7.4. [Lesson: Getting Data From Files](#Lesson)<br>\n",
    "&nbsp;&nbsp;&nbsp;&nbsp;7.4.1. [Reading and Writing Plain Text](#Read)<br>\n",
    "&nbsp;&nbsp;&nbsp;&nbsp;7.4.2. [Getting Data with the CSV Library](#CSV)<br>\n",
    "&nbsp;&nbsp;&nbsp;&nbsp;7.4.3. [The Glob Library: How to Find and Read Multiple Files](#Glob)<br>\n",
    "7.5. [Guided Exercise: Data Exploration and Engineering](#GuidedExercise)<br>\n",
    "7.6. [Practical Exercises](#PracticalExercise)<br>\n",
    "&nbsp;&nbsp;&nbsp;&nbsp;7.6.1. [Practical Exercise 1: Use Glob to Create a List of Filenames](#PE1)<br>\n",
    "&nbsp;&nbsp;&nbsp;&nbsp;7.6.2. [Practical Exercise 2: Read in Multiple Files in a Loop](#PE2)<br>\n",
    "&nbsp;&nbsp;&nbsp;&nbsp;7.6.3. [Practical Exercise 3: Analyze FR24 Data](#PE3)<br>\n",
    "&nbsp;&nbsp;&nbsp;&nbsp;7.6.4. [Practical Exercise 4: Personnel Data](#PE4)<br>\n",
    "&nbsp;&nbsp;&nbsp;&nbsp;7.6.5. [Practical Exercise 5: Netflix Data](#PE5)<br>\n",
    "&nbsp;&nbsp;&nbsp;&nbsp;7.6.6. [Practical Exercise 6: Resume Analysis](#PE6)<br>\n",
    "7.7. [Appendix](#appendix)<br>"
   ]
  },
  {
   "cell_type": "markdown",
   "metadata": {},
   "source": [
    "***\n",
    "<a id='Objectives'></a>\n",
    "## 7.1. Objectives\n",
    "\n",
    "* Examine the implications of using computation to solve a problem\n",
    "    * Discuss best practices for using computation to solve a problem\n",
    "    * Suggest types of problems that can be solved through computation\n",
    "    * Show how computation can solve a problem\n",
    "<br><br>    \n",
    "* Recognize key computer science concepts\n",
    "    * Identify data types used in Python scripting\n",
    "    * Identify data structures used in Python scripting\n",
    "    * Define variables and strings\n",
    "    * Recognize how queries operate\n",
    "<br><br>    \n",
    "* Demonstrate the ability to build basic scripts using Python scripting language\n",
    "    * Use various data types and structures in Python scripting\n",
    "    * Collect data using Python scripting\n",
    "    * Extract data using Python scripting\n",
    "    * Develop advanced data structures using Python scripting"
   ]
  },
  {
   "cell_type": "markdown",
   "metadata": {},
   "source": [
    "<hr>\n",
    "\n",
    "<a id='Overview'></a>\n",
    "## 7.2. Overview\n",
    "The following material is divided into the following parts:\n",
    "* Lesson\n",
    "* Guided Exercise\n",
    "* Practical Exercises"
   ]
  },
  {
   "cell_type": "markdown",
   "metadata": {},
   "source": [
    "<b><font color=\"brick\">Instructor Guidance</font>: Refer back to Lesson 1 and relate the four steps of problem-solving using Computational Thinking (Decomposition, Pattern Recognition, Abstraction, & Algorithm Design) to lessons, exercises, examples, student questions/comments, etc., as appropriate throughout this lesson.</b>"
   ]
  },
  {
   "cell_type": "markdown",
   "metadata": {},
   "source": [
    "<hr>\n",
    "\n",
    "<a id='Review'></a>\n",
    "## 7.3. Review\n",
    "\n",
    "<hr>\n",
    "\n",
    "<a id='for'></a>\n",
    "### 7.3.1. For Loops\n",
    "\n",
    "**Exercise:** Take the 'jumbled_list' below and separate the strings and integers into two new lists. One list will contain all the integers, and the other will contain all the strings. HINT: To check whether an item is a string, you can use the Boolean expression `type(item) == str`.\n",
    "\n",
    "**Bonus:** Join the list of strings into a single string using the '.join()' method before you print it out."
   ]
  },
  {
   "cell_type": "code",
   "execution_count": null,
   "metadata": {},
   "outputs": [],
   "source": [
    "jumbled_list = ['2', 3, 5, 10, '8', 7, '0', 9, 13, '18', 99, 34, '72', 53, '28', 8, 14, '46', 99, '81', 32, 30, 1, '64']"
   ]
  },
  {
   "cell_type": "code",
   "execution_count": null,
   "metadata": {},
   "outputs": [],
   "source": [
    "## YOUR CODE GOES HERE ##"
   ]
  },
  {
   "cell_type": "code",
   "execution_count": null,
   "metadata": {},
   "outputs": [],
   "source": [
    "## INSTRUCTION SOLUTION(S) ##\n",
    "\n",
    "jumbled_list = ['2', 3, 5, 10, '8', 7, '0', 9, 13, '18', 99, 34, '72', 53, '28', 8, 14, '46', 99, '81', 32, 30, 1, '64']\n",
    "\n",
    "string_list = []\n",
    "int_list = []\n",
    "\n",
    "for item in jumbled_list:\n",
    "    \n",
    "    if type(item) == str:\n",
    "        string_list.append(item)\n",
    "    else: \n",
    "        int_list.append(item)\n",
    "        \n",
    "print(int_list)\n",
    "print(string_list)\n",
    "\n",
    "## BONUS SOLUTION(S) ##\n",
    "''.join(string_list)"
   ]
  },
  {
   "cell_type": "markdown",
   "metadata": {},
   "source": [
    "**Exercise:** Starting from the beginning of the list below, how many numbers do you need to sum up before the total is greater or equal to 5,000?"
   ]
  },
  {
   "cell_type": "code",
   "execution_count": null,
   "metadata": {},
   "outputs": [],
   "source": [
    "count_data = (8, 11, 20, 25, 30, 44, 45, 49, 51, 56, 62, 66, 77, 78, 80, 84, 85, 108, 110, 111, 112, 114, 118, 119, 122, 150, 153, 164, 167, 174, 179, 179, 181, 183, 193, 207, 207, 209, 216, 225, 232, 233, 235, 238, 247, 253, 254, 260, 260, 268, 270, 274, 283, 284, 287, 288, 297, 300, 306, 306, 310, 311, 316, 320, 321, 324, 327, 345, 357, 365, 376, 392, 408, 410, 415, 418, 421, 421, 424, 428, 434, 435, 435, 440, 452, 452, 453, 461, 463, 470, 479, 482, 487, 491, 498, 506, 510, 520, 521, 525, 534, 543, 545, 547, 551, 553, 555, 555, 558, 569, 573, 576, 580, 581, 590, 599, 608, 616, 616, 619, 630, 631, 632, 633, 664, 664, 671, 674, 678, 680, 680, 682, 691, 691, 693, 694, 699, 699, 700, 707, 713, 716, 727, 730, 747, 748, 752, 753, 756, 761, 771, 771, 773, 793, 794, 795, 800, 801, 801, 808, 811, 815, 819, 823, 829, 835, 839, 840, 841, 847, 854, 856, 860, 864, 871, 880, 890, 893, 898, 914, 915, 917, 918, 919, 924, 930, 931, 941, 944, 946, 953, 963, 964, 973, 986, 989, 990, 994, 995, 999)"
   ]
  },
  {
   "cell_type": "code",
   "execution_count": null,
   "metadata": {},
   "outputs": [],
   "source": [
    "## YOUR CODE GOES HERE ##"
   ]
  },
  {
   "cell_type": "code",
   "execution_count": null,
   "metadata": {},
   "outputs": [],
   "source": [
    "## INSTRUCTION SOLUTION(S) ##\n",
    "my_count = 0\n",
    "my_sum = 0\n",
    "\n",
    "for n in count_data:\n",
    "    my_count += 1\n",
    "    my_sum += n\n",
    "    \n",
    "    if my_sum >= 5000:\n",
    "        break\n",
    "    \n",
    "\n",
    "print(my_count)\n",
    "print(my_sum)\n",
    "\n",
    "## ALTERNATE SOLUTION ##\n",
    "ix = 0\n",
    "total = 0\n",
    "\n",
    "while total < 5000:\n",
    "    current_num = count_data[ix]\n",
    "    total += current_num\n",
    "        \n",
    "    ix += 1\n",
    "    \n",
    "\n",
    "print(ix)\n",
    "print(total)"
   ]
  },
  {
   "cell_type": "markdown",
   "metadata": {},
   "source": [
    "<hr>\n",
    "\n",
    "<a id='Lesson'></a>\n",
    "## 7.4. Lesson: Getting Data From Files\n",
    "\n",
    "<hr>\n",
    "\n",
    "<a id='Read'></a>\n",
    "### 7.4.1. Reading and Writing Plain Text\n",
    "\n",
    "#### References:\n",
    "* [Python 3.5 open()](https://docs.python.org/3.5/library/functions.html#open)\n",
    "* [Python Tutorial - Reading and Writing Files](https://docs.python.org/2/tutorial/inputoutput.html#reading-and-writing-files)\n",
    "\n",
    "#### 7.4.1.1. The `open()` Function\n",
    "The `open()` function creates a connection between your Python script and a file. This connection is sometimes called a _file stream_. The primary argument `open()` takes is a string: the location of the file you want to connect to. Once a file stream is opened, it must be closed for the file to be saved and accessed later. Python can connect to a file in various modes, the most basic of which are `'r'` (read mode) and `'w'` (write mode). \n",
    "\n",
    "Reading from (or writing to) a local file consists of three basic steps: open, read/write, and close. Remembering to close the file is an easy step to skip. Luckily, we don't have to remember to close the file if we use the `with` and `as` keywords to store the file stream in a temporary variable. Our code to read or write data is indented under the `with` statement, and the file will close automatically when the indented code runs. \n",
    "\n",
    "Below is an example of what a `with open()` block looks like. \n",
    "\n",
    "```python\n",
    "with open('path/folder/filename.ext') as f:\n",
    "    variable_name = f.read()```\n",
    "\n",
    "Note the slashes (`/`) separating the words in the `open()` function's argument. By default, Python will look for files in your current working folder—the folder where your script or notebook is stored. If you want to read or write to a file in a different folder, you must include a _path_ to that folder. Most of the time, you'll use what's called the _relative path_. The relative path tells Python all the steps to take to get from the current working folder to the destination folder. Each step is separated by a slash (`/`) after each folder name. \n",
    "\n",
    "* To read a file, mode is `'r'` and the method is `.read()`. (This is the default mode, so if you don't pass a `mode` argument, the mode is `'r'`.)\n",
    "* To write a file, mode is `'w'` and the method is `.write()`."
   ]
  },
  {
   "cell_type": "markdown",
   "metadata": {},
   "source": [
    "#### 7.4.1.2. Read a Text File\n",
    "Let's read in Kermit the Frog's Resume from the file in the location below and print it to the screen. Since we want to open the file in read mode, we don't need to pass a mode argument.\n",
    "<br><br>\n",
    "<center> <code>data/lesson_7/kermit.txt</code></center>"
   ]
  },
  {
   "cell_type": "code",
   "execution_count": null,
   "metadata": {
    "scrolled": true
   },
   "outputs": [],
   "source": [
    "with open('data/lesson_7/kermit.txt') as f: \n",
    "    kermit_resume = f.read()\n",
    "\n",
    "print(kermit_resume)"
   ]
  },
  {
   "cell_type": "markdown",
   "metadata": {},
   "source": [
    "After the code indented under `with` is executed, the file stream is closed, so we can't read from it anymore. What happens if we try?"
   ]
  },
  {
   "cell_type": "code",
   "execution_count": null,
   "metadata": {
    "scrolled": true
   },
   "outputs": [],
   "source": [
    "f.read()"
   ]
  },
  {
   "cell_type": "markdown",
   "metadata": {},
   "source": [
    ">NOTE: `I/O` stands for Input/Output."
   ]
  },
  {
   "cell_type": "markdown",
   "metadata": {},
   "source": [
    "**Exercise:** Using a `with open()` block and `.read()`, read in the following file, save its contents to a variable, and then print it to the screen.\n",
    "<br><br>\n",
    "<center><code>data/resumes/01.txt</code></center>"
   ]
  },
  {
   "cell_type": "code",
   "execution_count": null,
   "metadata": {},
   "outputs": [],
   "source": [
    "## YOUR CODE GOES HERE ##"
   ]
  },
  {
   "cell_type": "code",
   "execution_count": null,
   "metadata": {},
   "outputs": [],
   "source": [
    "## INSTRUCTION SOLUTION(S) ##\n",
    "with open('data/resumes/01.txt') as f:\n",
    "    resume = f.read()\n",
    "    \n",
    "resume"
   ]
  },
  {
   "cell_type": "markdown",
   "metadata": {},
   "source": [
    "Now that you have your file's contents stored as a string, you can use all of the tools you learned in previous lessons to analyze the data using Python. Refer back to Lesson 2 for string methods. <br>\n",
    "\n",
    "Let's pull out the url from Kermit's resume that we read in above. To do so, we can search the string for the characters unique to the beginning of a url: `'http:'`."
   ]
  },
  {
   "cell_type": "code",
   "execution_count": null,
   "metadata": {},
   "outputs": [],
   "source": [
    "url_start = kermit_resume.find('http:')\n",
    "url_start"
   ]
  },
  {
   "cell_type": "code",
   "execution_count": null,
   "metadata": {},
   "outputs": [],
   "source": [
    "kermit_resume[url_start:url_start+50]"
   ]
  },
  {
   "cell_type": "markdown",
   "metadata": {},
   "source": [
    "We've found the url that we're looking for, but now we need to find where the url ends. Looking closer, we can see that the end of the url is followed by a space. `.find()` has an optional second argument that specifies at what index in the string it should start looking, so we can tell Python to look for the first space in the string after the beginning of the url."
   ]
  },
  {
   "cell_type": "code",
   "execution_count": null,
   "metadata": {},
   "outputs": [],
   "source": [
    "url_end = kermit_resume.find(' ', url_start)\n",
    "url_end"
   ]
  },
  {
   "cell_type": "code",
   "execution_count": null,
   "metadata": {},
   "outputs": [],
   "source": [
    "kermit_resume[url_start:url_end]"
   ]
  },
  {
   "cell_type": "markdown",
   "metadata": {},
   "source": [
    "#### 7.4.1.3. Write a Text File\n",
    "\n",
    "Now let's write a plain text file. By default, any new file will be created in your current working folder, the same folder that holds this Jupyter Notebook. But we can change that by adding a path with folder names and slashes (`/`) to the beginning of the file name. We need something to write to our new file, so let's just write the URL we found above.\n",
    "\n",
    ">NOTE: When we open a file for the purpose of writing to it, we need to pass the `'w'` mode argument."
   ]
  },
  {
   "cell_type": "code",
   "execution_count": null,
   "metadata": {},
   "outputs": [],
   "source": [
    "url = kermit_resume[url_start:url_end]\n",
    "\n",
    "with open('data/lesson_7/Kermit_URL.txt', 'w') as f:\n",
    "    f.write(url)"
   ]
  },
  {
   "cell_type": "markdown",
   "metadata": {},
   "source": [
    ">WARNING: If the file already exists, opening the file in `'w'` mode will clear its current contents. \n",
    "\n",
    "**Exercise:** Write a file called `my_info.txt` to the `data/lesson_6/` folder. It should contain your name and your unclassified email address. (You can make up a fake name and email if you prefer.)"
   ]
  },
  {
   "cell_type": "code",
   "execution_count": null,
   "metadata": {},
   "outputs": [],
   "source": [
    "## YOUR CODE GOES HERE ##"
   ]
  },
  {
   "cell_type": "code",
   "execution_count": null,
   "metadata": {},
   "outputs": [],
   "source": [
    "## INSTRUCTION SOLUTION(S) ##\n",
    "name = 'This is only a test!!!'\n",
    "email = 'DrWho@myemail.com'\n",
    "with open('data/lesson_7/my_info.txt','w') as f:\n",
    "    f.write(name + '\\n')\n",
    "    f.write(email)"
   ]
  },
  {
   "cell_type": "markdown",
   "metadata": {},
   "source": [
    "<hr> <a id='CSV'></a>\n",
    "\n",
    "### 7.4.2. Getting Data with the CSV Library\n",
    "\n",
    "#### References:\n",
    "* [Python 3.4: CSV File Reading and Writing](https://docs.python.org/3.4/library/csv.html)\n",
    "\n",
    "Comma separated values (CSV) is a common format for storing data. CSV files are useful for storing tabular data—data that fits into a rows-and-columns structure—and can be read by Microsoft Excel. The CSV Library provides functions to both read and write CSV files in Python scripts."
   ]
  },
  {
   "cell_type": "code",
   "execution_count": null,
   "metadata": {},
   "outputs": [],
   "source": [
    "import csv"
   ]
  },
  {
   "cell_type": "markdown",
   "metadata": {},
   "source": [
    "#### 7.4.2.1. Using `.DictReader()` to Read a CSV File\n",
    "\n",
    "In the CSV Library, the `.DictReader()` object interprets CSV data as a list of dictionaries. Look at the following three representations of the same data. The first is a table similar to what you would see if you were working in Excel, the second is plain text, and the third is a Python list of dictionaries. Despite their differences, these three representations contain the same information, and we can convert one to the other using Python tools.\n",
    "\n",
    "                  \n",
    "| Name       | Weight     | Diet      | Average Lifespan    |\n",
    "| :--------- | :---------: | :------:   | :-------------------:|\n",
    "| Giraffe    | 2600       | Shrubbery | 25\t                |\n",
    "| Moose      | 1300       | Shrubbery | 20\t                |\n",
    "| Giant Panda| 220        | Bamboo    | 20               \t|\n",
    "\n",
    "```python\n",
    "csv_data = '''Name,Weight,Diet,Average Lifespan\\n\n",
    "              Giraffe,2600,Shrubbery,25\\n\n",
    "              Moose,1300,Shrubbery,20\\n\n",
    "              Giant Panda,220,Bamboo,20\\n'''\n",
    "```\n",
    "\n",
    "```python\n",
    "csv_data = [{'Average Lifespan': '25',\n",
    "             'Diet': 'Shrubbery',\n",
    "             'Name': 'Giraffe',\n",
    "             'Weight': '2600'},\n",
    "            {'Average Lifespan': '20',\n",
    "             'Diet': 'Shrubbery',\n",
    "             'Name': 'Moose',\n",
    "             'Weight': '1300'},\n",
    "            {'Average Lifespan': '20',\n",
    "             'Diet': 'Bamboo',\n",
    "             'Name': 'Giant Panda',\n",
    "             'Weight': '220'}]\n",
    "```\n",
    "\n",
    "The `.DictReader()` object formats CSV data as a list of dictionaries. The keys for each dictionary are the CSV data's column headers, which are read in from the first line in the file. The `.DictReader()` object is difficult to work with, so we want to convert it to a more familiar data structure. We can do this by simply casting the object to a list using the `list()` function. This will give us a list of dictionaries, a data structure we should be comfortable working with by now."
   ]
  },
  {
   "cell_type": "code",
   "execution_count": null,
   "metadata": {},
   "outputs": [],
   "source": [
    "with open('data/animal/animal_info_land.csv') as csvfile:\n",
    "    reader_obj = csv.DictReader(csvfile)\n",
    "    data = list(reader_obj)\n",
    "\n",
    "data"
   ]
  },
  {
   "cell_type": "markdown",
   "metadata": {},
   "source": [
    "> NOTE: In newer versions of Python, `.DictReader()` returns a list of `OrderedDict` objects rather than a list of standard dictionaries. No problem though — you can treat them both the same."
   ]
  },
  {
   "cell_type": "markdown",
   "metadata": {},
   "source": [
    "Now we can use the tools we've learned about in class to work with the data we just read in. Below, we extract the `Name` value from the second row in our table."
   ]
  },
  {
   "cell_type": "code",
   "execution_count": null,
   "metadata": {},
   "outputs": [],
   "source": [
    "data[1]['Name']"
   ]
  },
  {
   "cell_type": "markdown",
   "metadata": {},
   "source": [
    "**Exercise:** Read the following CSV file using `.DictReader()`. Save all the rows to a new list. \n",
    "<br><br>\n",
    "<center><code>data/animal/animal_info_sea.csv</code></center>\n",
    "\n",
    "**Bonus:** Combine this data with the data about land animals we read in above (i.e. create one data structure with the data from both files). "
   ]
  },
  {
   "cell_type": "code",
   "execution_count": null,
   "metadata": {},
   "outputs": [],
   "source": [
    "## YOUR CODE GOES HERE ##"
   ]
  },
  {
   "cell_type": "code",
   "execution_count": null,
   "metadata": {
    "scrolled": true
   },
   "outputs": [],
   "source": [
    "## INSTRUCTION SOLUTION(S) ##\n",
    "with open('data/animal/animal_info_sea.csv') as csvfile:\n",
    "    reader_obj = csv.DictReader(csvfile)\n",
    "    seadata = list(reader_obj)\n",
    "\n",
    "seadata.extend(data)\n",
    "seadata"
   ]
  },
  {
   "cell_type": "markdown",
   "metadata": {},
   "source": [
    "#### 7.4.2.2. Using `.DictWriter()` to write a CSV File\n",
    "\n",
    "Writer objects can take data and write it to a file as plain text. The `.DictWriter()` object is the tool in the CSV Library for writing CSV files. When we call `.DictWriter()`, we also need to pass it our data's column names. Also, unlike reading CSV data, we need to use separate methods for writing column headers (`.writeheader()`) and data rows (`.writerows()`). <br>\n",
    "\n",
    "```python\n",
    "with open(filepath, mode='w', newline='') as csvfile:\n",
    "    \n",
    "    column_headers = list_of_header_names\n",
    "    \n",
    "    writer = csv.DictWriter(csvfile, column_headers)\n",
    "    \n",
    "    writer.writeheader()\n",
    "    \n",
    "    writer.writerows(data_you_want_to_write_out)\n",
    "```"
   ]
  },
  {
   "cell_type": "markdown",
   "metadata": {},
   "source": [
    "Write the data you created in the exercise above to a CSV file using `.DictWriter()`, `.writeheader()`, and `.writerows()`"
   ]
  },
  {
   "cell_type": "code",
   "execution_count": null,
   "metadata": {},
   "outputs": [],
   "source": [
    "with open('data/animal/animal_dict_output.csv', mode='w', newline='') as csvfile:\n",
    "    \n",
    "    column_headers = ['Name', 'Weight', 'Diet', 'Average Lifespan']\n",
    "    \n",
    "    writer = csv.DictWriter(csvfile, column_headers)\n",
    "    \n",
    "    writer.writeheader()\n",
    "    \n",
    "    writer.writerows(data)"
   ]
  },
  {
   "cell_type": "markdown",
   "metadata": {},
   "source": [
    "<hr>\n",
    "\n",
    "<a id='Glob'></a>\n",
    "### 7.4.3. The Glob Library: How to Find and Read Multiple Files\n",
    "#### References:\n",
    "* [Python 3.4: glob](https://docs.python.org/3.4/library/glob.html)\n",
    "\n",
    "We've shown you how to read data from a single file, but what if we wanted to read data from a thousand files? When reading files individually is out of the question, use the Glob Library. The Glob Library allows you to grab all of the file names that match a specified pattern. Once you have the file names that you want to read, you can use a `for` loop to read each one in. The pattern that we pass to `.glob()` is a string that contains wildcard characters. The wildcards can stand in for any character or substring, thus allowing us to grab many files without typing their names explicitly. Take a look at the example below. As always, our use of Glob requires us to first import the library."
   ]
  },
  {
   "cell_type": "code",
   "execution_count": null,
   "metadata": {},
   "outputs": [],
   "source": [
    "import glob"
   ]
  },
  {
   "cell_type": "code",
   "execution_count": null,
   "metadata": {},
   "outputs": [],
   "source": [
    "files = glob.glob('data/animal/*')\n",
    "files"
   ]
  },
  {
   "cell_type": "markdown",
   "metadata": {},
   "source": [
    "Take note of the output. The asterisk (`*`) is a catch-all for any string of characters. We passed the `.glob()` method the pattern `'data/animal/*'`, which matches any file in the `data/animal/` folder. In return, we get a list of strings, each string corresponding to a file on our computer.\n",
    "\n",
    "#### Discussion Questions\n",
    "1. What is the `'*'`?\n",
    "2. What type of data structure does glob return?\n",
    "3. How many filenames does `.glob()` return?\n",
    "4. What are the file types of the files that matched the pattern?\n",
    "5. How could you use the above list of file names in a script?"
   ]
  },
  {
   "cell_type": "markdown",
   "metadata": {},
   "source": [
    "To get more specific, we could make our pattern `'*.csv'`, which would only collect files with the `.csv` extension."
   ]
  },
  {
   "cell_type": "code",
   "execution_count": null,
   "metadata": {},
   "outputs": [],
   "source": [
    "files = glob.glob('data/animal/*.csv')\n",
    "files"
   ]
  },
  {
   "cell_type": "markdown",
   "metadata": {},
   "source": [
    ">NOTE: The double backslash (`'\\\\'`) is the way `.glob()` separates folders and files when it runs in a Windows environment. When Python code runs on Windows computers, `'\\\\'` and `'/'` are interchangeable as path separators.\n",
    "\n",
    "#### 7.4.3.1. Combining the Glob and CSV Libraries\n",
    "How do the Glob and CSV Libraries fit together? To read in data from a file, we pass that file's location to the `open()` function to create the connection between our script and the file. Then the data is available to read using one of the methods from this lesson. In other words, to read in data, all we need is a string that locates the file on your computer.  Helpfully, that's exactly what `.glob()` produces. The only trick is that `.glob()` gives you a list of those strings, and you have to loop through them and read each file individually. This means taking all of the code we use to read in a CSV file and indenting it underneath a `for` statement. In each run of our loop, we'll read in a single file and add its contents to a larger data collection."
   ]
  },
  {
   "cell_type": "code",
   "execution_count": null,
   "metadata": {},
   "outputs": [],
   "source": [
    "files_list = glob.glob('data/fr24/UR82073_*.csv')\n",
    "files_list"
   ]
  },
  {
   "cell_type": "code",
   "execution_count": null,
   "metadata": {},
   "outputs": [],
   "source": [
    "all_data = []\n",
    "for file in files_list:\n",
    "    with open(file) as f:\n",
    "        reader_obj = csv.DictReader(f)\n",
    "        data = list(reader_obj)\n",
    "        all_data.extend(data)\n",
    "\n",
    "len(all_data)\n",
    "all_data"
   ]
  },
  {
   "cell_type": "markdown",
   "metadata": {},
   "source": [
    "**Exercise:** Read the contents of all the files that match the following pattern into a single list using `.glob()` and `.DictReader()`.\n",
    "<br><br>\n",
    "<center><code>data/fr24/RA64520_d*.csv</code></center>"
   ]
  },
  {
   "cell_type": "code",
   "execution_count": null,
   "metadata": {},
   "outputs": [],
   "source": [
    "## YOUR CODE GOES HERE ##"
   ]
  },
  {
   "cell_type": "code",
   "execution_count": null,
   "metadata": {},
   "outputs": [],
   "source": [
    "## INSTRUCTION SOLUTION(S) ##\n",
    "all_data2 = []\n",
    "\n",
    "fileslist = glob.glob('data/fr24/UR82073_*.csv')\n",
    "\n",
    "for file in fileslist:\n",
    "    with open(file) as csvfile:\n",
    "        reader_obj = csv.DictReader(csvfile)\n",
    "        data = list(reader_obj)\n",
    "        all_data2.extend(data)\n",
    "        \n",
    "all_data2\n"
   ]
  },
  {
   "cell_type": "markdown",
   "metadata": {},
   "source": [
    "<hr>\n",
    "\n",
    "<a id='GuidedExercise'></a>\n",
    "## 7.5. Guided Exercise: Data Exploration and Engineering\n",
    "\n",
    "#### References:\n",
    "* [FlightRadar 24](https://www.flightradar24.com)\n",
    "* [Wikipedia: Automatic Dependent Surveillance-Broadcast (ADS-B)](https://en.wikipedia.org/wiki/Automatic_dependent_surveillance_%E2%80%93_broadcast)\n",
    "* [Wikipedia: Volga-Dnepr Airlines](https://en.wikipedia.org/wiki/Volga-Dnepr_Airlines)\n",
    "* [Wikipedia: Antonov AN-124 Condor](https://en.wikipedia.org/wiki/Antonov_An-124_Ruslan)\n",
    "* [JetPhotos: Volga-Dnepr AN-124 RA-82074](https://www.jetphotos.com/photo/8636024)\n",
    "\n",
    "\n",
    "The following dataset is from the online flight tracking portal FlightRadar24, which leverages the data collected from beacons on commercial aircraft. The filenames are composed of an aircraft tail number and a flight ID. Our task is to clean and process this data for analysis. We'll develop a script using the following file as an example.\n",
    "<br><br>\n",
    "<center><code>data/fr24/RA64520_ccbc1f8.csv</code></center>\n",
    "\n",
    "**Pseudocode:**\n",
    "1. Read in the data\n",
    "2. Split the data in the `Position` column into separate columns for latitude and longitude\n",
    "3. Cast Latitude, Longitude, Altitude, Speed, and Direction data to numeric data types\n",
    "4. Add a column to identify what file the data came from (there are many files in this data set)"
   ]
  },
  {
   "cell_type": "markdown",
   "metadata": {},
   "source": [
    "**Step 1:** First, read the data in using the CSV Library.\n",
    "\n",
    "**Pseudocode:**\n",
    "1. Open the file (`with open()`)\n",
    "2. Read in the data (`.DictReader()`)\n",
    "3. Cast the data to a list and store in a variable"
   ]
  },
  {
   "cell_type": "code",
   "execution_count": null,
   "metadata": {},
   "outputs": [],
   "source": [
    "## YOUR CODE GOES HERE ##"
   ]
  },
  {
   "cell_type": "code",
   "execution_count": null,
   "metadata": {
    "scrolled": true
   },
   "outputs": [],
   "source": [
    "## INSTRUCTION SOLUTION(S) ##\n",
    "filename = 'data/fr24/RA64520_ccbc1f8.csv'\n",
    "\n",
    "with open(filename) as f:\n",
    "    track = list(csv.DictReader(f))\n",
    "    \n",
    "track"
   ]
  },
  {
   "cell_type": "markdown",
   "metadata": {},
   "source": [
    "When processing a lot of data, sometimes it's helpful to test your code on a small part of that data. If the code works on a single piece of the data set, it will likely work on the rest. We have just created a list of dictionaries from the data in our file, so let's just take one of those dictionaries out and save it to a new variable."
   ]
  },
  {
   "cell_type": "code",
   "execution_count": null,
   "metadata": {},
   "outputs": [],
   "source": [
    "row = track[0]\n",
    "row"
   ]
  },
  {
   "cell_type": "markdown",
   "metadata": {},
   "source": [
    "**Step 2:** Split the data in the Position column into separate columns for latitude and longitude\n",
    "\n",
    "**Pseudocode:**\n",
    "1. Access the `Position` column\n",
    "2. Split the data on the comma (`,`)\n",
    "3. The first part of the split data goes to the `Latitude` column\n",
    "4. The second part of the split data goes to the `Longitude` column"
   ]
  },
  {
   "cell_type": "code",
   "execution_count": null,
   "metadata": {},
   "outputs": [],
   "source": [
    "lat_lon = row['Position'].split(',')\n",
    "lat_lon"
   ]
  },
  {
   "cell_type": "code",
   "execution_count": null,
   "metadata": {},
   "outputs": [],
   "source": [
    "row['Latitude'] = lat_lon[0]\n",
    "row['Longitude'] = lat_lon[1]\n",
    "row"
   ]
  },
  {
   "cell_type": "markdown",
   "metadata": {},
   "source": [
    "**Step 3:** Cast Latitude, Longitude, Altitude, Speed, and Direction data to numeric data types\n",
    "\n",
    "**Pseudocode:** \n",
    "1. Collect all the column names that we want to affect\n",
    "2. Use a `for` loop to cast each column's data to a float data type"
   ]
  },
  {
   "cell_type": "code",
   "execution_count": null,
   "metadata": {},
   "outputs": [],
   "source": [
    "for col in ['Latitude', 'Longitude', 'Altitude', 'Speed', 'Direction']:\n",
    "    row[col] = float(row[col])\n",
    "    \n",
    "row"
   ]
  },
  {
   "cell_type": "markdown",
   "metadata": {},
   "source": [
    "The difference is subtle, but you can see that the data we cast is no longer wrapped in quotation marks. This tells us we now have numeric values, not strings.\n",
    "\n",
    "**Step 4:** Add a column to identify what file the data came from\n",
    "\n",
    "**Pseudocode:** \n",
    "1. Remove the path and file extension from the file name\n",
    "2. Create a new key-value pair where the key is `'ID'` and the value is the name of the file"
   ]
  },
  {
   "cell_type": "code",
   "execution_count": null,
   "metadata": {},
   "outputs": [],
   "source": [
    "row['ID'] = filename[10:-4]\n",
    "row"
   ]
  },
  {
   "cell_type": "markdown",
   "metadata": {},
   "source": [
    "Now that we have all the steps to clean our data, let's put them all in one cell."
   ]
  },
  {
   "cell_type": "code",
   "execution_count": null,
   "metadata": {},
   "outputs": [],
   "source": [
    "row = track[0]\n",
    "\n",
    "## Create Latitude and Longitude columns\n",
    "lat_lon = row['Position'].split(',')\n",
    "row['Latitude'] = lat_lon[0]\n",
    "row['Longitude'] = lat_lon[1]\n",
    "\n",
    "## Convert values to floats\n",
    "for col in ['Latitude', 'Longitude', 'Altitude', 'Speed', 'Direction']:\n",
    "    row[col] = float(row[col])\n",
    "\n",
    "## Create ID column\n",
    "row['ID'] = 'RA64520_ccbc1f8'\n",
    "row"
   ]
  },
  {
   "cell_type": "markdown",
   "metadata": {},
   "source": [
    "It looks like it's working, so let's indent all this code under a `for` loop so that it affects every row of data.\n",
    "\n",
    "**Pseudocode:**\n",
    "1. Read in the data\n",
    "2. Clean each row in the data set (use the code we just wrote)"
   ]
  },
  {
   "cell_type": "code",
   "execution_count": null,
   "metadata": {},
   "outputs": [],
   "source": [
    "filename = 'data/fr24/RA64520_ccbc1f8.csv'\n",
    "\n",
    "## Open file\n",
    "with open(filename) as f:\n",
    "    \n",
    "    ## Read in data and cast to list\n",
    "    track = list(csv.DictReader(f))\n",
    "    \n",
    "    ## Clean each row\n",
    "    for row in track:\n",
    "        lat_lon = row['Position'].split(',')\n",
    "        row['Latitude'] = lat_lon[0]\n",
    "        row['Longitude'] = lat_lon[1]\n",
    "        \n",
    "        for col in ['Latitude', 'Longitude', 'Altitude', 'Speed', 'Direction']:\n",
    "            row[col] = float(row[col])\n",
    "            \n",
    "        row['ID'] = filename[10:-4]\n",
    "        \n",
    "track"
   ]
  },
  {
   "cell_type": "markdown",
   "metadata": {},
   "source": [
    "<b><font color=\"brick\">Instructor Guidance</font>: Refer back to Lesson 1 and relate the four steps of problem-solving using Computational Thinking (Decomposition, Pattern Recognition, Abstraction, & Algorithm Design) as appropriate throughout these exercises.\n",
    "\n",
    "<font color=\"brick\">Instructor Guidance</font>: The practical exercises deemed most important due to content and/or a cumulative result, which should be completed first in the interest of maximum training value in relation to time are Practical Exercises 1, 2, 3, and 4. Ensure you go over the exercise solutions and (as necessary) the processes to arrive at the solutions with the students.\n",
    "\n",
    "<font color=\"brick\">Instructor Guidance</font>: Follow-up questions are designed to be asked by the facilitators individually as each student completes the task and has it looked at by a facilitator.</b>"
   ]
  },
  {
   "cell_type": "markdown",
   "metadata": {},
   "source": [
    "<hr>\n",
    "<a id='PracticalExercise'></a>\n",
    "\n",
    "## 7.6. Practical Exercises"
   ]
  },
  {
   "cell_type": "markdown",
   "metadata": {},
   "source": [
    "<hr> <a id='PE1'></a>\n",
    "\n",
    "### 7.6.1. Practical Exercise 1: Use Glob to Create a List of Filenames\n",
    "\n",
    "**Problem 1:** Use the Glob library to create pull in all of the filenames of the csv files in the `data/fr24/` folder. "
   ]
  },
  {
   "cell_type": "code",
   "execution_count": null,
   "metadata": {},
   "outputs": [],
   "source": [
    "## YOUR CODE GOES HERE ## "
   ]
  },
  {
   "cell_type": "code",
   "execution_count": null,
   "metadata": {},
   "outputs": [],
   "source": [
    "## INSTRUCTION SOLUTION(S) ##\n",
    "fr24_files = glob.glob('data/fr24/*.csv')\n",
    "fr24_files"
   ]
  },
  {
   "cell_type": "markdown",
   "metadata": {},
   "source": [
    "**Problem 2:** What type of data structure did you just create? Have you read in the contents of any of the files yet?"
   ]
  },
  {
   "cell_type": "code",
   "execution_count": null,
   "metadata": {},
   "outputs": [],
   "source": [
    "## YOUR ANSWER GOES HERE -- NO CODE NECESSARY ##"
   ]
  },
  {
   "cell_type": "code",
   "execution_count": null,
   "metadata": {},
   "outputs": [],
   "source": [
    "## INSTRUCTION SOLUTION(S) ##\n",
    "# It is a list of strings. The files have not been read in yet; these\n",
    "# are just the filenames."
   ]
  },
  {
   "cell_type": "markdown",
   "metadata": {},
   "source": [
    "<hr> <a id='PE2'></a>\n",
    "\n",
    "### 7.6.2. Practical Exercise 2: Read in Multiple Files in a Loop\n",
    "\n",
    "Using the list of filenames that you created in Practical Exercise 1, iterate over that list and read in each file. Add all the data to a single data structure. \n",
    "\n",
    "HINT: Keep in mind the difference between `.append()` and `.extend()` when you are adding to the data structure.\n",
    "\n",
    ">WARNING: The data structure you create in this exercise is very large, and printing it in its entirety to the screen can cause Jupyter to crash. Print only small slices of the data structure or print its length (`len()`) to check your work. The length of your combined structure should be `550271`."
   ]
  },
  {
   "cell_type": "code",
   "execution_count": null,
   "metadata": {},
   "outputs": [],
   "source": [
    "## YOUR CODE GOES HERE ##"
   ]
  },
  {
   "cell_type": "code",
   "execution_count": null,
   "metadata": {},
   "outputs": [],
   "source": [
    "## INSTRUCTION SOLUTION(S) ##\n",
    "flighttracks = []\n",
    "for filename in fr24_files:\n",
    "    \n",
    "    with open(filename) as csvfile:\n",
    "        reader = csv.DictReader(csvfile)\n",
    "        track = list(reader) \n",
    "    \n",
    "    flighttracks.extend(track)\n",
    "    \n",
    "len(flighttracks)"
   ]
  },
  {
   "cell_type": "markdown",
   "metadata": {},
   "source": [
    "<hr>\n",
    "<a id='PE3'></a>\n",
    "\n",
    "### 7.6.3. Practical Exercise 3: Analyze FR24 Data\n",
    "Use the data structure you made in the exercise above to answer the following questions.\n",
    "\n",
    "**Problem 1:** The `Callsign` key holds a value that identifies individual aircraft. How many data points are associated with each callsign? Create a new dictionary where the keys are the callsigns from the data set and the values are a count of how many rows contained that callsign. HINT: Use a `for` loop to loop through each row."
   ]
  },
  {
   "cell_type": "code",
   "execution_count": null,
   "metadata": {},
   "outputs": [],
   "source": [
    "## YOUR CODE GOES HERE ##"
   ]
  },
  {
   "cell_type": "code",
   "execution_count": null,
   "metadata": {},
   "outputs": [],
   "source": [
    "## INSTRUCTION SOLUTION(S) ##\n",
    "callsigns = {}\n",
    "    \n",
    "for track in flighttracks:\n",
    "    \n",
    "    current_callsign = track['Callsign']\n",
    "    \n",
    "    if current_callsign in callsigns:\n",
    "        callsigns[current_callsign] += 1\n",
    "        \n",
    "    else:\n",
    "        callsigns[current_callsign] = 1\n",
    "\n",
    "callsigns"
   ]
  },
  {
   "cell_type": "markdown",
   "metadata": {},
   "source": [
    "**Problem 2:** Using the dictionary that you just created, find the callsigns that appear in more than 1500 rows. Add those callsigns to a new list. How many are there? HINT: The answer is 39 (your list should be 40 items long, but one of the items is the empty string (`''`))"
   ]
  },
  {
   "cell_type": "code",
   "execution_count": null,
   "metadata": {},
   "outputs": [],
   "source": [
    "## YOUR CODE GOES HERE ##"
   ]
  },
  {
   "cell_type": "code",
   "execution_count": null,
   "metadata": {},
   "outputs": [],
   "source": [
    "## INSTRUCTION SOLUTION(S) ##\n",
    "countlist = []\n",
    "for callsign, num_rows in callsigns.items():\n",
    "    if num_rows > 1500:\n",
    "        countlist.append(callsign)\n",
    "len(countlist)"
   ]
  },
  {
   "cell_type": "markdown",
   "metadata": {},
   "source": [
    "<hr>\n",
    "\n",
    "<a id='PE4'></a>\n",
    "### 7.6.4. Practical Exercise 4: Personnel Data\n",
    "\n",
    "**Problem 1:** Read in the following file using the CSV Library.\n",
    "<br><br>\n",
    "<center><code>data/lesson_7/random_personnel.csv<code></center>"
   ]
  },
  {
   "cell_type": "code",
   "execution_count": null,
   "metadata": {},
   "outputs": [],
   "source": [
    "## YOUR CODE GOES HERE ##"
   ]
  },
  {
   "cell_type": "code",
   "execution_count": null,
   "metadata": {},
   "outputs": [],
   "source": [
    "## INSTRUCTION SOLUTION(S) ##\n",
    "with open('data/lesson_7/random_personnel.csv') as csvfile:\n",
    "    personnel = list(csv.DictReader(csvfile))\n",
    "personnel"
   ]
  },
  {
   "cell_type": "markdown",
   "metadata": {
    "collapsed": true
   },
   "source": [
    "**Problem 2:** For each row in the data you just read in, create a new entry called `'Area Code'` that stores the 3-digit area code from the phone number in that row. HINT: Do not create an entirely new data structure for this exercise; we are simply adding a column to our existing CSV data."
   ]
  },
  {
   "cell_type": "code",
   "execution_count": null,
   "metadata": {},
   "outputs": [],
   "source": [
    "## YOUR CODE GOES HERE ##"
   ]
  },
  {
   "cell_type": "code",
   "execution_count": null,
   "metadata": {},
   "outputs": [],
   "source": [
    "## INSTRUCTION SOLUTION(S) ##\n",
    "\n",
    "ac_counts = {}\n",
    "\n",
    "with open('data/lesson_7/random_personnel.csv') as csvfile:\n",
    "    \n",
    "    reader = csv.reader(csvfile)\n",
    "    \n",
    "    data = []\n",
    "    \n",
    "    for row in reader:\n",
    "        data.append(row)\n",
    "        \n",
    "    for row in data[1:]:  ## the first row is the header\n",
    "        phone_num = row[1]\n",
    "        area_code = phone_num[1:4]\n",
    "        if area_code in ac_counts:\n",
    "            ac_counts[area_code] += 1\n",
    "        else: \n",
    "            ac_counts[area_code] = 1\n",
    "\n",
    "ac_counts"
   ]
  },
  {
   "cell_type": "markdown",
   "metadata": {},
   "source": [
    "<hr>\n",
    "\n",
    "<a id='PE5'></a>\n",
    "### 7.6.5. Practical Exercise 5: Netflix Data\n",
    "\n",
    "**Problem 1:** Read in the following file using the CSV Library.\n",
    "<br><br>\n",
    "<center><code>data/lesson_7/netflix.csv</code></center>"
   ]
  },
  {
   "cell_type": "code",
   "execution_count": null,
   "metadata": {},
   "outputs": [],
   "source": [
    "## YOUR CODE GOES HERE ##"
   ]
  },
  {
   "cell_type": "code",
   "execution_count": null,
   "metadata": {},
   "outputs": [],
   "source": [
    "## INSTRUCTION SOLUTION(S) ##\n",
    "with open('data/lesson_7/netflix.csv') as csvfile:\n",
    "    netflix = list(csv.DictReader(csvfile))\n",
    "\n",
    "netflix    "
   ]
  },
  {
   "cell_type": "markdown",
   "metadata": {},
   "source": [
    "**Problem 2:** Create a new dictionary that maps a release year (e.g. `2004`) to the number of titles in the data set that were released in that year. The keys in your new dictionary should be the years, and the values should be the count of titles released in that year."
   ]
  },
  {
   "cell_type": "code",
   "execution_count": null,
   "metadata": {},
   "outputs": [],
   "source": [
    "## YOUR CODE GOES HERE ##"
   ]
  },
  {
   "cell_type": "code",
   "execution_count": null,
   "metadata": {},
   "outputs": [],
   "source": [
    "## INSTRUCTION SOLUTION(S) ##\n",
    "netflix_dict = {}\n",
    "\n",
    "for movie in netflix:\n",
    "    year = movie['release year']\n",
    "    if year in netflix_dict.keys():\n",
    "        netflix_dict[year] += 1\n",
    "    else:\n",
    "        netflix_dict[year] = 1\n",
    "\n",
    "netflix_dict"
   ]
  },
  {
   "cell_type": "markdown",
   "metadata": {},
   "source": [
    "<hr> \n",
    "\n",
    "<a id='PE6'></a>\n",
    "### 7.6.6. Practical Exercise 6: Resume Analysis\n",
    "\n",
    "**Problem 1:** Read in the following file using a `with open()` block and `.read()`.\n",
    "<br><br>\n",
    "<center><code>data/resumes/02.txt</code></center>"
   ]
  },
  {
   "cell_type": "code",
   "execution_count": null,
   "metadata": {},
   "outputs": [],
   "source": [
    "## YOUR CODE GOES HERE ##"
   ]
  },
  {
   "cell_type": "code",
   "execution_count": null,
   "metadata": {},
   "outputs": [],
   "source": [
    "## INSTRUCTION SOLUTION(S) ##\n",
    "with open('data/resumes/02.txt') as f:\n",
    "    resume = f.read()\n",
    "    \n",
    "resume"
   ]
  },
  {
   "cell_type": "markdown",
   "metadata": {},
   "source": [
    "**Problem 2:** Search for the term `'analyst'` in the resume that you just read in. If it is in the resume, print `True`, otherwise print `False`.<br>\n",
    "\n",
    "HINT: Watch out for different casing of words! 'Analyst' may be in the resume, but not 'analyst'. Make use of `.lower()` or `.upper()`."
   ]
  },
  {
   "cell_type": "code",
   "execution_count": null,
   "metadata": {},
   "outputs": [],
   "source": [
    "## YOUR CODE GOES HERE ##"
   ]
  },
  {
   "cell_type": "code",
   "execution_count": null,
   "metadata": {},
   "outputs": [],
   "source": [
    "## INSTRUCTION SOLUTION(S) ##\n",
    "if 'analyst' in resume.lower():\n",
    "    print(True)\n",
    "else:\n",
    "    print(False)"
   ]
  },
  {
   "cell_type": "markdown",
   "metadata": {},
   "source": [
    "**Problem 3:** Use glob to create a list of all the resume filenames in the folder `data/resumes/` and store it in a variable called `resume_filenames`."
   ]
  },
  {
   "cell_type": "code",
   "execution_count": null,
   "metadata": {},
   "outputs": [],
   "source": [
    "## YOUR CODE GOES HERE ##"
   ]
  },
  {
   "cell_type": "code",
   "execution_count": null,
   "metadata": {},
   "outputs": [],
   "source": [
    "## INSTRUCTION SOLUTION(S) ##\n",
    "resume_filenames = glob.glob('data/resumes/*')\n",
    "resume_filenames"
   ]
  },
  {
   "cell_type": "markdown",
   "metadata": {},
   "source": [
    "**Problem 4:** Now loop through the resume filenames list you just created. As you loop, create a new dictionary. The key for each entry should be the file name without the path and extension (e.g. `'01'` instead of `'data/resumes\\\\01.txt'`), and the value should be the full resume text. \n",
    "\n",
    "Sample output: \n",
    "```python\n",
    "{'01': 'Brielle Anastasia Ma...', \n",
    " '02': '1431 Nave\\nCharles Tow...', \n",
    " '...'}\n",
    "```"
   ]
  },
  {
   "cell_type": "code",
   "execution_count": null,
   "metadata": {},
   "outputs": [],
   "source": [
    "## YOUR CODE GOES HERE ##"
   ]
  },
  {
   "cell_type": "code",
   "execution_count": null,
   "metadata": {},
   "outputs": [],
   "source": [
    "## INSTRUCTION SOLUTION(S) ##\n",
    "resume_dict = {}\n",
    "for resume in resume_filenames:\n",
    "    fname = resume[-6:-4]\n",
    "    with open(resume) as f:\n",
    "        fcontents = f.read()\n",
    "    resume_dict[fname] = fcontents\n",
    "    \n",
    "print(resume_dict)"
   ]
  },
  {
   "cell_type": "markdown",
   "metadata": {},
   "source": [
    "**Problem 5:** Set a variable equal to a search term. Then, by looping over the dictionary you just created (`.items()`), search for and print out the IDs of all the resumes containing the input keyword. \n",
    "\n",
    "| Example Input | Expected Output |\n",
    "|:----:|:---:|\n",
    "| `TS/SCI` | `02, 03, 04, 07, 08, 09` |\n",
    "| `deployed` | `01, 03, 05, 07, 08, 10` |\n",
    "| `Army` | `03, 05, 07, 09, 10` |"
   ]
  },
  {
   "cell_type": "code",
   "execution_count": null,
   "metadata": {},
   "outputs": [],
   "source": [
    "## YOUR CODE GOES HERE ##"
   ]
  },
  {
   "cell_type": "code",
   "execution_count": null,
   "metadata": {
    "scrolled": true
   },
   "outputs": [],
   "source": [
    "## INSTRUCTION SOLUTION(S) ##\n",
    "search_term = 'Army'\n",
    "   \n",
    "res_list = []\n",
    "for key, value in resume_dict.items():\n",
    "    if search_term.lower() in value.lower():\n",
    "        res_list.append(key)\n",
    "print(res_list)"
   ]
  },
  {
   "cell_type": "markdown",
   "metadata": {},
   "source": [
    "**Problem 6:** Edit the code from the last section to use a variable containing a string of multiple keywords, separated by commas.  Print out resume names that contain all the keywords. <br>\n",
    "\n",
    "HINT: Strip whitespace from the beginning and end of each keyword.\n",
    "    \n",
    "| Example Input | Expected Output |\n",
    "|:----:|:---:|\n",
    "| `TS/SCI, Intelligence, Analyst, All Source` | `03, 04` |\n",
    "|`Analyst, Army, Polygraph`| `05` |"
   ]
  },
  {
   "cell_type": "code",
   "execution_count": null,
   "metadata": {},
   "outputs": [],
   "source": [
    "## YOUR CODE GOES HERE ##"
   ]
  },
  {
   "cell_type": "code",
   "execution_count": null,
   "metadata": {},
   "outputs": [],
   "source": [
    "## INSTRUCTION SOLUTION(S) ##\n",
    "search_terms = 'Analyst, Army, Polygraph'\n",
    "search_list = search_terms.split(', ')\n",
    "\n",
    "res_list = []\n",
    "for key, value in resume_dict.items():\n",
    "    flag = True\n",
    "    for search_term in search_list:\n",
    "        if search_term.lower() not in value.lower():\n",
    "            flag = False\n",
    "            \n",
    "    if flag:    \n",
    "        res_list.append(key)\n",
    "        \n",
    "print(res_list)"
   ]
  },
  {
   "cell_type": "code",
   "execution_count": null,
   "metadata": {},
   "outputs": [],
   "source": [
    "## ALTERNATE INSTRUCTION SOLUTION(S) ##\n",
    "search_terms = 'Analyst, Army, Polygraph'\n",
    "search_list = search_terms.split(', ')\n",
    "\n",
    "res_list = []\n",
    "for key, value in resume_dict.items():\n",
    "    terms_pres = []\n",
    "    for search_term in search_list:\n",
    "        if search_term.lower() in value.lower():\n",
    "            terms_pres.append(search_term)\n",
    "            \n",
    "    if len(terms_pres) == len(search_list):    \n",
    "        res_list.append(key)\n",
    "        \n",
    "print(res_list)"
   ]
  },
  {
   "cell_type": "markdown",
   "metadata": {},
   "source": [
    "<hr> <a id='appendix'></a>\n",
    "\n",
    "## 7.7. Appendix"
   ]
  },
  {
   "cell_type": "markdown",
   "metadata": {},
   "source": [
    "<center><b>Working With Files</b></center>\n",
    "\n",
    "| Syntax               | Description                         |\n",
    "|:----------------------:|-----------------------------------|\n",
    "|`with open(name) as f:`| Opens the file `name` and saves the file connection to `f` |\n",
    "|`f.read()` | Reads the data in `f` as a string |\n",
    "|`f.write(text)`| Writes the string `text` to `f` |\n",
    "|`csv.DictReader(f)`| Reads CSV data stored in `f`, creates a list of dictionaries |\n",
    "|`csv.DictWriter(f, cols)`| Creates writer object to write CSV data with columns `cols` to `f` |\n",
    "|`writer.writeheader()`| Writes a header row to `f` |\n",
    "|`writer.writerows(data)`| Writes CSV data to `f` |\n",
    "|`glob.glob(file_pattern)`| Creates a list of every file path that matches the pattern;<br>pattern usually contains wildcard characters (`*`) |"
   ]
  },
  {
   "cell_type": "markdown",
   "metadata": {},
   "source": [
    "<hr> <b><center>UNCLASSIFIED</center></b>"
   ]
  }
 ],
 "metadata": {
  "anaconda-cloud": {},
  "hide_input": false,
  "kernelspec": {
   "display_name": "Python 3",
   "language": "python",
   "name": "python3"
  },
  "language_info": {
   "codemirror_mode": {
    "name": "ipython",
    "version": 3
   },
   "file_extension": ".py",
   "mimetype": "text/x-python",
   "name": "python",
   "nbconvert_exporter": "python",
   "pygments_lexer": "ipython3",
   "version": "3.7.3"
  }
 },
 "nbformat": 4,
 "nbformat_minor": 1
}
