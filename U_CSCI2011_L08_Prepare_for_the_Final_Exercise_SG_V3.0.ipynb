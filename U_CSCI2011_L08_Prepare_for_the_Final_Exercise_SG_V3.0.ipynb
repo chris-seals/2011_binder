{
 "cells": [
  {
   "cell_type": "markdown",
   "metadata": {},
   "source": [
    "<b><center>UNCLASSIFIED</center></b>"
   ]
  },
  {
   "cell_type": "markdown",
   "metadata": {},
   "source": [
    "<img src=\"./GRAPHICS/Banner.png\" width=\"110%\">"
   ]
  },
  {
   "cell_type": "markdown",
   "metadata": {},
   "source": [
    "# Lesson 8: Prepare for the Final Exercise"
   ]
  },
  {
   "cell_type": "markdown",
   "metadata": {},
   "source": [
    "## Table of Contents\n",
    "\n",
    "8.1. [Objectives](#objectives)<br>\n",
    "8.2. [Overview](#overview)<br>\n",
    "8.3. [Computational Thinking](#CompT)<br>\n",
    "8.4. [Python Data Types](#DataTypes)<br>\n",
    "&nbsp;&nbsp;&nbsp;&nbsp;8.4.1. [Boolean Values and Operators](#boolean)<br>\n",
    "&nbsp;&nbsp;&nbsp;&nbsp;8.4.2. [Reserved Python Keywords](#Keywords)<br>\n",
    "&nbsp;&nbsp;&nbsp;&nbsp;8.4.3. [Numbers](#numbers)<br>\n",
    "&nbsp;&nbsp;&nbsp;&nbsp;8.4.4. [None](#none)<br>\n",
    "8.5. [Python Data Structures](#Structures)<br>\n",
    "&nbsp;&nbsp;&nbsp;&nbsp;8.5.1. [Sequences](#sequences)<br>\n",
    "&nbsp;&nbsp;&nbsp;&nbsp;8.5.2. [Lists](#lists)<br>\n",
    "&nbsp;&nbsp;&nbsp;&nbsp;8.5.3. [Tuples](#tuples)<br>\n",
    "&nbsp;&nbsp;&nbsp;&nbsp;8.5.4. [Strings](#strings)<br>\n",
    "&nbsp;&nbsp;&nbsp;&nbsp;8.5.5. [Unordered Collections](#unordered)<br>\n",
    "&nbsp;&nbsp;&nbsp;&nbsp;8.5.6. [Sets](#sets)<br>\n",
    "&nbsp;&nbsp;&nbsp;&nbsp;8.5.7. [Dictionaries](#dictionaries)<br>\n",
    "&nbsp;&nbsp;&nbsp;&nbsp;8.5.8. [Common Operations Across Data Structures](#common_ops)<br>\n",
    "8.6. [Flow Control](#codeflow)<br>\n",
    "&nbsp;&nbsp;&nbsp;&nbsp;8.6.1. [If Statements](#if)<br>\n",
    "&nbsp;&nbsp;&nbsp;&nbsp;8.6.2. [For Loops](#for)<br>\n",
    "&nbsp;&nbsp;&nbsp;&nbsp;8.6.3. [While Loops](#while)<br>\n",
    "&nbsp;&nbsp;&nbsp;&nbsp;8.6.4. [Break and Continue](#break)<br>\n",
    "8.7. [Getting Data](#GettingData)<br>\n",
    "&nbsp;&nbsp;&nbsp;&nbsp;8.7.1. [Loading a Local Data File](#Local)<br>\n",
    "&nbsp;&nbsp;&nbsp;&nbsp;8.7.2. [Getting Data with the CSV Library](#csv)<br>\n",
    "&nbsp;&nbsp;&nbsp;&nbsp;8.7.3. [The Glob Library](#glob)<br>"
   ]
  },
  {
   "cell_type": "markdown",
   "metadata": {},
   "source": [
    "***\n",
    "<a id=\"objectives\"></a>\n",
    "## 8.1. Objectives\n",
    "\n",
    "* Examine the implications of using computation to solve a problem\n",
    "    * Discuss best practices for using computation to solve a problem\n",
    "    * Suggest types of problems that can be solved through computation\n",
    "    * Show how computation can solve a problem\n",
    "<br><br>    \n",
    "* Recognize key computer science concepts\n",
    "    * Identify data types used in Python scripting\n",
    "    * Identify data structures used in Python scripting\n",
    "    * Define variables and strings\n",
    "    * Recognize how queries operate\n",
    "<br><br>    \n",
    "* Demonstrate the ability to build basic scripts using Python scripting language\n",
    "    * Use various data types and structures in Python scripting\n",
    "    * Collect data using Python scripting\n",
    "    * Extract data using Python scripting\n",
    "    * Develop advanced data structures using Python scripting"
   ]
  },
  {
   "cell_type": "markdown",
   "metadata": {},
   "source": [
    "<hr> <a id=\"overview\"></a>\n",
    "## 8.2. Overview"
   ]
  },
  {
   "cell_type": "markdown",
   "metadata": {},
   "source": [
    "You've made it to Lesson 8. We have covered a lot of material in a very short time, so it is time to do a comprehensive review. In this lesson we are going to review everything that has been covered in the course:\n",
    "\n",
    "   * Computational Thinking\n",
    "   * Python Data Types and Structures\n",
    "   * Python Loops and Functions\n",
    "   * Getting Data\n",
    "   * Working with Data"
   ]
  },
  {
   "cell_type": "markdown",
   "metadata": {},
   "source": [
    "<a id=\"CompT\"></a>\n",
    "<hr>\n",
    "## 8.3. Computational Thinking\n",
    "\n",
    "Computers are not smart, but they are fast. They need explicit instructions in order to solve a problem. This means that when we, as programmers, are presented with a problem, we have to provide the computer a complete set of instructions for it to do what we want. This requires a special mode of reasoning that we call *computational thinking*."
   ]
  },
  {
   "cell_type": "markdown",
   "metadata": {},
   "source": [
    "<img src=\"./GRAPHICS/IconKeyPoster.png\" width=\"70%\">"
   ]
  },
  {
   "cell_type": "markdown",
   "metadata": {},
   "source": [
    "The basic steps for approaching a problem with computational thinking are:\n",
    "\n",
    "1. **Decomposition:** Breaking down data, processes, or problems into smaller, manageable parts\n",
    "    1. Make sure you understand the problem\n",
    "        1. Identify the inputs\n",
    "        2. Identify what the output should look like\n",
    "    2. If it’s a large scale problem, identify possible smaller components\n",
    "<br><br>    \n",
    "2. **Pattern Recognition:** Observing patterns, trends, and regularities in data\n",
    "    1. Inspect your data\n",
    "        1. Make sure the inputs and outputs you’ve identified make sense\n",
    "        2. Look for trends or possible fringe cases\n",
    "<br><br>       \n",
    "3. **Abstraction:** Identifying the general principles that generate these patterns\n",
    "    1. Work out a problem by hand\n",
    "        2. As you work out by hand, attempt to think beyond a single example\n",
    "<br><br>\n",
    "4. **Algorithm Design:** Developing the step by step instructions for solving the problem\n",
    "    1. Begin to formalize your steps into pseudocode\n",
    "    2. Identify available software tools\n",
    "        1. These may be available packages, things you’ve written in the past, or built-in python functionality\n",
    "    3. Implement your pseudocode"
   ]
  },
  {
   "cell_type": "markdown",
   "metadata": {},
   "source": [
    "**Exercise:** For each exercise in this notebook, write your own pseudocode before you begin coding a solution."
   ]
  },
  {
   "cell_type": "markdown",
   "metadata": {},
   "source": [
    "<hr> <a id=\"DataTypes\"></a>\n",
    "## 8.4. Python Data Types \n",
    "\n",
    "See the table below for descriptions of each type.\n",
    "\n",
    "| Plain Language Description                              | Python Data Type | `type()` Output |\n",
    "| :------------------------------------------ | :---------------: | :-------------: |\n",
    "| True or False                               | Boolean          | `bool`            |\n",
    "| Whole Numbers                               | Integer          | `int`             |\n",
    "| Decimal Numbers                             | Float            | `float`           |\n",
    "| Sequences of characters including letters, <br>numbers, formatting characters, and/or punctuation   | String   | `str` |\n",
    "| Nothingness, non-existence; not the same as <br>zero or empty                 | None          | `NoneType`            |"
   ]
  },
  {
   "cell_type": "markdown",
   "metadata": {},
   "source": [
    "\n",
    "<hr> <a id=\"boolean\"></a>\n",
    "\n",
    "### 8.4.1. Boolean Values and Operators\n",
    "\n",
    "**Exercise:** Below, create two Boolean values and store them in variables."
   ]
  },
  {
   "cell_type": "code",
   "execution_count": null,
   "metadata": {},
   "outputs": [],
   "source": [
    "## YOUR CODE GOES HERE ##"
   ]
  },
  {
   "cell_type": "markdown",
   "metadata": {},
   "source": [
    "#### 8.4.1.1. Comparison Operators\n",
    "\n",
    "You can compare values in a number of different ways, shown in the table below.\n",
    "\n",
    "| Operator  | Operation                |\n",
    "| :-------: | :----------------------- |\n",
    "| `==`        | equals                |\n",
    "| `!=`        | not equal to             |\n",
    "| `>`         | greater than             |\n",
    "| `>=`        | greater than or equal to |\n",
    "| `<`         | less than                |\n",
    "| `<=`        | less than or equal to    |"
   ]
  },
  {
   "cell_type": "code",
   "execution_count": null,
   "metadata": {},
   "outputs": [],
   "source": [
    "grade = 50"
   ]
  },
  {
   "cell_type": "markdown",
   "metadata": {},
   "source": [
    "Above, we initialize a variable that holds an integer. Can you guess the result of the expressions below? Run each cell to output the result. You can also change the value of `grade` and see how the results change."
   ]
  },
  {
   "cell_type": "code",
   "execution_count": null,
   "metadata": {},
   "outputs": [],
   "source": [
    "grade > 50"
   ]
  },
  {
   "cell_type": "code",
   "execution_count": null,
   "metadata": {},
   "outputs": [],
   "source": [
    "grade <= 50"
   ]
  },
  {
   "cell_type": "markdown",
   "metadata": {},
   "source": [
    "**Exercise:** Define two variables that store numeric values (either `int` or `float`), and write expressions that check whether the values are equal to, not equal to, greater than, or less than each other."
   ]
  },
  {
   "cell_type": "code",
   "execution_count": null,
   "metadata": {},
   "outputs": [],
   "source": [
    "## YOUR CODE GOES HERE ##"
   ]
  },
  {
   "cell_type": "markdown",
   "metadata": {
    "collapsed": true
   },
   "source": [
    "#### 8.4.1.2. Membership Operators\n",
    "The membership operators below are used to write membership tests.\n",
    "\n",
    "| Operator | Operation                                                            |\n",
    "| :------: | :------------------------------------------------------------------- |\n",
    "| `in`       | Checks if the left side of expression contained in the right side of expression |\n",
    "| `not in`   | Checks if the left side of expression is not contained in the right side of expression |"
   ]
  },
  {
   "cell_type": "code",
   "execution_count": null,
   "metadata": {},
   "outputs": [],
   "source": [
    "NATO = ['Belgium', 'Canada', 'Denmark', 'France', 'Iceland', 'Italy', 'Luxembourg', 'Netherlands',\n",
    "        'Norway', 'Portugal', 'United Kingdom', 'United States', 'Greece', 'Turkey', 'Germany',\n",
    "        'Spain', 'Czech Republic', 'Hungary', 'Poland', 'Bulgaria', 'Estonia', 'Latvia',\n",
    "        'Lithuania', 'Romania', 'Slovakia', 'Slovenia', 'Albania', 'Croatia', 'Montenegro']"
   ]
  },
  {
   "cell_type": "markdown",
   "metadata": {},
   "source": [
    "Above, we save a list of strings to a variable. Below, we can run membership tests on it. Guess the results and then run each expression to output the result."
   ]
  },
  {
   "cell_type": "code",
   "execution_count": null,
   "metadata": {},
   "outputs": [],
   "source": [
    "'United Kingdom' in NATO"
   ]
  },
  {
   "cell_type": "code",
   "execution_count": null,
   "metadata": {},
   "outputs": [],
   "source": [
    "'Denmark' not in NATO"
   ]
  },
  {
   "cell_type": "markdown",
   "metadata": {},
   "source": [
    "**Exercise:** Create a variable that stores a string, and write a membership test to check whether that string is contained in the list `NATO`. Does changing the capitalization in your string affect the outcome?"
   ]
  },
  {
   "cell_type": "code",
   "execution_count": null,
   "metadata": {},
   "outputs": [],
   "source": [
    "## YOUR CODE GOES HERE ##"
   ]
  },
  {
   "cell_type": "markdown",
   "metadata": {},
   "source": [
    "**Exercise:** Create a variable that stores a number, and write a membership test to check whether that value is contained in the list below. Does using a float vs. an integer affect your result?"
   ]
  },
  {
   "cell_type": "code",
   "execution_count": null,
   "metadata": {},
   "outputs": [],
   "source": [
    "test_list = [493, 168, 75, 361, 297, 71, 308, 5, 36, 174, 378, 155, 252, 348, 151, 354, 181]"
   ]
  },
  {
   "cell_type": "code",
   "execution_count": null,
   "metadata": {},
   "outputs": [],
   "source": [
    "## YOUR CODE GOES HERE ##"
   ]
  },
  {
   "cell_type": "markdown",
   "metadata": {},
   "source": [
    "#### 8.4.1.3. Logic Operators\n",
    "Logical operators are used to combine Boolean expressions or values into larger Boolean expressions.\n",
    "\n",
    "| Operator  | Operation                |\n",
    "| :-------: | :----------------------- |\n",
    "| `and`    | Checks if two statements are _both_ True |\n",
    "| `or`    | Checks if _either_ of two statements are True |\n",
    "| `not` | Negates the value of a boolean statement |"
   ]
  },
  {
   "cell_type": "markdown",
   "metadata": {},
   "source": [
    "Guess the result of the Boolean expression below."
   ]
  },
  {
   "cell_type": "code",
   "execution_count": null,
   "metadata": {},
   "outputs": [],
   "source": [
    "not ('h' != 'H' and 1 >= 2) or False"
   ]
  },
  {
   "cell_type": "markdown",
   "metadata": {},
   "source": [
    "**Exercise:** In the cells below, replace the `?`'s with Python operators or keywords that make each of the statements output <font color=green>**True**</font>."
   ]
  },
  {
   "cell_type": "code",
   "execution_count": null,
   "metadata": {},
   "outputs": [],
   "source": [
    "('Estonia' in NATO) ? ('Atlantis' in NATO)"
   ]
  },
  {
   "cell_type": "code",
   "execution_count": null,
   "metadata": {},
   "outputs": [],
   "source": [
    "100 ? 55"
   ]
  },
  {
   "cell_type": "code",
   "execution_count": null,
   "metadata": {},
   "outputs": [],
   "source": [
    "'Russia' ? NATO"
   ]
  },
  {
   "cell_type": "code",
   "execution_count": null,
   "metadata": {},
   "outputs": [],
   "source": [
    "78 ? 73"
   ]
  },
  {
   "cell_type": "markdown",
   "metadata": {},
   "source": [
    "\n",
    "<hr> <a id='Keywords'></a>\n",
    "\n",
    "### 8.4.2. Reserved Python Keywords\n",
    "\n",
    "There are words within Python that have specific use cases and cannot be used as variable names. These words show up green and bold in Jupyter Notebook code cells. Run the following cell to output a list of all of Python's reserved keywords. Look through the list and define in your own words any keyword you've learned in this class."
   ]
  },
  {
   "cell_type": "code",
   "execution_count": null,
   "metadata": {
    "scrolled": true
   },
   "outputs": [],
   "source": [
    "import keyword\n",
    "\n",
    "print(keyword.kwlist)"
   ]
  },
  {
   "cell_type": "markdown",
   "metadata": {},
   "source": [
    "#### 8.4.2.1. Built-In Functions\n",
    "Beginning programmers should never overwrite built-in function names. Once you re-assign the function's name to something else, you have lost the ability to use that function, which is bad because these functions are fundamental to some core Python capabilities. Moreover, errors stemming from accidental overwrites of Python functions can be very hard to debug. Here are some built-in functions you are already familiar with. Do you remember what they do?\n",
    "```python\n",
    "print()\n",
    "type()\n",
    "max()\n",
    "min()\n",
    "int()\n",
    "list()\n",
    "dict()\n",
    "str()\n",
    "```"
   ]
  },
  {
   "cell_type": "markdown",
   "metadata": {},
   "source": [
    "***\n",
    "<a class=\"anchor\" id=\"numbers\"></a>\n",
    "### 8.4.3. Numbers (Integers and Floats)\n",
    "\n",
    "Guess the output of the cells below."
   ]
  },
  {
   "cell_type": "code",
   "execution_count": null,
   "metadata": {},
   "outputs": [],
   "source": [
    "2 == 2.0"
   ]
  },
  {
   "cell_type": "code",
   "execution_count": null,
   "metadata": {},
   "outputs": [],
   "source": [
    "type(2) == type(2.0)"
   ]
  },
  {
   "cell_type": "markdown",
   "metadata": {},
   "source": [
    "Doing mathematical operations with integers and floats returns a float as the result."
   ]
  },
  {
   "cell_type": "code",
   "execution_count": null,
   "metadata": {},
   "outputs": [],
   "source": [
    "4 + 4.0 + 10"
   ]
  },
  {
   "cell_type": "markdown",
   "metadata": {},
   "source": [
    "#### 8.4.3.1. Arithmetic Operators\n",
    "\n",
    "| Operator  | Operation                            |\n",
    "| :-------: | :----------------------------------- |\n",
    "| `+`         | addition                             |\n",
    "| `-`         | subtraction                          |\n",
    "| `/`         | division                             |\n",
    "| `*`         | multiplication                       |\n",
    "| `//`        | floor division                       |\n",
    "| `%`         | modulus - returns only the remainder |\n",
    "| `**`        | exponent                             |\n"
   ]
  },
  {
   "cell_type": "markdown",
   "metadata": {},
   "source": [
    "Examples of calling the exponent operator:"
   ]
  },
  {
   "cell_type": "code",
   "execution_count": null,
   "metadata": {},
   "outputs": [],
   "source": [
    "2 ** 10"
   ]
  },
  {
   "cell_type": "code",
   "execution_count": null,
   "metadata": {
    "scrolled": true
   },
   "outputs": [],
   "source": [
    "25 ** 0.5"
   ]
  },
  {
   "cell_type": "markdown",
   "metadata": {},
   "source": [
    "Examples of calling the modulus operator:"
   ]
  },
  {
   "cell_type": "code",
   "execution_count": null,
   "metadata": {},
   "outputs": [],
   "source": [
    "17 % 4"
   ]
  },
  {
   "cell_type": "code",
   "execution_count": null,
   "metadata": {},
   "outputs": [],
   "source": [
    "16 % 7"
   ]
  },
  {
   "cell_type": "code",
   "execution_count": null,
   "metadata": {},
   "outputs": [],
   "source": [
    "248 % 2"
   ]
  },
  {
   "cell_type": "markdown",
   "metadata": {},
   "source": [
    "Examples of floor division:"
   ]
  },
  {
   "cell_type": "code",
   "execution_count": null,
   "metadata": {},
   "outputs": [],
   "source": [
    "17 // 4"
   ]
  },
  {
   "cell_type": "code",
   "execution_count": null,
   "metadata": {},
   "outputs": [],
   "source": [
    "5 // 2"
   ]
  },
  {
   "cell_type": "code",
   "execution_count": null,
   "metadata": {},
   "outputs": [],
   "source": [
    "-5 // 2"
   ]
  },
  {
   "cell_type": "markdown",
   "metadata": {},
   "source": [
    "#### 8.4.3.2. Assignment Operators\n",
    "\n",
    "Assignment operators combine arithmetic and assignment into a single statement.\n",
    "\n",
    "| Operator  | Operation                            |\n",
    "| :-------: | :----------------------------------- |\n",
    "| `+=`        | add right operand to the left operand and assign the result to left operand |\n",
    "| `-=`        | subtract right operand from the left operand and assign the result to left operand |\n",
    "| `*=`        | multiply right operand and the left operand and assign the result to left operand |\n",
    "\n",
    "Examples of assignment operators:"
   ]
  },
  {
   "cell_type": "code",
   "execution_count": null,
   "metadata": {},
   "outputs": [],
   "source": [
    "number = 4\n",
    "\n",
    "number += 5\n",
    "number"
   ]
  },
  {
   "cell_type": "code",
   "execution_count": null,
   "metadata": {},
   "outputs": [],
   "source": [
    "number = 7\n",
    "\n",
    "number *= 3\n",
    "number"
   ]
  },
  {
   "cell_type": "markdown",
   "metadata": {},
   "source": [
    "#### 8.4.3.3. Casting\n",
    "\n",
    "Guess the output of the cell below."
   ]
  },
  {
   "cell_type": "code",
   "execution_count": null,
   "metadata": {
    "scrolled": true
   },
   "outputs": [],
   "source": [
    "'11.186' + 2 "
   ]
  },
  {
   "cell_type": "markdown",
   "metadata": {},
   "source": [
    "**Exercise:** Fix the code in the cell above so it runs without throwing an error. HINT: Use casting."
   ]
  },
  {
   "cell_type": "markdown",
   "metadata": {},
   "source": [
    "**Exercise:** In the code cells below, replace the `???`'s with casting functions to make the code run without errors."
   ]
  },
  {
   "cell_type": "code",
   "execution_count": null,
   "metadata": {},
   "outputs": [],
   "source": [
    "7 ** ???('2')"
   ]
  },
  {
   "cell_type": "code",
   "execution_count": null,
   "metadata": {},
   "outputs": [],
   "source": [
    "print(\"My team has won \" + ???(20) + \" awards collectively.\")"
   ]
  },
  {
   "cell_type": "code",
   "execution_count": null,
   "metadata": {},
   "outputs": [],
   "source": [
    "PI = '3.14159'\n",
    "int(???(PI) * 100) / 100"
   ]
  },
  {
   "cell_type": "code",
   "execution_count": null,
   "metadata": {},
   "outputs": [],
   "source": [
    "my_num = 654321\n",
    "print(\"The first three digits in my_num are \" + ???(my_num)[:3])"
   ]
  },
  {
   "cell_type": "markdown",
   "metadata": {},
   "source": [
    "\n",
    "<hr> <a id=\"none\"></a>\n",
    "\n",
    "### 8.4.4. None\n",
    "\n",
    "The `None` data type is used to denote the absence of data."
   ]
  },
  {
   "cell_type": "code",
   "execution_count": null,
   "metadata": {},
   "outputs": [],
   "source": [
    "type(None)"
   ]
  },
  {
   "cell_type": "markdown",
   "metadata": {},
   "source": [
    "One helpful note about the `None` data type is that when cast to a Boolean it evaluates to `False`"
   ]
  },
  {
   "cell_type": "code",
   "execution_count": null,
   "metadata": {},
   "outputs": [],
   "source": [
    "bool(None)"
   ]
  },
  {
   "cell_type": "markdown",
   "metadata": {},
   "source": [
    "<hr> <a id=\"Structures\"></a>\n",
    "\n",
    "## 8.5. Python Data Structures\n",
    "\n",
    "<hr> <a id=\"sequences\"></a>\n",
    "\n",
    "### 8.5.1. Sequences\n",
    "\n",
    "A sequence is an ordered grouping of elements.  Each element of a sequence is assigned a number which is its position or index.\n",
    "\n",
    "<img src=\"./GRAPHICS/arrayIndex.png\" width=\"40%\"><br>"
   ]
  },
  {
   "cell_type": "markdown",
   "metadata": {},
   "source": [
    "\n",
    "<hr> <a id=\"lists\"></a>\n",
    "\n",
    "### 8.5.2. Lists\n",
    "\n",
    "Lists are mutable sequences.\n",
    "\n",
    "| Syntax | Description |\n",
    "|:----------------------------:|--------------------------------------------------:|\n",
    "| `list2 = []`                      | Initializes an empty list |\n",
    "| `list3[0]`                        | Indexes a list |\n",
    "| `list3[1:2]`                      | Slices a list |\n",
    "|`list_variable.append(x)`         | Appends `x` to the end of the list |\n",
    "|`list_variable.extend(my_list)`   | Appends each element of `my_list` to the list |\n",
    "|`list_variable.insert(i, x)`       | Inserts `x` at index `i` in the list |\n",
    "|`list_variable.remove(x)`         | Removes the first appearance of `x` in the list |\n",
    "|`list_variable.pop(i)`            | Removes the item at index `i` in the list and returns that value |\n",
    "|`list_variable.index(x)`          | Returns the index where `x` first appears in the list; <br>throws an error if `x` is not contained in the list  |\n",
    "|`list_variable.count(x)`          | Counts the number of times `x` appears in the list |\n",
    "|`list_variable.sort(reverse=False)`            | Sorts the order of the list |\n",
    "|`list_variable.reverse()`         | Reverses the order of the list |\n",
    "\n",
    "Run the following cell to save the list of strings below."
   ]
  },
  {
   "cell_type": "code",
   "execution_count": null,
   "metadata": {},
   "outputs": [],
   "source": [
    "grocery_list = ['apples', 'ice cream', 'yogurt']"
   ]
  },
  {
   "cell_type": "markdown",
   "metadata": {},
   "source": [
    "**Exercise:** Append `'walnuts'` to `grocery_list`."
   ]
  },
  {
   "cell_type": "code",
   "execution_count": null,
   "metadata": {},
   "outputs": [],
   "source": [
    "## YOUR CODE GOES HERE ##"
   ]
  },
  {
   "cell_type": "markdown",
   "metadata": {},
   "source": [
    "**Exercise:** Remove the first item from `grocery_list` and save the removed value to a variable."
   ]
  },
  {
   "cell_type": "code",
   "execution_count": null,
   "metadata": {},
   "outputs": [],
   "source": [
    "## YOUR CODE GOES HERE ##"
   ]
  },
  {
   "cell_type": "markdown",
   "metadata": {},
   "source": [
    "**Exercise:** Extend `grocery_list` with the items in the list below."
   ]
  },
  {
   "cell_type": "code",
   "execution_count": null,
   "metadata": {},
   "outputs": [],
   "source": [
    "new_grocery_list = ['triple sec', 'tequila', 'limes', 'salt']"
   ]
  },
  {
   "cell_type": "code",
   "execution_count": null,
   "metadata": {},
   "outputs": [],
   "source": [
    "## YOUR CODE GOES HERE ##"
   ]
  },
  {
   "cell_type": "markdown",
   "metadata": {},
   "source": [
    "You can also add two lists together, which does the same thing as `.extend()`."
   ]
  },
  {
   "cell_type": "code",
   "execution_count": null,
   "metadata": {},
   "outputs": [],
   "source": [
    "taco_night_grocery_list = ['taco shells', 'beef', 'cheese', 'salsa', 'chips']\n",
    "\n",
    "grocery_list = grocery_list + taco_night_grocery_list\n",
    "grocery_list"
   ]
  },
  {
   "cell_type": "markdown",
   "metadata": {},
   "source": [
    "Using the list below, make the following changes."
   ]
  },
  {
   "cell_type": "code",
   "execution_count": null,
   "metadata": {},
   "outputs": [],
   "source": [
    "courses2018 = ['Chemistry 237', 'Archery 101', 'Bowling 201', 'Computer Science 211', 'Geology 301']"
   ]
  },
  {
   "cell_type": "markdown",
   "metadata": {},
   "source": [
    "**Exercise:** Remove `'Archery 101'` from the course list."
   ]
  },
  {
   "cell_type": "code",
   "execution_count": null,
   "metadata": {},
   "outputs": [],
   "source": [
    "## YOUR CODE GOES HERE ##"
   ]
  },
  {
   "cell_type": "markdown",
   "metadata": {},
   "source": [
    "**Exercise:** Add `'Physics 202'` to the list."
   ]
  },
  {
   "cell_type": "code",
   "execution_count": null,
   "metadata": {},
   "outputs": [],
   "source": [
    "## YOUR CODE GOES HERE ##"
   ]
  },
  {
   "cell_type": "markdown",
   "metadata": {},
   "source": [
    "**Exercise:** Sort the list alphabetically in descending order (Z-A)."
   ]
  },
  {
   "cell_type": "code",
   "execution_count": null,
   "metadata": {},
   "outputs": [],
   "source": [
    "courses2018 = ['Chemistry 237', 'Archery 101', 'Bowling 201', 'Computer Science 211', 'Geology 301']"
   ]
  },
  {
   "cell_type": "code",
   "execution_count": null,
   "metadata": {},
   "outputs": [],
   "source": [
    "## YOUR CODE GOES HERE ##"
   ]
  },
  {
   "cell_type": "markdown",
   "metadata": {},
   "source": [
    "Using the list below, make the following changes using Python:   "
   ]
  },
  {
   "cell_type": "code",
   "execution_count": null,
   "metadata": {},
   "outputs": [],
   "source": [
    "num_list = [68, 5, 76, 81, 19, 33, 8, 26, 84, 47, 43, 25, 61, 22, 27]"
   ]
  },
  {
   "cell_type": "markdown",
   "metadata": {},
   "source": [
    "**Exercise:** Count the number of items in the list (using code, not your fingers!)."
   ]
  },
  {
   "cell_type": "code",
   "execution_count": null,
   "metadata": {},
   "outputs": [],
   "source": [
    "## YOUR CODE GOES HERE ##"
   ]
  },
  {
   "cell_type": "markdown",
   "metadata": {},
   "source": [
    "**Exercise:** Move the first item in the list to the end of the list."
   ]
  },
  {
   "cell_type": "code",
   "execution_count": null,
   "metadata": {},
   "outputs": [],
   "source": [
    "## YOUR CODE GOES HERE ##"
   ]
  },
  {
   "cell_type": "markdown",
   "metadata": {},
   "source": [
    "**Exercise:** Find the maximum value in the list using the built-in `max()` function."
   ]
  },
  {
   "cell_type": "code",
   "execution_count": null,
   "metadata": {},
   "outputs": [],
   "source": [
    "## YOUR CODE GOES HERE ##"
   ]
  },
  {
   "cell_type": "markdown",
   "metadata": {},
   "source": [
    "**Exercise:** Find the maximum value in the list by sorting the list in ascending order and then grabbing the last element."
   ]
  },
  {
   "cell_type": "code",
   "execution_count": null,
   "metadata": {},
   "outputs": [],
   "source": [
    "## YOUR CODE GOES HERE ##"
   ]
  },
  {
   "cell_type": "markdown",
   "metadata": {},
   "source": [
    "\n",
    "<hr> <a id=\"tuples\"></a>\n",
    "\n",
    "### 8.5.3. Tuples\n",
    "\n",
    "Tuples are immutable sequences.\n",
    "\n",
    "|Code                           |Action                  |\n",
    "|:-------------------------------:|------------------------:|\n",
    "|`my_tuple[0]`                  | Indexing a tuple |\n",
    "|`x, y = my_tuple`             | Multiple assignment |"
   ]
  },
  {
   "cell_type": "code",
   "execution_count": null,
   "metadata": {},
   "outputs": [],
   "source": [
    "weekdays = ('Monday','Tuesday','Wednesday','Thursday','Friday') "
   ]
  },
  {
   "cell_type": "markdown",
   "metadata": {},
   "source": [
    "Why does the cell below throw an error?"
   ]
  },
  {
   "cell_type": "code",
   "execution_count": null,
   "metadata": {
    "scrolled": true
   },
   "outputs": [],
   "source": [
    "weekdays[0] = 'Lunes'\n",
    "weekdays"
   ]
  },
  {
   "cell_type": "markdown",
   "metadata": {},
   "source": [
    "**Exercise:** Using indexing, extract the third element from within the second-to-last element of the following tuple. HINT: The target element is the integer `22`."
   ]
  },
  {
   "cell_type": "code",
   "execution_count": null,
   "metadata": {},
   "outputs": [],
   "source": [
    "my_tuple = ((13, 2, 60, 6),\n",
    "            (54, 0, 20, 37),\n",
    "            (65, 62, 9, 49),\n",
    "            (18, 69, 8, 54),\n",
    "            (55, 52, 22, 53),\n",
    "            (62, 57, 75, 20))"
   ]
  },
  {
   "cell_type": "code",
   "execution_count": null,
   "metadata": {},
   "outputs": [],
   "source": [
    "## YOUR CODE GOES HERE ##"
   ]
  },
  {
   "cell_type": "markdown",
   "metadata": {},
   "source": [
    "\n",
    "<hr> <a id=\"strings\"></a>\n",
    "\n",
    "### 8.5.4. Strings\n",
    "\n",
    "Strings are immutable sequences of characters. \n",
    "\n",
    "| Syntax                             |   Description                                                              |\n",
    "|:----------------------------------:|----------------------------------------------------------------------------------:|\n",
    "|`str(x) `           | Converts `x` to a string |\n",
    "|`string_a + string_b`                | Concatenation: appends `string_b` to `string_a` |\n",
    "|`my_string * 3  `                    | Repeats the string 3 times |\n",
    "|`my_string[i] `                  | String indexing |\n",
    "|`my_string[begin_index:end_index]`   | String slicing |\n",
    "|`string_variable.upper()`           | Converts all of the alpha characters to uppercase |\n",
    "|`string_variable.lower()`           | Converts all of the alpha characters to lowercase |\n",
    "|`string_variable.strip()`           | Removes leading and trailing whitespace from a string |\n",
    "|`string_variable.split(sub_string)`| Splits a string using `sub_string` as a delimiter;<br>returns a list of string fragments|\n",
    "|`string_variable.replace(old, new)` | Replaces all occurrences of `old` with `new` |\n",
    "|`string.find(sub_string)`  | Searches a string for `sub_string`, returns the index location of <br>first character of substring (or -1 if `sub_string` is not found) |\n",
    "                            \n",
    "Below, we demonstrate some of the things you can do with strings.                         "
   ]
  },
  {
   "cell_type": "code",
   "execution_count": null,
   "metadata": {},
   "outputs": [],
   "source": [
    "string_variable = '   Hello World   '"
   ]
  },
  {
   "cell_type": "markdown",
   "metadata": {},
   "source": [
    "Convert all the characters to uppercase."
   ]
  },
  {
   "cell_type": "code",
   "execution_count": null,
   "metadata": {
    "scrolled": true
   },
   "outputs": [],
   "source": [
    "string_variable.upper()"
   ]
  },
  {
   "cell_type": "markdown",
   "metadata": {},
   "source": [
    "Convert all the characters to lowercase."
   ]
  },
  {
   "cell_type": "code",
   "execution_count": null,
   "metadata": {},
   "outputs": [],
   "source": [
    "string_variable.lower()"
   ]
  },
  {
   "cell_type": "markdown",
   "metadata": {},
   "source": [
    "Remove the leading and trailing white space from the string."
   ]
  },
  {
   "cell_type": "code",
   "execution_count": null,
   "metadata": {},
   "outputs": [],
   "source": [
    "string_variable.strip()"
   ]
  },
  {
   "cell_type": "markdown",
   "metadata": {},
   "source": [
    "Split the words in the string."
   ]
  },
  {
   "cell_type": "code",
   "execution_count": null,
   "metadata": {},
   "outputs": [],
   "source": [
    "string_variable.split()"
   ]
  },
  {
   "cell_type": "markdown",
   "metadata": {},
   "source": [
    "**Exercise:** Write a script to make a new string from a given string where all occurrences of the first character have been changed to `'$'`, except the first character itself. HINT: Use indexing, slicing and `.replace()`.  \n",
    "\n",
    "| Example Input | Expected Output |\n",
    "|:---------:|:----------:|\n",
    "| `restart` | `resta$t` |\n",
    "| `pineapple` | `pinea$$le` |"
   ]
  },
  {
   "cell_type": "code",
   "execution_count": null,
   "metadata": {},
   "outputs": [],
   "source": [
    "## YOUR CODE GOES HERE ##"
   ]
  },
  {
   "cell_type": "markdown",
   "metadata": {},
   "source": [
    "**Exercise:** Write a Python script to take two strings, swap the first two characters of each string, then combine them into one string separated by a space. HINT: Use slicing and string concatenation (`+`).\n",
    "\n",
    "| Example Input | Expected Output |\n",
    "|:---------:|:----------:|\n",
    "| `s1, s2 = 'abc', 'xyz'` | `'xyc abz'` |\n",
    "| `s1, s2 = 'magic', 'carpet'` | `'cagic marpet'` |"
   ]
  },
  {
   "cell_type": "code",
   "execution_count": null,
   "metadata": {},
   "outputs": [],
   "source": [
    "## YOUR CODE GOES HERE ##"
   ]
  },
  {
   "cell_type": "markdown",
   "metadata": {},
   "source": [
    "\n",
    "<hr> <a id=\"unordered\"></a>\n",
    "\n",
    "### 8.5.5. Unordered Collections\n",
    "\n",
    "Sequences are like pill boxes.  They contain pieces of data in a given order, where each item is given a numeric index.\n",
    "\n",
    "<img src=\"./GRAPHICS/list_pillbox.png\" width=\"33%\">\n",
    "\n",
    "Unordered collections, on the other hand, are like pill bottles.  While they also contain data elements, there is not an inherent order or addressing system.\n",
    "\n",
    "<img src=\"./GRAPHICS/list_pillbottle.png\" width=\"15%\"> "
   ]
  },
  {
   "cell_type": "markdown",
   "metadata": {},
   "source": [
    "\n",
    "<hr> <a id=\"sets\"></a>\n",
    "\n",
    "### 8.5.6. Sets\n",
    "\n",
    "Python sets are mutable, unordered collections of unique elements. They are not considered sequences and therefore do not support indexing or slicing. Sets also do not allow duplicate elements and will automatically deduplicate themselves, retaining only one instance of each unique value. Basic uses for sets include membership testing and deduplication of other sequences. Sets also support mathematical set operations like union, intersection, difference, and symmetric difference. \n",
    "\n",
    "Sets are always wrapped in curly braces: `{}`\n",
    "\n",
    "| Syntax                    | Action                                     |\n",
    "|:-------------------------:|--------------------------------------------|\n",
    "|`set1 = set()`              | Initializes an empty set |\n",
    "|`set3 = {1, 'a', 3.1415}`     | Initializes a set with multiple elements |\n",
    "|`set2.add(x)`       | Adds the value stored in `x` to `set2` |\n",
    "|`set2.remove(x)`       | Removes the value stored in `x` from `set2` |\n",
    "|`x in set2`                 | Asks is `x` in `set2`? |\n",
    "|`set1.difference(set2)   `               | Values in `set1` but not in `set2`|\n",
    "|`set1.union(set2)    `              | Values in either `set1` or `set2` |\n",
    "|`set1.intersection(set2)   `               | Values in both `set1` and `set2` |\n",
    "|`set1.symmetric_difference(set2)   `               | Values in `set1` or `set2` but not both  |"
   ]
  },
  {
   "cell_type": "markdown",
   "metadata": {},
   "source": [
    "To demonstrate these capabilities, first initialize values into two sets. Both sets contain geocoordinates as tuples. Use set operations to compare them."
   ]
  },
  {
   "cell_type": "code",
   "execution_count": null,
   "metadata": {},
   "outputs": [],
   "source": [
    "set1 = {(40.3359, -73.8519), (40.1395, -73.1847), (40.9018, -73.6472), (41.3114, -74.9317), (40.0574, -73.7093), (40.3283, -73.5393), (41.4963, -74.7807), (41.306, -74.1903), (41.3009, -74.3318), (41.0859, -74.1065), (41.476, -74.8781), (41.4132, -74.4966), (41.5069, -74.9362), (40.7464, -73.3113), (39.9643, -74.2852), (40.2784, -74.4275), (40.1685, -74.4684), (40.6913, -74.7727), (40.9869, -74.3098), (40.5029, -74.1455), (39.7886, -73.7916), (41.3454, -73.0848), (41.0134, -73.5366), (41.1706, -73.6227), (39.9752, -73.6027)}\n",
    "set2 = {(40.7464, -73.3113), (40.4534, -73.5302), (40.1395, -73.1847), (40.9401, -73.6553), (40.9985, -73.1145), (40.3359, -73.8519), (41.5069, -74.9362), (41.3114, -74.9317), (41.2716, -74.7067), (41.0532, -74.9857), (41.1434, -74.6219), (41.2259, -74.3201), (41.55, -74.9327), (41.4962, -74.5411), (39.8443, -74.0483), (39.9222, -74.5679), (40.506, -74.1934), (40.2784, -74.4275), (40.5449, -73.5188), (40.1014, -74.3324), (40.7861, -74.7268), (41.3841, -73.2179), (41.1719, -73.7924), (41.3193, -73.9454), (39.7886, -73.7916)}"
   ]
  },
  {
   "cell_type": "markdown",
   "metadata": {},
   "source": [
    "Show values in `set1` that are not in `set2`."
   ]
  },
  {
   "cell_type": "code",
   "execution_count": null,
   "metadata": {},
   "outputs": [],
   "source": [
    "set1.difference(set2)"
   ]
  },
  {
   "cell_type": "markdown",
   "metadata": {},
   "source": [
    "Show values in either `set1` or `set2`."
   ]
  },
  {
   "cell_type": "code",
   "execution_count": null,
   "metadata": {},
   "outputs": [],
   "source": [
    "set1.union(set2)"
   ]
  },
  {
   "cell_type": "markdown",
   "metadata": {},
   "source": [
    "Show the elements that belong to both sets."
   ]
  },
  {
   "cell_type": "code",
   "execution_count": null,
   "metadata": {},
   "outputs": [],
   "source": [
    "set1.intersection(set2) "
   ]
  },
  {
   "cell_type": "markdown",
   "metadata": {},
   "source": [
    "Show values in `set1` or `set2`, but not both."
   ]
  },
  {
   "cell_type": "code",
   "execution_count": null,
   "metadata": {},
   "outputs": [],
   "source": [
    "set1.symmetric_difference(set2) "
   ]
  },
  {
   "cell_type": "markdown",
   "metadata": {},
   "source": [
    "\n",
    "<hr> <a id=\"dictionaries\"></a>\n",
    "\n",
    "### 8.5.7. Dictionaries\n",
    "\n",
    "Dictionaries are collections of key-value pairs. Unlike sequences, which are indexed by a range of numbers, dictionaries are indexed by keys, which can be any immutable type. Strings and numbers can always be keys. The values in a dictionary can be any data type or data structure.\n",
    "\n",
    "Dictionaries share many properties with sets:\n",
    "* Both sets and dictionaries are unordered\n",
    "* Both sets and dictionaries are wrapped in curly braces\n",
    "* Sets must have unique entries, dictionaries must have unique keys                               \n",
    "\n",
    "There are three dictionary methods we covered in this class.\n",
    "\n",
    "| Code                    | Action                                     |\n",
    "|-------------------------|--------------------------------------------|\n",
    "|`.keys()`     | Returns a collection of the dictionary keys |\n",
    "|`.values()`   | Returns a collection of the dictionary values |\n",
    "|`.items()`    | Returns a collection of tuples of key-value pairs <br>that can be unpacked using multiple assignments |\n"
   ]
  },
  {
   "cell_type": "markdown",
   "metadata": {},
   "source": [
    "There are a number of ways to iterate through a dictionary, but using `.items()` is usually the easiest.\n",
    "\n",
    "```python\n",
    "for key, value in dict_object.items(): \n",
    "    do_something_with(key)\n",
    "    do_something_with(value)\n",
    "```   "
   ]
  },
  {
   "cell_type": "markdown",
   "metadata": {},
   "source": [
    "Initialize a dictionary to get some practice."
   ]
  },
  {
   "cell_type": "code",
   "execution_count": null,
   "metadata": {},
   "outputs": [],
   "source": [
    "inventory = {'apples': 430, \n",
    "             'bananas': 312, \n",
    "             'oranges': 525, \n",
    "             'pears': 217}"
   ]
  },
  {
   "cell_type": "markdown",
   "metadata": {},
   "source": [
    "Show the dictionary keys."
   ]
  },
  {
   "cell_type": "code",
   "execution_count": null,
   "metadata": {},
   "outputs": [],
   "source": [
    "inventory.keys()"
   ]
  },
  {
   "cell_type": "markdown",
   "metadata": {},
   "source": [
    "Print the current stock for bananas."
   ]
  },
  {
   "cell_type": "code",
   "execution_count": null,
   "metadata": {
    "scrolled": true
   },
   "outputs": [],
   "source": [
    "inventory['bananas']"
   ]
  },
  {
   "cell_type": "markdown",
   "metadata": {},
   "source": [
    "Add `'avocados'` to your dictionary with a value of `543`."
   ]
  },
  {
   "cell_type": "code",
   "execution_count": null,
   "metadata": {},
   "outputs": [],
   "source": [
    "inventory['avocados'] = 543\n",
    "inventory"
   ]
  },
  {
   "cell_type": "markdown",
   "metadata": {},
   "source": [
    "Edit the value of `'oranges'` by subtracting `83` from the current value."
   ]
  },
  {
   "cell_type": "code",
   "execution_count": null,
   "metadata": {},
   "outputs": [],
   "source": [
    "inventory['oranges'] -= 83\n",
    "inventory"
   ]
  },
  {
   "cell_type": "markdown",
   "metadata": {},
   "source": [
    "Delete `'pears'` from your dictionary."
   ]
  },
  {
   "cell_type": "code",
   "execution_count": null,
   "metadata": {},
   "outputs": [],
   "source": [
    "del inventory['pears']\n",
    "inventory"
   ]
  },
  {
   "cell_type": "markdown",
   "metadata": {},
   "source": [
    "Using the provided dictionary, let's make some changes."
   ]
  },
  {
   "cell_type": "code",
   "execution_count": null,
   "metadata": {},
   "outputs": [],
   "source": [
    "grocery_prices = {'Eggs': 2.59,\n",
    "                  'Milk': 3.19,\n",
    "                  'Cheese': {'American': 4.80,\n",
    "                             'Swiss': 4.11,\n",
    "                             'Cheddar': 3.59\n",
    "                            },\n",
    "                  'Yogurt': {'Regular': 2.35,\n",
    "                             'Sale': 1.11\n",
    "                            },\n",
    "                  'Butter': 2.59\n",
    "                 }"
   ]
  },
  {
   "cell_type": "markdown",
   "metadata": {},
   "source": [
    "**Exercise:** Egg prices have dropped. Let's change the price of `'Eggs'` to `1.99`."
   ]
  },
  {
   "cell_type": "code",
   "execution_count": null,
   "metadata": {},
   "outputs": [],
   "source": [
    "## YOUR CODE GOES HERE ##"
   ]
  },
  {
   "cell_type": "markdown",
   "metadata": {},
   "source": [
    "**Exercise:** Change the `'Sale'` price of `'Yogurt'` to `1.49`."
   ]
  },
  {
   "cell_type": "code",
   "execution_count": null,
   "metadata": {},
   "outputs": [],
   "source": [
    "## YOUR CODE GOES HERE ##"
   ]
  },
  {
   "cell_type": "markdown",
   "metadata": {},
   "source": [
    "**Exercise:** Add `'Honey'` to our dictionary, with the price of `3.49`."
   ]
  },
  {
   "cell_type": "code",
   "execution_count": null,
   "metadata": {},
   "outputs": [],
   "source": [
    "## YOUR CODE GOES HERE ##"
   ]
  },
  {
   "cell_type": "markdown",
   "metadata": {},
   "source": [
    "**Exercise:** We recently lost our butter supplier. Remove `'Butter'` from our dictionary."
   ]
  },
  {
   "cell_type": "code",
   "execution_count": null,
   "metadata": {},
   "outputs": [],
   "source": [
    "## YOUR CODE GOES HERE ##"
   ]
  },
  {
   "cell_type": "markdown",
   "metadata": {},
   "source": [
    "**Exercise:** Add `'Lobster'` to our dictionary with the value `'Market Price'`."
   ]
  },
  {
   "cell_type": "code",
   "execution_count": null,
   "metadata": {},
   "outputs": [],
   "source": [
    "## YOUR CODE GOES HERE ##"
   ]
  },
  {
   "cell_type": "markdown",
   "metadata": {},
   "source": [
    "**Exercise:** We found that Swiss cheese is not selling. Remove `'Swiss'` cheese from our dictionary."
   ]
  },
  {
   "cell_type": "code",
   "execution_count": null,
   "metadata": {},
   "outputs": [],
   "source": [
    "## YOUR CODE GOES HERE ##"
   ]
  },
  {
   "cell_type": "markdown",
   "metadata": {},
   "source": [
    "\n",
    "<hr> <a id=\"common_ops\"></a>\n",
    "\n",
    "### 8.5.8. Common Operations Across Data Structures\n",
    "\n",
    "There are certain operations you can do on any data structure. When called on dictionaries, these functions apply themselves to the dictionary's keys.\n",
    "\n",
    "| Syntax               | Description                               |\n",
    "|:----------------------:|-------------------------------------------|\n",
    "|`max(my_sequence)`    | Returns the maximum value contained in the collection |\n",
    "|`min(my_sequence)`    | Returns the minimum value contained in the collection |\n",
    "|`sum(my_sequence)`    | Returns the sum of the collection as an integer (only works if all items are numeric) |\n",
    "|`len(my_sequence)`    | Returns the length of the collection as an integer |\n",
    "|`sorted(my_sequence)` | Returns a sorted copy of the collection |"
   ]
  },
  {
   "cell_type": "markdown",
   "metadata": {},
   "source": [
    "\n",
    "<hr> <a id=\"codeflow\"></a>\n",
    "\n",
    "## 8.6. Flow Control"
   ]
  },
  {
   "cell_type": "markdown",
   "metadata": {},
   "source": [
    "<hr> <a id=\"if\"></a>\n",
    "### 8.6.1. If Statements\n",
    "\n",
    "The `if` statement is used for conditional execution. The below code checks the value of `stock_price` and prints a message depending on its value."
   ]
  },
  {
   "cell_type": "code",
   "execution_count": null,
   "metadata": {},
   "outputs": [],
   "source": [
    "stock_price = 14000\n",
    "\n",
    "if stock_price > 20000:\n",
    "    print('SELL!')\n",
    "    \n",
    "elif stock_price < 15000:\n",
    "    print('BUY!')\n",
    "    \n",
    "else:\n",
    "    print('Do Nothing.')"
   ]
  },
  {
   "cell_type": "markdown",
   "metadata": {},
   "source": [
    "We can add as many `elif` statements as we want to an `if` block. But remember, only one clause in an `if` block will execute. When a clause evaluates to `True`, its code is run and all subsequent clauses are skipped."
   ]
  },
  {
   "cell_type": "code",
   "execution_count": null,
   "metadata": {},
   "outputs": [],
   "source": [
    "grade = 86\n",
    "\n",
    "if 60 <= grade < 70:\n",
    "    print('Student got a D')\n",
    "    \n",
    "elif 70 <= grade < 80:\n",
    "    print('Student got a C')\n",
    "    \n",
    "elif 80 <= grade < 90:\n",
    "    print('Student got a B')\n",
    "    \n",
    "elif grade >= 90:\n",
    "    print('Student got a A')\n",
    "    \n",
    "else:\n",
    "    print('Student did not pass')"
   ]
  },
  {
   "cell_type": "markdown",
   "metadata": {},
   "source": [
    "**Exercise:** Create an `if` block (using `if`, `elif`, and/or `else` statements as needed) that will evaluate as follows.\n",
    "\n",
    "|Example Input|Expected Output|\n",
    "|:-------------|:----:|\n",
    "| `weather = 'sunny'`<br>`day = 'weekday'`| `'Have lunch outside.'`|\n",
    "| `weather = 'rainy'`<br>`day = 'weekday'`| `'Sigh and eat at your desk.'`|\n",
    "| `weather = 'sunny'`<br>`day = 'weekend'`| `'Go for a hike.'`|\n",
    "| `weather = 'rainy'`<br>`day = 'weekend'`| `'Play board games with friends.'`|"
   ]
  },
  {
   "cell_type": "code",
   "execution_count": null,
   "metadata": {},
   "outputs": [],
   "source": [
    "## YOUR CODE GOES HERE ##"
   ]
  },
  {
   "cell_type": "markdown",
   "metadata": {},
   "source": [
    "\n",
    "<hr> <a id=\"for\"></a>\n",
    "\n",
    "### 8.6.2. For Loops\n",
    "\n",
    "The `for` statement allows you to loop over the elements of a collection. See the simple example below."
   ]
  },
  {
   "cell_type": "code",
   "execution_count": null,
   "metadata": {},
   "outputs": [],
   "source": [
    "letter_list = ['A', 'B', 'C', 'D', 'E', 'F', 'G', 'H', 'I', 'J', 'K', 'L', 'M', 'N', 'O', 'P', 'Q', 'R', 'S', 'T', 'U', 'V', 'W', 'X', 'Y', 'Z']\n",
    "\n",
    "for letter in letter_list:\n",
    "    print(letter.lower() * 5)"
   ]
  },
  {
   "cell_type": "markdown",
   "metadata": {},
   "source": [
    "**Exercise:** Write a `for` loop that will loop through the list of letters below and print only the vowels."
   ]
  },
  {
   "cell_type": "code",
   "execution_count": null,
   "metadata": {},
   "outputs": [],
   "source": [
    "letter_list = ['A', 'B', 'C', 'D', 'E', 'F', 'G', 'H', 'I', 'J', 'K', 'L', 'M', 'N', 'O', 'P', 'Q', 'R', 'S', 'T', 'U', 'V', 'W', 'X', 'Y', 'Z']"
   ]
  },
  {
   "cell_type": "code",
   "execution_count": null,
   "metadata": {},
   "outputs": [],
   "source": [
    "## YOUR CODE GOES HERE ##"
   ]
  },
  {
   "cell_type": "markdown",
   "metadata": {},
   "source": [
    "**Exercise:** Create a `for` loop that will print only the names of animals from `my_animals` that eat `'Shrubbery'`."
   ]
  },
  {
   "cell_type": "code",
   "execution_count": null,
   "metadata": {},
   "outputs": [],
   "source": [
    "my_animals = [{'Name': 'Giraffe', 'Weight': '2600', 'Diet': 'Shrubbery', 'Average Lifespan': '25'}, \n",
    "              {'Name': 'Moose', 'Weight': '1300', 'Diet': 'Shrubbery', 'Average Lifespan': '20'}, \n",
    "              {'Name': 'Giant Panda', 'Weight': '220', 'Diet': 'Bamboo', 'Average Lifespan': '20'}, \n",
    "              {'Name': 'Red Panda', 'Weight': '14', 'Diet': 'Bamboo', 'Average Lifespan': '14'}, \n",
    "              {'Name': 'Hippopotamus', 'Weight': '3800', 'Diet': 'Grass', 'Average Lifespan': '45'}, \n",
    "              {'Name': 'Lion', 'Weight': '400', 'Diet': 'Gazelle', 'Average Lifespan': '12'}, \n",
    "              {'Name': 'Tortoise', 'Weight': '100', 'Diet': 'Grass', 'Average Lifespan': '100'}]"
   ]
  },
  {
   "cell_type": "code",
   "execution_count": null,
   "metadata": {},
   "outputs": [],
   "source": [
    "## YOUR CODE GOES HERE ##"
   ]
  },
  {
   "cell_type": "markdown",
   "metadata": {},
   "source": [
    "**Exercise:** Using the same list of animals from the exercise above, loop and create a new dictionary that contains the diet food as the key, and the count of animals that have that diet as the value."
   ]
  },
  {
   "cell_type": "code",
   "execution_count": null,
   "metadata": {},
   "outputs": [],
   "source": [
    "## YOUR CODE GOES HERE ##"
   ]
  },
  {
   "cell_type": "markdown",
   "metadata": {},
   "source": [
    "**Exercise:** Given a list of numbers sorted in ascending order, count how many numbers in the list are less than `1000`. HINT: the answer is 98."
   ]
  },
  {
   "cell_type": "code",
   "execution_count": null,
   "metadata": {},
   "outputs": [],
   "source": [
    "nums_list = [16, 46, 48, 50, 78, 94, 96, 105, 109, 110, 115, 141, 141, 152, 154, 155, 180, 195, 197, 206, 225, 235, \n",
    "             238, 262, 278, 283, 295, 304, 310, 322, 322, 334, 352, 357, 371, 383, 388, 392, 395, 404, 412, 419, 447, \n",
    "             465, 480, 485, 493, 506, 514, 519, 537, 539, 553, 555, 567, 572, 600, 612, 614, 614, 615, 629, 648, 652, \n",
    "             653, 660, 674, 695, 709, 710, 714, 729, 746, 763, 769, 783, 788, 793, 821, 832, 833, 843, 847, 863, 866, \n",
    "             875, 891, 899, 904, 915, 916, 926, 968, 969, 973, 980, 982, 986, 1003, 1017, 1037, 1041, 1048, 1052, 1065, \n",
    "             1071, 1073, 1090, 1096, 1105, 1124, 1142, 1148, 1155, 1157, 1160, 1187, 1198, 1207, 1210, 1229, 1252, 1257, \n",
    "             1258, 1267, 1272, 1272, 1289, 1309, 1319, 1321, 1330, 1352, 1352, 1363, 1371, 1384, 1393, 1401, 1422, 1435, \n",
    "             1439, 1446, 1447, 1454, 1486, 1492, 1495, 1505, 1509]"
   ]
  },
  {
   "cell_type": "code",
   "execution_count": null,
   "metadata": {
    "scrolled": true
   },
   "outputs": [],
   "source": [
    "## YOUR CODE GOES HERE ##"
   ]
  },
  {
   "cell_type": "markdown",
   "metadata": {},
   "source": [
    "\n",
    "<hr> <a id=\"while\"></a>\n",
    "\n",
    "### 8.6.3. While Loops\n",
    "\n",
    "The `while` loop repeats a statement or group of statements while a given Boolean test expression evaluates to `True`. Here's a simple example. We initialize our `count` variable as `0`. Then we jump into a `while` loop that checks if `count` is not equal to `10`. If that evaluates to `True`, our code prints the value of `count` to the screen and then increments `count` by `1`. Try to guess what the output will look like before running the cell below."
   ]
  },
  {
   "cell_type": "code",
   "execution_count": null,
   "metadata": {},
   "outputs": [],
   "source": [
    "count = 0\n",
    "\n",
    "while count != 10:\n",
    "    print(count)\n",
    "    count += 1"
   ]
  },
  {
   "cell_type": "markdown",
   "metadata": {},
   "source": [
    "\n",
    "<hr> <a id=\"break\"></a>\n",
    "\n",
    "### 8.6.4. Break and Continue\n",
    "\n",
    "The `break` statement in Python terminates the `for` or `while` loop it is contained in. The `continue` statement tells Python to skip any code following it in the current loop, and begin the next loop iteration."
   ]
  },
  {
   "cell_type": "markdown",
   "metadata": {},
   "source": [
    "**Exercise:** Given a list of numbers sorted in ascending order, count how many numbers in the list are less than `1000`. Add a `break` statement to halt the execution of your loop once you reach a number that is greater or equal to `1000`. (The series is increasing, there's no need to keep checking numbers after that.) HINT: the answer is 98."
   ]
  },
  {
   "cell_type": "code",
   "execution_count": null,
   "metadata": {},
   "outputs": [],
   "source": [
    "nums_list = [16, 46, 48, 50, 78, 94, 96, 105, 109, 110, 115, 141, 141, 152, 154, 155, 180, 195, 197, 206, 225, 235, \n",
    "             238, 262, 278, 283, 295, 304, 310, 322, 322, 334, 352, 357, 371, 383, 388, 392, 395, 404, 412, 419, 447, \n",
    "             465, 480, 485, 493, 506, 514, 519, 537, 539, 553, 555, 567, 572, 600, 612, 614, 614, 615, 629, 648, 652, \n",
    "             653, 660, 674, 695, 709, 710, 714, 729, 746, 763, 769, 783, 788, 793, 821, 832, 833, 843, 847, 863, 866, \n",
    "             875, 891, 899, 904, 915, 916, 926, 968, 969, 973, 980, 982, 986, 1003, 1017, 1037, 1041, 1048, 1052, 1065, \n",
    "             1071, 1073, 1090, 1096, 1105, 1124, 1142, 1148, 1155, 1157, 1160, 1187, 1198, 1207, 1210, 1229, 1252, 1257, \n",
    "             1258, 1267, 1272, 1272, 1289, 1309, 1319, 1321, 1330, 1352, 1352, 1363, 1371, 1384, 1393, 1401, 1422, 1435, \n",
    "             1439, 1446, 1447, 1454, 1486, 1492, 1495, 1505, 1509]"
   ]
  },
  {
   "cell_type": "code",
   "execution_count": null,
   "metadata": {
    "scrolled": true
   },
   "outputs": [],
   "source": [
    "## YOUR CODE GOES HERE ##"
   ]
  },
  {
   "cell_type": "markdown",
   "metadata": {},
   "source": [
    "**Exercise:** You are given a list of codes that have a mix of alphabetical, numerical, and special characters. From this list, create a new list of only the codes where every character is alphabetical. Use `continue` to skip items that fail to meet the condition. HINT: For each item in the list, use the string method `.isalpha()` to determine if every character is alphabetical.\n",
    "\n",
    "Expected Output: `['gmY', 'GOx', 'tma', 'NQh', 'lgd']` "
   ]
  },
  {
   "cell_type": "code",
   "execution_count": null,
   "metadata": {},
   "outputs": [],
   "source": [
    "codes_list = ['hQ ', '~$\"', 'x%[', '#^l', 'N]\\x0c', 'Yd\\\\', '.D>', '/{$', '_d]', '|0-', 'gmY', '+\\\\J', \n",
    "              'l@G', 'GOx', 'X\"#', '1>G', 'P1#', 'f+0', 'tma', 'A<|', '-D]', '?u{', ' TW', '}.Q', 'K$E', \n",
    "              '[8|', '~r+', '6@J', 'O=4', '{,]', '\\t+w', 'z9!', 'NQh', ',H/', 'E5s', 'lgd', 'K\\tk', '4Qd', '\\nvd', \"P.'\"]"
   ]
  },
  {
   "cell_type": "code",
   "execution_count": null,
   "metadata": {},
   "outputs": [],
   "source": [
    "## YOUR CODE GOES HERE ##"
   ]
  },
  {
   "cell_type": "markdown",
   "metadata": {},
   "source": [
    "\n",
    "<hr> <a id=\"GettingData\"></a>\n",
    "\n",
    "## 8.7. Getting Data\n",
    "\n",
    "<hr> <a id=\"Local\"></a>\n",
    "\n",
    "### 8.7.1. Loading a Local Data File\n",
    "\n",
    "Another method for getting data into a Python program involves reading a local file using the built-in `open()` function. Use the `with` keyword to store the open file in a temporary variable. To read a file, the mode is `'r'` (but this is the default value so we need not specify). To write a file, the mode is `'w'`. In the following example, we read in some data and store it in our script. Remember that `.read()` always brings data in as a string."
   ]
  },
  {
   "cell_type": "code",
   "execution_count": null,
   "metadata": {},
   "outputs": [],
   "source": [
    "with open('data/earthquake/USGS_earthquake_data.xml') as my_file:\n",
    "    USGS_xml_data = my_file.read()\n",
    "\n",
    "USGS_xml_data"
   ]
  },
  {
   "cell_type": "markdown",
   "metadata": {},
   "source": [
    "**Exercise:** Read in the file `'data/lesson_7/kermit.txt'` and find how many times the word `'Muppets'` appears in the file."
   ]
  },
  {
   "cell_type": "code",
   "execution_count": null,
   "metadata": {},
   "outputs": [],
   "source": [
    "## YOUR CODE GOES HERE ##"
   ]
  },
  {
   "cell_type": "markdown",
   "metadata": {},
   "source": [
    "\n",
    "<hr> <a id=\"csv\"></a>\n",
    "\n",
    "### 8.7.2. Getting Data with the CSV Library\n",
    "\n",
    "The comma separated values (CSV) file format is a common import and export format. The `.DictReader()` object interprets CSV data as a list of dictionaries. And the `.DictWriter()` object is used to write CSV files from lists of dictionaries."
   ]
  },
  {
   "cell_type": "code",
   "execution_count": null,
   "metadata": {},
   "outputs": [],
   "source": [
    "import csv"
   ]
  },
  {
   "cell_type": "code",
   "execution_count": null,
   "metadata": {
    "scrolled": false
   },
   "outputs": [],
   "source": [
    "with open('data/animal/animal_info_land.csv') as f:\n",
    "    reader_obj = csv.DictReader(f)\n",
    "    data = list(reader_obj)\n",
    "\n",
    "data"
   ]
  },
  {
   "cell_type": "markdown",
   "metadata": {},
   "source": [
    "**Exercise:** Find how many rows are in the CSV data that we read in one cell above this (using code, not your counting skills!)."
   ]
  },
  {
   "cell_type": "code",
   "execution_count": null,
   "metadata": {},
   "outputs": [],
   "source": [
    "## YOUR CODE GOES HERE ##"
   ]
  },
  {
   "cell_type": "markdown",
   "metadata": {},
   "source": [
    "**Exercise:** Find how many columns are in the CSV data we read in above (i.e. how many items are in each row).<br>\n",
    "\n",
    "HINT: Every row contains the same number of items."
   ]
  },
  {
   "cell_type": "code",
   "execution_count": null,
   "metadata": {},
   "outputs": [],
   "source": [
    "## YOUR CODE GOES HERE ##"
   ]
  },
  {
   "cell_type": "markdown",
   "metadata": {},
   "source": [
    "**Exercise:** Add the following dictionary in the cell below to the CSV data we read in above. Then write your modified data structure out to a new file using `.DictWriter()` in the following location.\n",
    "<br><br>\n",
    "<center>`data/animal/new_animals.csv`</center>"
   ]
  },
  {
   "cell_type": "code",
   "execution_count": null,
   "metadata": {},
   "outputs": [],
   "source": [
    "new_row = {'Name': 'Mouse', 'Weight': 1, 'Diet': 'Cheese', 'Average Lifespan': 5}"
   ]
  },
  {
   "cell_type": "code",
   "execution_count": null,
   "metadata": {},
   "outputs": [],
   "source": [
    "## YOUR CODE GOES HERE ##"
   ]
  },
  {
   "cell_type": "markdown",
   "metadata": {},
   "source": [
    "\n",
    "<hr> <a class=\"anchor\" id=\"glob\"></a>\n",
    "\n",
    "### 8.7.3. The Glob Library\n",
    "\n",
    "The Glob Library finds all the filepaths matching a specified pattern."
   ]
  },
  {
   "cell_type": "code",
   "execution_count": null,
   "metadata": {},
   "outputs": [],
   "source": [
    "import glob"
   ]
  },
  {
   "cell_type": "code",
   "execution_count": null,
   "metadata": {},
   "outputs": [],
   "source": [
    "files = glob.glob('data/animal/*.csv')\n",
    "files"
   ]
  },
  {
   "cell_type": "markdown",
   "metadata": {},
   "source": [
    "**Exercise:** Using `.glob()` find all the CSV files from the `data/animal/` folder that include the word `info` in their filename. Then read all those files and put all the data into a single data structure."
   ]
  },
  {
   "cell_type": "code",
   "execution_count": null,
   "metadata": {},
   "outputs": [],
   "source": [
    "## YOUR CODE GOES HERE ##"
   ]
  },
  {
   "cell_type": "markdown",
   "metadata": {},
   "source": [
    "**Exercise:** How many unique animals are in the data set you created in the exercise above? HINT: The answer is `13`."
   ]
  },
  {
   "cell_type": "code",
   "execution_count": null,
   "metadata": {},
   "outputs": [],
   "source": [
    "## YOUR CODE GOES HERE ##"
   ]
  },
  {
   "cell_type": "markdown",
   "metadata": {},
   "source": [
    "<hr> <b><center>UNCLASSIFIED</center></b>"
   ]
  }
 ],
 "metadata": {
  "anaconda-cloud": {},
  "kernelspec": {
   "display_name": "Python 3",
   "language": "python",
   "name": "python3"
  },
  "language_info": {
   "codemirror_mode": {
    "name": "ipython",
    "version": 3
   },
   "file_extension": ".py",
   "mimetype": "text/x-python",
   "name": "python",
   "nbconvert_exporter": "python",
   "pygments_lexer": "ipython3",
   "version": "3.6.6"
  }
 },
 "nbformat": 4,
 "nbformat_minor": 1
}
