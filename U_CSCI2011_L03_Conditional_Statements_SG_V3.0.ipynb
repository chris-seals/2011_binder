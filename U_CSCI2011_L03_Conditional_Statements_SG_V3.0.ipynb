{
 "cells": [
  {
   "cell_type": "markdown",
   "metadata": {},
   "source": [
    "<b><center>UNCLASSIFIED</center></b>"
   ]
  },
  {
   "cell_type": "markdown",
   "metadata": {},
   "source": [
    "<img src=\"./GRAPHICS/Banner.png\" width=\"110%\">"
   ]
  },
  {
   "cell_type": "markdown",
   "metadata": {},
   "source": [
    "# Lesson 3: Conditional Statements"
   ]
  },
  {
   "cell_type": "markdown",
   "metadata": {},
   "source": [
    "3.1. [Objectives](#Objectives)<br>\n",
    "3.2. [Overview](#Overview)<br>\n",
    "3.3. [Review](#Review)<br>\n",
    "&nbsp;&nbsp;&nbsp;&nbsp;3.3.1. [Strings](#Strings)<br>\n",
    "&nbsp;&nbsp;&nbsp;&nbsp;3.3.2. [Numbers](#Numbers)<br>\n",
    "&nbsp;&nbsp;&nbsp;&nbsp;3.3.3. [Casting](#Casting)<br>\n",
    "3.4. [Lesson: Conditional Statements](#Lesson)<br>\n",
    "&nbsp;&nbsp;&nbsp;&nbsp;3.4.1. [Boolean Values and Expressions](#Boolean)<br>\n",
    "&nbsp;&nbsp;&nbsp;&nbsp;3.4.2. [If Statements](#IfStatements)<br>\n",
    "3.5. [Guided Exercise: Code a Basic Calculator](#Guided-Exercise)<br>\n",
    "3.6. [Practical Exercises](#Practical-Exercises)<br>\n",
    "&nbsp;&nbsp;&nbsp;&nbsp;3.6.1. [Practical Exercise 1: Practice Boolean Expressions](#PE1)<br>\n",
    "&nbsp;&nbsp;&nbsp;&nbsp;3.6.2. [Practical Exercise 2: Practice If Statements](#PE2)<br>\n",
    "&nbsp;&nbsp;&nbsp;&nbsp;3.6.3. [Practical Exercise 3: Guess the Output](#PE3)<br>\n",
    "&nbsp;&nbsp;&nbsp;&nbsp;3.6.4. [Practical Exercise 4: Odd or Even?](#PE4)<br>\n",
    "&nbsp;&nbsp;&nbsp;&nbsp;3.6.5. [Practical Exercise 5: Valid Question?](#PE5)<br>\n",
    "&nbsp;&nbsp;&nbsp;&nbsp;3.6.6. [Practical Exercise 6: Digit in Number](#PE6)<br>\n",
    "&nbsp;&nbsp;&nbsp;&nbsp;3.6.7. [Practical Exercise 7: Century from Year](#PE7)<br>\n",
    "&nbsp;&nbsp;&nbsp;&nbsp;3.6.8. [Practical Exercise 8: Date Formatting](#PE8)<br>\n",
    "&nbsp;&nbsp;&nbsp;&nbsp;3.6.9. [Practical Exercise 9: Valid Emails?](#PE9)<br>\n",
    "3.7. [Appendix](#appendix)<br>"
   ]
  },
  {
   "cell_type": "markdown",
   "metadata": {},
   "source": [
    "<a id='Objectives'></a>\n",
    "## 3.1 Objectives\n",
    "\n",
    "* Examine the implications of using computation to solve a problem\n",
    "    * Discuss best practices for using computation to solve a problem\n",
    "    * Suggest types of problems that can be solved through computation\n",
    "    * Show how computation can solve a problem\n",
    "<br><br>    \n",
    "* Recognize key computer science concepts\n",
    "    * Identify data types used in Python scripting\n",
    "    * Identify data structures used in Python scripting\n",
    "    * Define variables and strings\n",
    "    * Recognize how queries operate\n",
    "<br><br>    \n",
    "* Demonstrate the ability to build basic scripts using Python scripting language\n",
    "    * Use various data types and structures in Python scripting\n",
    "    * Collect data using Python scripting\n",
    "    * Extract data using Python scripting\n",
    "    * Develop advanced data structures using Python scripting"
   ]
  },
  {
   "cell_type": "markdown",
   "metadata": {},
   "source": [
    "<hr>\n",
    "\n",
    "<a id='Overview'></a>\n",
    "## 3.2. Overview\n",
    "\n",
    "The following material is divided into the following parts:\n",
    "* Lesson\n",
    "* Guided Exercise\n",
    "* Practical Exercises"
   ]
  },
  {
   "cell_type": "markdown",
   "metadata": {},
   "source": [
    "<hr>\n",
    "\n",
    "<a id='Review'></a>\n",
    "## 3.3. Review"
   ]
  },
  {
   "cell_type": "markdown",
   "metadata": {},
   "source": [
    "<hr><a id=\"Strings\"></a>\n",
    "\n",
    "### 3.3.1. Strings\n",
    "\n",
    "**Exercise:** Create two string sentences. "
   ]
  },
  {
   "cell_type": "code",
   "execution_count": null,
   "metadata": {},
   "outputs": [],
   "source": [
    "## YOUR CODE GOES HERE ##"
   ]
  },
  {
   "cell_type": "markdown",
   "metadata": {},
   "source": [
    "**Exercise:** Take the first sentence and replace all the spaces with `-` characters by using the `replace()` method."
   ]
  },
  {
   "cell_type": "code",
   "execution_count": null,
   "metadata": {},
   "outputs": [],
   "source": [
    "## YOUR CODE GOES HERE ##"
   ]
  },
  {
   "cell_type": "markdown",
   "metadata": {},
   "source": [
    "**Exercise:** Replace all the spaces with `/` characters by using the `split()` and `join()` methods. "
   ]
  },
  {
   "cell_type": "code",
   "execution_count": null,
   "metadata": {},
   "outputs": [],
   "source": [
    "## YOUR CODE GOES HERE ##"
   ]
  },
  {
   "cell_type": "markdown",
   "metadata": {},
   "source": [
    "**Exercise:** Now, combine the two sentences into one string. "
   ]
  },
  {
   "cell_type": "code",
   "execution_count": null,
   "metadata": {},
   "outputs": [],
   "source": [
    "## YOUR CODE GOES HERE ##"
   ]
  },
  {
   "cell_type": "markdown",
   "metadata": {},
   "source": [
    "**Exercise:** Find the length of the final string. "
   ]
  },
  {
   "cell_type": "code",
   "execution_count": null,
   "metadata": {},
   "outputs": [],
   "source": [
    "## YOUR CODE GOES HERE ##"
   ]
  },
  {
   "cell_type": "markdown",
   "metadata": {},
   "source": [
    "**Exercise:** Make the final string all uppercase letters. "
   ]
  },
  {
   "cell_type": "code",
   "execution_count": null,
   "metadata": {},
   "outputs": [],
   "source": [
    "## YOUR CODE GOES HERE ##"
   ]
  },
  {
   "cell_type": "markdown",
   "metadata": {},
   "source": [
    "**Exercise:** Access the sixth character in the string below (`':'`) using indexing, then access the last four characters (`'.com'`) using slicing."
   ]
  },
  {
   "cell_type": "code",
   "execution_count": null,
   "metadata": {},
   "outputs": [],
   "source": [
    "url = 'https://geoint.blackboard.com'"
   ]
  },
  {
   "cell_type": "code",
   "execution_count": null,
   "metadata": {},
   "outputs": [],
   "source": [
    "## YOUR CODE GOES HERE ##"
   ]
  },
  {
   "cell_type": "markdown",
   "metadata": {},
   "source": [
    "<hr> <a id=\"Numbers\"></a>\n",
    "\n",
    "### 3.3.2. Numbers"
   ]
  },
  {
   "cell_type": "markdown",
   "metadata": {},
   "source": [
    "**Exercise:** What is the difference between integers and floats? "
   ]
  },
  {
   "cell_type": "code",
   "execution_count": null,
   "metadata": {},
   "outputs": [],
   "source": [
    "## YOUR ANSWER GOES HERE -- NO CODE NECESSARY ##"
   ]
  },
  {
   "cell_type": "markdown",
   "metadata": {},
   "source": [
    "**Exercise:** Can you conduct arithmetic operations between them? "
   ]
  },
  {
   "cell_type": "code",
   "execution_count": null,
   "metadata": {},
   "outputs": [],
   "source": [
    "## YOUR ANSWER GOES HERE -- NO CODE NECESSARY ##"
   ]
  },
  {
   "cell_type": "markdown",
   "metadata": {},
   "source": [
    "**Exercise:** Will this this boolean expression evaluate to `True` or `False`? Why? Try it in a code block below to check. \n",
    "\n",
    "`2.0 == 2`"
   ]
  },
  {
   "cell_type": "code",
   "execution_count": null,
   "metadata": {},
   "outputs": [],
   "source": [
    "## YOUR ANSWER GOES HERE -- NO CODE NECESSARY ##"
   ]
  },
  {
   "cell_type": "markdown",
   "metadata": {},
   "source": [
    "**Exercise:** Without writing code, write what each arthimetic operator does (for the last two operators, include a description)\n",
    "> Note: this exercise does not require any code, just write in regular english"
   ]
  },
  {
   "cell_type": "code",
   "execution_count": null,
   "metadata": {},
   "outputs": [],
   "source": [
    "+    # operation\n",
    "-    # operation\n",
    "/    # operation\n",
    "*    # operation\n",
    "**   # operation\n",
    "//   # operation\n",
    "%    # operation"
   ]
  },
  {
   "cell_type": "markdown",
   "metadata": {},
   "source": [
    "<hr> <a id=\"Casting\"></a>\n",
    "\n",
    "### 3.3.3. Casting\n",
    "**Exercise:** Cast the following two strings to numbers and multiply them together."
   ]
  },
  {
   "cell_type": "code",
   "execution_count": null,
   "metadata": {},
   "outputs": [],
   "source": [
    "str_1 = '570'\n",
    "str_2 = '76.42'"
   ]
  },
  {
   "cell_type": "code",
   "execution_count": null,
   "metadata": {},
   "outputs": [],
   "source": [
    "## YOUR CODE GOES HERE ##"
   ]
  },
  {
   "cell_type": "markdown",
   "metadata": {},
   "source": [
    "<hr>\n",
    "\n",
    "<a id='Lesson'></a>\n",
    "## 3.4. Lesson: Conditional Statements"
   ]
  },
  {
   "cell_type": "markdown",
   "metadata": {},
   "source": [
    "<hr>\n",
    "\n",
    "<a id='Boolean'></a>\n",
    "### 3.4.1. Boolean Values and Expressions\n",
    "\n",
    "#### References:\n",
    "* [Python: Boolean Values](https://docs.python.org/3.4/library/stdtypes.html#boolean-values)\n",
    "* [Python: Truth-Value Testing](https://docs.python.org/3.4/library/stdtypes.html#truth)\n",
    "* [Wikipedia: Boolean Data Type](https://en.wikipedia.org/wiki/Boolean_data_type)\n",
    "\n",
    "A Boolean can only be one of two values: `True` or `False`.  These values can be explicitly defined or defined as the result of an expression. Any Python object can be included in a Boolean expression.  For example, if the variable `x` was assigned the value of `35`, then the expression `x > 40` (i.e. is `x` greater than `40`?) would evaluate to `False`.  \n",
    "\n",
    "This ability to compare and contrast one value against another is very important in computer programming.   It allows computers to execute, or not execute, a task based on a condition.  You can think of Booleans as your program's way of responding to yes-or-no questions. Can you think of an instance when you would need to ask your program a question, and execute different commands based on its answer?\n",
    "\n",
    "In Jupyter Notebook code cells, you will see the capitalized words `True` and `False` always show up colored green and bold because they are reserved words in Python. Recall that each reserved word has a specific purpose in Python code and cannot be used for any other purpose."
   ]
  },
  {
   "cell_type": "code",
   "execution_count": null,
   "metadata": {},
   "outputs": [],
   "source": [
    "type(True)"
   ]
  },
  {
   "cell_type": "markdown",
   "metadata": {},
   "source": [
    "<br>\n",
    "As we mentioned above, a Boolean value can be explicitly assigned to a variable."
   ]
  },
  {
   "cell_type": "code",
   "execution_count": null,
   "metadata": {},
   "outputs": [],
   "source": [
    "my_boolean = True\n",
    "my_boolean"
   ]
  },
  {
   "cell_type": "markdown",
   "metadata": {},
   "source": [
    "What happens when you check the type of lowercase `true`? True with a small `'t'` is not a reserved word in Python because Python is case sensitive. Since `'true'` is not a reserved word or a built in function, Python interprets it as a variable or user-defined function name. And because we haven't assigned this name to anything yet in this notebook, we'll get a `NameError`.\n",
    "\n",
    "> NOTE: Boolean values must always be capitalized. "
   ]
  },
  {
   "cell_type": "code",
   "execution_count": null,
   "metadata": {},
   "outputs": [],
   "source": [
    "type(true)"
   ]
  },
  {
   "cell_type": "markdown",
   "metadata": {},
   "source": [
    "A Boolean value can also be created with a Boolean expression. There are several types of Boolean expressions. The first type we'll learn about are comparisons.\n",
    "\n",
    "#### 3.4.1.1. Comparison Operators\n",
    "Comparison operators are used to form a boolean expression.\n",
    "\n",
    "| Operator  | Operation                |\n",
    "| :-------: | :----------------------- |\n",
    "| `==`        | equal to                 |\n",
    "| `!=`        | not equal to             |\n",
    "| `>`         | greater than             |\n",
    "| `>=`        | greater than or equal to |\n",
    "| `<`         | less than                |\n",
    "| `<=`        | less than or equal to    |"
   ]
  },
  {
   "cell_type": "code",
   "execution_count": null,
   "metadata": {},
   "outputs": [],
   "source": [
    "500 == 630"
   ]
  },
  {
   "cell_type": "code",
   "execution_count": null,
   "metadata": {},
   "outputs": [],
   "source": [
    "bool_1 = 14 < 25\n",
    "bool_1"
   ]
  },
  {
   "cell_type": "code",
   "execution_count": null,
   "metadata": {},
   "outputs": [],
   "source": [
    "a = 2\n",
    "b = 4\n",
    "\n",
    "a < b"
   ]
  },
  {
   "cell_type": "markdown",
   "metadata": {},
   "source": [
    "**Exercise:** Create your own comparison expression below. Assign the Boolean value it creates to a new variable."
   ]
  },
  {
   "cell_type": "code",
   "execution_count": null,
   "metadata": {},
   "outputs": [],
   "source": [
    "## YOUR CODE GOES HERE ##"
   ]
  },
  {
   "cell_type": "markdown",
   "metadata": {},
   "source": [
    "**Exercise:** Create your own comparison expression below using a different comparison operator than above."
   ]
  },
  {
   "cell_type": "code",
   "execution_count": null,
   "metadata": {},
   "outputs": [],
   "source": [
    "## YOUR CODE GOES HERE ##"
   ]
  },
  {
   "cell_type": "markdown",
   "metadata": {},
   "source": [
    "**Exercise:** Create a Boolean expression that tests if the weather is cold."
   ]
  },
  {
   "cell_type": "code",
   "execution_count": null,
   "metadata": {},
   "outputs": [],
   "source": [
    "temperature = 40"
   ]
  },
  {
   "cell_type": "code",
   "execution_count": null,
   "metadata": {},
   "outputs": [],
   "source": [
    "## YOUR CODE GOES HERE ##"
   ]
  },
  {
   "cell_type": "markdown",
   "metadata": {},
   "source": [
    "**Exercise:** Given the room capacities below, create a boolean expression that checks to see if a capacity is over 50."
   ]
  },
  {
   "cell_type": "code",
   "execution_count": null,
   "metadata": {},
   "outputs": [],
   "source": [
    "room_1 = '50'\n",
    "room_2 = 65\n",
    "room_3 = 10"
   ]
  },
  {
   "cell_type": "code",
   "execution_count": null,
   "metadata": {},
   "outputs": [],
   "source": [
    "## YOUR CODE GOES HERE ##"
   ]
  },
  {
   "cell_type": "markdown",
   "metadata": {},
   "source": [
    "**Exercise:** Why do we use two equals signs instead of a single equals sign to compare values?\n"
   ]
  },
  {
   "cell_type": "code",
   "execution_count": null,
   "metadata": {},
   "outputs": [],
   "source": [
    "## YOUR ANSWER GOES HERE -- NO CODE NECESSARY ##"
   ]
  },
  {
   "cell_type": "markdown",
   "metadata": {},
   "source": [
    "#### 3.4.1.2. Membership Operators\n",
    "Membership operators are used for a membership test. We can test for membership in any kind of sequence or collection.\n",
    "\n",
    "| Operator | Operation                                                            |\n",
    "| :------: | :------------------------------------------------------------------- |\n",
    "| `in`       | Checks if the left side of expression contained in the right side of expression |\n",
    "| `not in`   | Checks if the left side of expression is not contained in the right side of expression |"
   ]
  },
  {
   "cell_type": "markdown",
   "metadata": {},
   "source": [
    "One type of collection is a list. We can check whether or not a value is a member of a list."
   ]
  },
  {
   "cell_type": "code",
   "execution_count": null,
   "metadata": {},
   "outputs": [],
   "source": [
    "79 in [79, 54, -9, 80, 56, 63, 67, -1, 6, 73, 9, -58]"
   ]
  },
  {
   "cell_type": "code",
   "execution_count": null,
   "metadata": {},
   "outputs": [],
   "source": [
    "80 not in [79, 54, -9, 80, 56, 63, 67, -1, 6, 73, 9, -58]"
   ]
  },
  {
   "cell_type": "markdown",
   "metadata": {},
   "source": [
    "A string is a collection of characters. So we can also check for membership in a string."
   ]
  },
  {
   "cell_type": "code",
   "execution_count": null,
   "metadata": {},
   "outputs": [],
   "source": [
    "'cal' in 'supercalifragilisticexpialidocious'"
   ]
  },
  {
   "cell_type": "code",
   "execution_count": null,
   "metadata": {},
   "outputs": [],
   "source": [
    "bool_2 = 'k' not in 'supercalifragilisticexpialidocious'\n",
    "bool_2"
   ]
  },
  {
   "cell_type": "markdown",
   "metadata": {},
   "source": [
    "**Exercise:** Create your own membership test below."
   ]
  },
  {
   "cell_type": "code",
   "execution_count": null,
   "metadata": {},
   "outputs": [],
   "source": [
    "## YOUR CODE GOES HERE ##"
   ]
  },
  {
   "cell_type": "markdown",
   "metadata": {},
   "source": [
    "#### 3.4.1.3. Logical Operators\n",
    "Boolean expressions can also be combined to form other Boolean expressions. The `and`, `or` and `not` keywords are called logical operators and they are used to combine Boolean expressions.\n",
    "\n",
    "| Operator  | Operation                |\n",
    "| :-------: | :----------------------- |\n",
    "| `and`    | Checks if two statements are _both_ True |\n",
    "| `or`    | Checks if _either_ of two statements are True |\n",
    "| `not` | Negates the value of a boolean statement |\n",
    "\n",
    "The logical operators work like they do in plain language. For example, the statement \"I have a black dog <u>and</u> I have a brown dog\" is only true if I have both a black and a brown dog.  However, the statement \"I have a black dog <u>or</u> I have a brown dog\" is true if I have a dog of either color."
   ]
  },
  {
   "cell_type": "code",
   "execution_count": null,
   "metadata": {},
   "outputs": [],
   "source": [
    "11 > 10 and 6 >= 10"
   ]
  },
  {
   "cell_type": "code",
   "execution_count": null,
   "metadata": {},
   "outputs": [],
   "source": [
    "10 == 10 or 'N' in '563210S'"
   ]
  },
  {
   "cell_type": "code",
   "execution_count": null,
   "metadata": {},
   "outputs": [],
   "source": [
    "bool_3 = not (1 == 2)\n",
    "bool_3"
   ]
  },
  {
   "cell_type": "markdown",
   "metadata": {},
   "source": [
    "**Important:** Note that while the logical operators work like they do in plain language, there are limitations to that. You need to include a *COMPLETE* boolean expression on either side of the operator. Below is an example of what NOT to do:\n",
    "\n",
    "```python\n",
    "'N' or 'S' in '0563210E'```"
   ]
  },
  {
   "cell_type": "markdown",
   "metadata": {},
   "source": [
    "While this will not give an error, it does not result in the answer we expected. These can be the most dangerous types of bugs, because we can miss them entirely. Below is the correct way to check for multiple conditions."
   ]
  },
  {
   "cell_type": "code",
   "execution_count": null,
   "metadata": {},
   "outputs": [],
   "source": [
    "'N' in '0563210E' or 'S' in '0563210E'"
   ]
  },
  {
   "cell_type": "markdown",
   "metadata": {},
   "source": [
    "**Exercise:** Combine two Boolean expressions with the `and` operator that evaluates to `True`."
   ]
  },
  {
   "cell_type": "code",
   "execution_count": null,
   "metadata": {},
   "outputs": [],
   "source": [
    "## YOUR CODE GOES HERE ##"
   ]
  },
  {
   "cell_type": "markdown",
   "metadata": {},
   "source": [
    "**Exercise:** Combine two Boolean expressions with the `and` operator that evaluates to `False`."
   ]
  },
  {
   "cell_type": "code",
   "execution_count": null,
   "metadata": {},
   "outputs": [],
   "source": [
    "## YOUR CODE GOES HERE ##"
   ]
  },
  {
   "cell_type": "markdown",
   "metadata": {},
   "source": [
    "**Exercise:** Combine two Boolean expressions with the `or` operator that evaluates to `True`."
   ]
  },
  {
   "cell_type": "code",
   "execution_count": null,
   "metadata": {},
   "outputs": [],
   "source": [
    "## YOUR CODE GOES HERE ##"
   ]
  },
  {
   "cell_type": "markdown",
   "metadata": {},
   "source": [
    "**Exercise:** Combine two Boolean expressions with the `or` operator that evaluates to `False`."
   ]
  },
  {
   "cell_type": "code",
   "execution_count": null,
   "metadata": {},
   "outputs": [],
   "source": [
    "## YOUR CODE GOES HERE ##"
   ]
  },
  {
   "cell_type": "markdown",
   "metadata": {},
   "source": [
    "**Exercise:** Use the `not` operator in order to make the last exercise's expression evaluate to `True`."
   ]
  },
  {
   "cell_type": "code",
   "execution_count": null,
   "metadata": {},
   "outputs": [],
   "source": [
    "## YOUR CODE GOES HERE ##"
   ]
  },
  {
   "cell_type": "markdown",
   "metadata": {},
   "source": [
    "<a id='IfStatements'></a>\n",
    "### 3.4.2. If Statements\n",
    "\n",
    "#### References:\n",
    "* [Python: The if statement](https://docs.python.org/3.5/reference/compound_stmts.html#if)\n",
    "* [TutorialsPoint: Python IF...ELIF...ELSE Statements](https://www.tutorialspoint.com/python/python_if_else.htm)\n",
    "\n",
    "Sometimes when we're writing code, we want to execute certain lines only under certain conditions. We hinted at this when we introduced Boolean values, saying that that's how your code responds to yes-or-no questions. Now we are going to learn how to ask yes-or-no questions in Python.\n",
    "\n",
    "<img src=\"./GRAPHICS/IfElse.png\" width=\"33%\"><br>"
   ]
  },
  {
   "cell_type": "markdown",
   "metadata": {},
   "source": [
    "**Exercise:** With your neighbor, discuss some simple decisions you make everyday, and practice putting it into an if/else statement.\n",
    "\n",
    "Thinking Questions:\n",
    "> If your computer were to make this decision for you, what data would it need?"
   ]
  },
  {
   "cell_type": "code",
   "execution_count": null,
   "metadata": {},
   "outputs": [],
   "source": [
    "## YOUR ANSWER GOES HERE -- NO CODE NECESSARY ##"
   ]
  },
  {
   "cell_type": "markdown",
   "metadata": {},
   "source": [
    "The `if` statement is used in Python to make decisions. After the `if` keyword, we must always put a Boolean expression and then a colon (`:`). If the Boolean expression after the `if` is true, Python will execute the code indented under the `if`, then skip to the end of the `if` block. If the condition is false, Python will move on to the next statement in the block."
   ]
  },
  {
   "cell_type": "code",
   "execution_count": null,
   "metadata": {},
   "outputs": [],
   "source": [
    "temperature = 60\n",
    "\n",
    "if temperature < 30:  \n",
    "    print('It is freezing! Stay inside with hot chocolate, if possible.')  \n",
    "elif temperature < 60:\n",
    "    print('Layer up and stay warm!')  \n",
    "else:\n",
    "    print('Have a great day')"
   ]
  },
  {
   "cell_type": "markdown",
   "metadata": {},
   "source": [
    "Conditional execution is useful when we want to check certain values stored in our script's memory before executing certain lines of code. Below, we check to see if our `stock_value` is greater than `20000` before we execute a line that prints `SELL!`."
   ]
  },
  {
   "cell_type": "code",
   "execution_count": null,
   "metadata": {},
   "outputs": [],
   "source": [
    "stock_value = 14000"
   ]
  },
  {
   "cell_type": "code",
   "execution_count": null,
   "metadata": {},
   "outputs": [],
   "source": [
    "if stock_value > 20000:\n",
    "    print('SELL!')\n",
    "elif stock_value < 8000:\n",
    "    print('BUY!')\n",
    "else:\n",
    "    print('HOLD!')"
   ]
  },
  {
   "cell_type": "markdown",
   "metadata": {},
   "source": [
    "**Exercise:** Change the value of `stock_value` above to get each print statement to run. Each time you change your variable's value, make sure you run the cell to save the new value to memory."
   ]
  },
  {
   "cell_type": "markdown",
   "metadata": {},
   "source": [
    "**Exercise:** In the code cell below, write your own `if` block to compare your favorite number with a classmate's favorite number. Have it print out whether your number is lower, higher, or equal to your classmate's depending on the numbers you choose. "
   ]
  },
  {
   "cell_type": "code",
   "execution_count": null,
   "metadata": {},
   "outputs": [],
   "source": [
    "## YOUR CODE GOES HERE ##"
   ]
  },
  {
   "cell_type": "markdown",
   "metadata": {},
   "source": [
    "**Exercise:** Write an `if` block to check whether someone is old enough to vote and print a decision message."
   ]
  },
  {
   "cell_type": "code",
   "execution_count": null,
   "metadata": {},
   "outputs": [],
   "source": [
    "## YOUR CODE GOES HERE ##"
   ]
  },
  {
   "cell_type": "markdown",
   "metadata": {},
   "source": [
    "**Exercise:** In plain english, write what this `if` block is doing in each line."
   ]
  },
  {
   "cell_type": "code",
   "execution_count": null,
   "metadata": {},
   "outputs": [],
   "source": [
    "my_age = 9\n",
    "\n",
    "if my_age <= 10 and my_age >= 0:\n",
    "    print ('Ticket price is free for children 10 and under')\n",
    "    \n",
    "elif my_age < 65:\n",
    "    print ('Ticket price is $15')\n",
    "\n",
    "else:\n",
    "    if my_age > 125 or my_age < 0:\n",
    "        print('Are you sure you input the correct age?')\n",
    "    else:\n",
    "        print ('Ticket price is $10')"
   ]
  },
  {
   "cell_type": "code",
   "execution_count": null,
   "metadata": {},
   "outputs": [],
   "source": [
    "## YOUR ANSWER GOES HERE -- NO CODE NECESSARY ##"
   ]
  },
  {
   "cell_type": "markdown",
   "metadata": {},
   "source": [
    "**Exercise:** Edit your `if` block for voter age to account for an invalid age. If they have given an invalid age, print a statement informing them of this. <br>\n",
    "\n",
    "HINT: As an example of an invalid age, someone's age cannot be negative or greater than 125. Additionally, age has to be a number."
   ]
  },
  {
   "cell_type": "code",
   "execution_count": null,
   "metadata": {},
   "outputs": [],
   "source": [
    "## YOUR CODE GOES HERE ##"
   ]
  },
  {
   "cell_type": "markdown",
   "metadata": {},
   "source": [
    "**Exercise:** Write an `if` block using the variables `weather` and `day` that provides guidance for the day's activities based on the weather and day of week.\n",
    "\n",
    "|Example Inputs|Expected Outputs|\n",
    "|:---:|:---:|\n",
    "|`weather = 'cold'`<br>`day = 'weekday'`|`'get an umbrella'`|\n",
    "|`weather = 'cold'`<br>`day = 'weekend'`|`'stay cozy and read'`|\n",
    "|`weather = 'warm'`<br>`day = 'weekend'`|`'go explore!'`|\n",
    "\n",
    "For any other inputs, your code should output `'get off work early'`."
   ]
  },
  {
   "cell_type": "code",
   "execution_count": null,
   "metadata": {},
   "outputs": [],
   "source": [
    "## YOUR CODE GOES HERE ##"
   ]
  },
  {
   "cell_type": "markdown",
   "metadata": {},
   "source": [
    "<hr>\n",
    "\n",
    "<a id=\"Guided-Exercise\"></a>\n",
    "## 3.5. Guided Exercise: Code a Basic Calculator\n",
    "\n",
    "\n",
    "Our task is to write a script that will perform basic subtraction and addition. The inputs we get are strings of numbers and operator characters. Assume that all inputs will include two positive numbers (ints or floats) separated by either a plus (`+`) or minus (`-`) sign. Our script should output the answer to any valid input string, and the data type of the final output should be a float.\n",
    "\n",
    "|Example Inputs|Expected Outputs|\n",
    "|:---:|:---:|\n",
    "|`'4+9'`|`13.0`|\n",
    "|`'8-20.5'`|`-12.5`|\n",
    "|`'100+67'`|`167.0`|\n",
    "\n",
    "**Pseudocode:**\n",
    "1. Determine whether the operation is plus or minus\n",
    "2. Extract the two numbers (`.split()` on the operator character)\n",
    "3. Perform the calculation and output the result"
   ]
  },
  {
   "cell_type": "code",
   "execution_count": null,
   "metadata": {},
   "outputs": [],
   "source": [
    "input_string = '8-20.5'"
   ]
  },
  {
   "cell_type": "markdown",
   "metadata": {},
   "source": [
    "First, let's examine our inputs. We need to be able to handle both plus and minus operations, but we don't know in advance which one of those two the input will be. This is a classic case for an `if` statement. The code below simply checks for the presence of either sign and prints a helpful message. "
   ]
  },
  {
   "cell_type": "code",
   "execution_count": null,
   "metadata": {},
   "outputs": [],
   "source": [
    "if '+' in input_string:\n",
    "    print('this is addition')\n",
    "elif '-' in input_string:\n",
    "    print('this is subtraction')"
   ]
  },
  {
   "cell_type": "markdown",
   "metadata": {},
   "source": [
    "Now that we know which operation we're performing and we've tested our `if` block, let's begin adding the code to calculate the numbers. The first step is to break up the input string into its constituent parts. To do this, we use the string method `.split()`."
   ]
  },
  {
   "cell_type": "code",
   "execution_count": null,
   "metadata": {},
   "outputs": [],
   "source": [
    "if '+' in input_string:\n",
    "    numbers = input_string.split('+')\n",
    "elif '-' in input_string:\n",
    "    numbers = input_string.split('-')\n",
    "    \n",
    "numbers"
   ]
  },
  {
   "cell_type": "markdown",
   "metadata": {},
   "source": [
    "The `.split()` method gives us a list of strings. We'll cover this more in-depth in Lesson 3, but you can use indexes to pull items out of a list in the same way you would with strings. Let's put each item in this list into its own variable."
   ]
  },
  {
   "cell_type": "code",
   "execution_count": null,
   "metadata": {},
   "outputs": [],
   "source": [
    "num_1 = numbers[0]\n",
    "num_2 = numbers[1] \n",
    "\n",
    "num_1, num_2"
   ]
  },
  {
   "cell_type": "markdown",
   "metadata": {},
   "source": [
    "Remember that adding strings just concatenates them. That's not the behavior we want, so we'll have to cast each number to a float before we do any math with them."
   ]
  },
  {
   "cell_type": "code",
   "execution_count": null,
   "metadata": {},
   "outputs": [],
   "source": [
    "num_1 = float(num_1)\n",
    "num_2 = float(num_2)\n",
    "\n",
    "num_1, num_2"
   ]
  },
  {
   "cell_type": "markdown",
   "metadata": {},
   "source": [
    "Now that we have two floats, we can perform the arithmetic operation. But be careful, we need to check again which operation we're supposed to be performing."
   ]
  },
  {
   "cell_type": "code",
   "execution_count": null,
   "metadata": {},
   "outputs": [],
   "source": [
    "if '+' in input_string:\n",
    "    answer = num_1 + num_2\n",
    "elif '-' in input_string:\n",
    "    answer = num_1 - num_2\n",
    "    \n",
    "answer"
   ]
  },
  {
   "cell_type": "markdown",
   "metadata": {},
   "source": [
    "Below, are all the steps from above combined into one cell. You can change the input and rerun the cell to see the output change."
   ]
  },
  {
   "cell_type": "code",
   "execution_count": null,
   "metadata": {},
   "outputs": [],
   "source": [
    "input_string = '8-20.5'\n",
    "\n",
    "## Check addition or subtraction\n",
    "if '+' in input_string:\n",
    "    components = input_string.split('+')\n",
    "elif '-' in input_string:\n",
    "    components = input_string.split('-')\n",
    "    \n",
    "## Get and cast numbers\n",
    "num_1 = components[0]\n",
    "num_2 = components[1]\n",
    "\n",
    "num_1 = float(num_1)\n",
    "num_2 = float(num_2)\n",
    "\n",
    "## Perform operation\n",
    "if '+' in input_string:\n",
    "    answer = num_1 + num_2\n",
    "elif '-' in input_string:\n",
    "    answer = num_1 - num_2\n",
    "    \n",
    "answer"
   ]
  },
  {
   "cell_type": "markdown",
   "metadata": {},
   "source": [
    "<hr>\n",
    "\n",
    "<a id='Practical-Exercises'></a>\n",
    "## 3.6. Practical Exercises"
   ]
  },
  {
   "cell_type": "markdown",
   "metadata": {},
   "source": [
    "<hr> \n",
    "\n",
    "<a id='PE1'></a>\n",
    "### 3.6.1. Practical Exercise 1: Practice Boolean Expressions\n",
    "<b>References:</b>\n",
    "* [Python: Boolean Values](https://docs.python.org/3.4/library/stdtypes.html#boolean-values)\n",
    "* [Python: Truth Value Testing](https://docs.python.org/3.4/library/stdtypes.html#truth)\n",
    "* [TutorialsPoint: Python - Basic Operators](https://www.tutorialspoint.com/python/python_basic_operators.htm)"
   ]
  },
  {
   "cell_type": "markdown",
   "metadata": {},
   "source": [
    "**Problem 1:**\n",
    "Type out what each boolean operator does. "
   ]
  },
  {
   "cell_type": "code",
   "execution_count": null,
   "metadata": {},
   "outputs": [],
   "source": [
    ">=        # definition\n",
    "<=        # definition\n",
    ">         # definition\n",
    "<         # definition\n",
    "==        # definition\n",
    "!=        # definition\n",
    "in        # definition\n",
    "not in    # definition\n",
    "and       # definition\n",
    "or        # definition"
   ]
  },
  {
   "cell_type": "markdown",
   "metadata": {},
   "source": [
    "**Problem 2:**\n",
    "Create two different boolean expressions that evaluate to True using different comparison operators."
   ]
  },
  {
   "cell_type": "code",
   "execution_count": null,
   "metadata": {},
   "outputs": [],
   "source": [
    "### YOUR CODE GOES HERE ### "
   ]
  },
  {
   "cell_type": "markdown",
   "metadata": {},
   "source": [
    "**Problem 3:** Create a different boolean expression that evaluates to True using a membership operator."
   ]
  },
  {
   "cell_type": "code",
   "execution_count": null,
   "metadata": {},
   "outputs": [],
   "source": [
    "### YOUR CODE GOES HERE ### "
   ]
  },
  {
   "cell_type": "markdown",
   "metadata": {},
   "source": [
    "**Problem 4:** Create a different boolean expression that evaluates to False using a membership operator."
   ]
  },
  {
   "cell_type": "code",
   "execution_count": null,
   "metadata": {},
   "outputs": [],
   "source": [
    "### YOUR CODE GOES HERE ### "
   ]
  },
  {
   "cell_type": "markdown",
   "metadata": {},
   "source": [
    "**Problem 5:** Create two unique boolean expressions using logical operators and any other operators."
   ]
  },
  {
   "cell_type": "code",
   "execution_count": null,
   "metadata": {},
   "outputs": [],
   "source": [
    "### YOUR CODE GOES HERE ### "
   ]
  },
  {
   "cell_type": "markdown",
   "metadata": {},
   "source": [
    "<hr>\n",
    "<a id='PE2'></a>\n",
    "\n",
    "### 3.6.2. Practical Exercise 2: Practice If Statements\n",
    "\n",
    "<b>References:</b>\n",
    "* [Python: if Statements](https://docs.python.org/3.4/tutorial/controlflow.html#if-statements)"
   ]
  },
  {
   "cell_type": "markdown",
   "metadata": {},
   "source": [
    "**Problem 1:** When do you use `if` statements? "
   ]
  },
  {
   "cell_type": "code",
   "execution_count": null,
   "metadata": {},
   "outputs": [],
   "source": [
    "## YOUR ANSWER GOES HERE -- NO CODE NECESSARY ## "
   ]
  },
  {
   "cell_type": "markdown",
   "metadata": {},
   "source": [
    "**Problem 2:** What does the `elif` keyword allow you to do and how many times can you use it?"
   ]
  },
  {
   "cell_type": "code",
   "execution_count": null,
   "metadata": {},
   "outputs": [],
   "source": [
    "## YOUR ANSWER GOES HERE -- NO CODE NECESSARY ## "
   ]
  },
  {
   "cell_type": "markdown",
   "metadata": {},
   "source": [
    "**Problem 3:** Do you need to use an `else` statement when you build an `if` block? If you use an `else`, can you use a boolean statement with it? Why or why not?"
   ]
  },
  {
   "cell_type": "code",
   "execution_count": null,
   "metadata": {},
   "outputs": [],
   "source": [
    "## YOUR ANSWER GOES HERE -- NO CODE NECESSARY ## "
   ]
  },
  {
   "cell_type": "markdown",
   "metadata": {},
   "source": [
    "**Problem 4:** Build an `if` block that checks your checking account balance. If the balance is under `500`, print an alert message. If it is over `5000`, print a recommendation to invest some funds or move some funds to savings."
   ]
  },
  {
   "cell_type": "code",
   "execution_count": null,
   "metadata": {},
   "outputs": [],
   "source": [
    "## YOUR CODE GOES HERE ##"
   ]
  },
  {
   "cell_type": "markdown",
   "metadata": {},
   "source": [
    "<hr>\n",
    "\n",
    "<a id='PE3'></a>\n",
    "### 3.6.3. Practical Exercise 3: Guess the Output\n",
    "\n",
    "<b>References:</b>\n",
    "* [Python: if Statements](https://docs.python.org/3.4/tutorial/controlflow.html#if-statements)\n",
    "\n",
    "\n",
    "Without running the code below, what is the final value of `number`?\n",
    "```python\n",
    "number = 10\n",
    "\n",
    "if number == '10':\n",
    "    number = number + 9\n",
    "elif number > 1 and type(number) == float:\n",
    "    number += 5\n",
    "elif number % 2 == 0:\n",
    "    number = number ** 2\n",
    "else:\n",
    "    number *= 2.5\n",
    "    \n",
    "print(number)\n",
    "```"
   ]
  },
  {
   "cell_type": "code",
   "execution_count": null,
   "metadata": {},
   "outputs": [],
   "source": [
    "## YOUR CODE GOES HERE ##"
   ]
  },
  {
   "cell_type": "markdown",
   "metadata": {},
   "source": [
    "**Follow-Up Questions:**\n",
    "\n",
    "1. How does each of the Boolean expressions in the if block evaluate (`True` or `False`)?\n",
    "2. What is the data type of the answer?"
   ]
  },
  {
   "cell_type": "markdown",
   "metadata": {},
   "source": [
    "<hr>\n",
    "\n",
    "<a id='PE4'></a>\n",
    "### 3.6.4. Practical Exercise 4: Odd or Even? \n",
    "\n",
    "#### References:\n",
    "* [Python: Boolean Values](https://docs.python.org/3.4/library/stdtypes.html#boolean-values)\n",
    "* [Python: Truth Value Testing](https://docs.python.org/3.4/library/stdtypes.html#truth)\n",
    "* [Python: if Statements](https://docs.python.org/3.4/tutorial/controlflow.html#if-statements)\n",
    "* [TutorialsPoint: Python - Basic Operators](https://www.tutorialspoint.com/python/python_basic_operators.htm)\n",
    "\n",
    "Write a Python script that will take an integer and print whether it is even or odd.\n",
    "\n",
    "| Example Input | Expected Output |\n",
    "|:-------:|:-----------------:|\n",
    "| `2` | `Even` |\n",
    "| `86` | `Even` |\n",
    "| `107` | `Odd` |\n",
    "| `9` | `Odd` |"
   ]
  },
  {
   "cell_type": "code",
   "execution_count": null,
   "metadata": {},
   "outputs": [],
   "source": [
    "## YOUR CODE GOES HERE ##"
   ]
  },
  {
   "cell_type": "markdown",
   "metadata": {},
   "source": [
    "<hr> \n",
    "\n",
    "<a id='PE5'></a>\n",
    "### 3.6.5. Practical Exercise: Valid Question?\n",
    "Write a Python script that will take a string and check if it is a valid question.\n",
    "\n",
    "**HINT:** A valid question will end with a question mark.\n",
    "\n",
    "| Example Input | Expected Output |\n",
    "|:-------:|:-----------------:|\n",
    "| `This is a sentence.` | `False` |\n",
    "| `This is an exclamation!` | `False` |\n",
    "| `Is this a question?` | `True` |"
   ]
  },
  {
   "cell_type": "code",
   "execution_count": null,
   "metadata": {},
   "outputs": [],
   "source": [
    "## YOUR CODE GOES HERE ##"
   ]
  },
  {
   "cell_type": "markdown",
   "metadata": {},
   "source": [
    "<hr>\n",
    "\n",
    "<a id='PE6'></a>\n",
    "### 3.6.6. [Challenge] Practical Exercise 6: Digit in Number\n",
    "\n",
    "Write a script that, given a number (int or float) and a digit (int), will output `True` if the number contains the digit and `False` otherwise.\n",
    "\n",
    "| Example Input | Expected Output |\n",
    "|:-------|:-----------------:|\n",
    "| `number = 2345.6`<br>`digit = 4` | `True` |\n",
    "| `number = 10000`<br>`digit = 3` | `False` |\n",
    "| `number = 3.14159`<br>`digit = 8` | `False` |\n",
    "| `number = 3.14159`<br>`digit = 9` | `True` |"
   ]
  },
  {
   "cell_type": "code",
   "execution_count": null,
   "metadata": {},
   "outputs": [],
   "source": [
    "## YOUR CODE GOES HERE ##"
   ]
  },
  {
   "cell_type": "markdown",
   "metadata": {},
   "source": [
    "<hr>\n",
    "\n",
    "<a id='PE7'></a>\n",
    "### 3.6.7. [Challenge] Practical Exercise 7: Century from Year\n",
    "\n",
    "Write a script that, given a year (int), outputs the century as defined in the table below.\n",
    "\n",
    "| Year Range | Century |\n",
    "|:-------:|:-----------------:|\n",
    "| `1-100` | `1` |\n",
    "| `101-200` | `2` |\n",
    "| `...` | `...` |\n",
    "| `1901-2000` | `20` |\n",
    "| `2001-2100` | `21` |"
   ]
  },
  {
   "cell_type": "code",
   "execution_count": null,
   "metadata": {},
   "outputs": [],
   "source": [
    "## YOUR CODE GOES HERE ##"
   ]
  },
  {
   "cell_type": "markdown",
   "metadata": {},
   "source": [
    "<hr>\n",
    "\n",
    "<a id='PE8'></a>\n",
    "### 3.6.8. [Challenge] Practical Exercise 8: Date Formatting\n",
    "\n",
    "**Problem 1:** Write a script that, given a month (str) and a date (int), will output a string that combines both date and month like so: `the 22 of June`.\n",
    "\n",
    "| Example Input | Expected Output |\n",
    "|:-------|:-----------------:|\n",
    "| `month = 'June'`<br>`date = 22` | `the 22 of June` |\n",
    "| `month = 'October'`<br>`date = 5` | `the 5 of October` |\n",
    "| `month = 'March'`<br>`date = 18` | `the 18 of March` |"
   ]
  },
  {
   "cell_type": "code",
   "execution_count": null,
   "metadata": {},
   "outputs": [],
   "source": [
    "## YOUR CODE GOES HERE ##"
   ]
  },
  {
   "cell_type": "markdown",
   "metadata": {},
   "source": [
    "**Problem 2:** Extend your script so that the output string contains the appropriate suffix for the date (`'st'`, `'nd'`, `'rd'`, `'th'`).\n",
    "\n",
    "| Example Input | Expected Output |\n",
    "|:-------|:-----------------:|\n",
    "| `month = 'June'`<br>`date = 22` | `the 22nd of June` |\n",
    "| `month = 'October'`<br>`date = 5` | `the 5th of October` |\n",
    "| `month = 'March'`<br>`date = 1` | `the 1st of March` |\n",
    "| `month = 'August'`<br>`date = 3`| `the 3rd of August` |"
   ]
  },
  {
   "cell_type": "code",
   "execution_count": null,
   "metadata": {},
   "outputs": [],
   "source": [
    "## YOUR CODE GOES HERE ##"
   ]
  },
  {
   "cell_type": "markdown",
   "metadata": {},
   "source": [
    "**Problem 3:** Extend your script to output a helpful error message if the date is not between 1 and 31 (inclusive).\n",
    "\n",
    "**Bonus:** Check for valid date values based on the month (e.g. February dates can only be between 1 and 29).\n",
    "\n",
    "| Example Input | Expected Output |\n",
    "|:-------|:-----------------:|\n",
    "| `month = 'June'`<br>`date = 32` | `Invalid date: the date must be between 1 and 31` |\n",
    "| `month = 'October'`<br>`date = -8` | `Invalid date: the date must be between 1 and 31` |\n",
    "| `month = 'March'`<br>`date = 1` | `the 1st of March` |\n",
    "| `month = 'August'`<br>`date = 3` | `the 3rd of August` |"
   ]
  },
  {
   "cell_type": "code",
   "execution_count": null,
   "metadata": {},
   "outputs": [],
   "source": [
    "## YOUR CODE GOES HERE ##"
   ]
  },
  {
   "cell_type": "markdown",
   "metadata": {},
   "source": [
    "<a id='PE9'></a>\n",
    "### 3.6.9. [Challenge] Practical Exercise 9: Valid Emails?\n",
    "Given an email address, check that it is valid. For the purposes of this exercise, an email address is valid if it has one `@` character and ends with either `.com`, `.edu`, `.gov`,`.eu`, `.uk`, or `.in`. HINT: You have already been given a list of all the valid endings. Remember, that you can conduct membership testing against lists. HINT: Try using `.split('.')` on the email address. You can access elements of a list by their index just like you access characters in strings.\n",
    "\n",
    "| Example Input | Expected Output |\n",
    "|:-------|:-----------------:|\n",
    "| `email = 'president@whitehouse.gov'` | `Valid Email!` |\n",
    "| `email = 'jeff@amazon.slk'` | `Invalid email` |\n",
    "| `email = 'mark$facebook.com'` | `Invalid email` |"
   ]
  },
  {
   "cell_type": "code",
   "execution_count": null,
   "metadata": {},
   "outputs": [],
   "source": [
    "valid = ['com','edu','gov','eu','uk','in']"
   ]
  },
  {
   "cell_type": "code",
   "execution_count": null,
   "metadata": {},
   "outputs": [],
   "source": [
    "## YOUR CODE GOES HERE ##"
   ]
  },
  {
   "cell_type": "markdown",
   "metadata": {},
   "source": [
    "<hr>\n",
    "\n",
    "<a id='appendix'></a>\n",
    "## 3.7. Appendix"
   ]
  },
  {
   "cell_type": "markdown",
   "metadata": {},
   "source": [
    "\n",
    "<br><center>**Boolean Operators**</center>\n",
    "\n",
    "| Operator  | Operation                |\n",
    "| :-------: | :----------------------- |\n",
    "| `==`        | equal to                 |\n",
    "| `!=`        | not equal to             |\n",
    "| `>`         | greater than             |\n",
    "| `>=`        | greater than or equal to |\n",
    "| `<`         | less than                |\n",
    "| `<=`        | less than or equal to    |\n",
    "| `in`       | Checks if the left side of expression contained in the right side of expression |\n",
    "| `not in`   | Checks if the left side of expression is not contained in the right side of expression |\n",
    "| `and`    | Checks if two statements are _both_ True |\n",
    "| `or`    | Checks if _either_ of two statements are True |\n",
    "| `not` | Negates the value of a boolean statement |\n",
    "\n",
    "\n",
    "<br><center>**Assignment Operators**</center>\n",
    "\n",
    "| Operator  | Operation                            |\n",
    "| :-------: | :----------------------------------- |\n",
    "| `+=`        | adds right operand to the left operand, then assigns the result to left operand |\n",
    "| `-=`        | subtracts right operand from the left operand, then assigns the result to left operand |\n",
    "| `*=`        | multiply right operand by the left operand, then assigns the result to left operand |"
   ]
  },
  {
   "cell_type": "markdown",
   "metadata": {},
   "source": [
    "<hr> <b><center>UNCLASSIFIED</center></b>"
   ]
  }
 ],
 "metadata": {
  "kernelspec": {
   "display_name": "Python 3",
   "language": "python",
   "name": "python3"
  },
  "language_info": {
   "codemirror_mode": {
    "name": "ipython",
    "version": 3
   },
   "file_extension": ".py",
   "mimetype": "text/x-python",
   "name": "python",
   "nbconvert_exporter": "python",
   "pygments_lexer": "ipython3",
   "version": "3.6.6"
  }
 },
 "nbformat": 4,
 "nbformat_minor": 2
}
