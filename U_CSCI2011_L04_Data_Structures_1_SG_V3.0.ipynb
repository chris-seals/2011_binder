{
 "cells": [
  {
   "cell_type": "markdown",
   "metadata": {},
   "source": [
    "<b><center>UNCLASSIFIED</center></b>"
   ]
  },
  {
   "cell_type": "markdown",
   "metadata": {},
   "source": [
    "<img src=\"./GRAPHICS/Banner.png\" width=\"110%\">"
   ]
  },
  {
   "cell_type": "markdown",
   "metadata": {},
   "source": [
    "# Lesson 4: Ordered Data Structures"
   ]
  },
  {
   "cell_type": "markdown",
   "metadata": {},
   "source": [
    "## Table of Contents\n",
    "\n",
    "4.1. [Objectives](#Objectives)<br>\n",
    "4.2. [Overview](#Overview)<br>\n",
    "4.3. [Review](#Review)<br>\n",
    "&nbsp;&nbsp;&nbsp;&nbsp;4.3.1. [Boolean Expressions](#bool)<br>\n",
    "&nbsp;&nbsp;&nbsp;&nbsp;4.3.2. [If Statements](#if)<br>\n",
    "&nbsp;&nbsp;&nbsp;&nbsp;4.3.3. [String Manipulations](#strings)<br>\n",
    "&nbsp;&nbsp;&nbsp;&nbsp;4.3.4. [Numbers and Casting](#Numbers)<br>\n",
    "4.4. [Lesson: Ordered Data Structures](#Lesson)<br>\n",
    "&nbsp;&nbsp;&nbsp;&nbsp;4.4.1. [Sequences](#ordered-collections)<br>\n",
    "&nbsp;&nbsp;&nbsp;&nbsp;4.4.2. [Lists](#lists)<br>\n",
    "&nbsp;&nbsp;&nbsp;&nbsp;4.4.3. [Tuples](#tuples)<br>\n",
    "&nbsp;&nbsp;&nbsp;&nbsp;4.4.4. [Indexing and Slicing](#index-slice)<br>\n",
    "&nbsp;&nbsp;&nbsp;&nbsp;4.4.5. [Common Operations Across Data Structures](#common-ops)<br>\n",
    "4.5. [Guided Exercise: Employee Hours](#Guided-Exercise)<br>\n",
    "4.6. [Practical Exercises](#Practical-Exercises)<br>\n",
    "&nbsp;&nbsp;&nbsp;&nbsp;4.6.1. [Practical Exercise 1: Sequence Questions](#PE1)<br>\n",
    "&nbsp;&nbsp;&nbsp;&nbsp;4.6.2. [Practical Exercise 2: Practice Lists](#PE2)<br>\n",
    "&nbsp;&nbsp;&nbsp;&nbsp;4.6.3. [Practical Exercise 3: Practice Tuples](#PE3)<br>\n",
    "&nbsp;&nbsp;&nbsp;&nbsp;4.6.4. [Practical Exercise 4: Negative List Index](#PE4)<br>\n",
    "&nbsp;&nbsp;&nbsp;&nbsp;4.6.5. [Practical Exercise 5: Dates and Tuples](#PE5)<br>\n",
    "4.7. [Appendix](#appendix)<br>"
   ]
  },
  {
   "cell_type": "markdown",
   "metadata": {},
   "source": [
    "<hr>\n",
    "\n",
    "<a id=\"Objectives\"></a>\n",
    "## 4.1. Objectives\n",
    "\n",
    "* Examine the implications of using computation to solve a problem\n",
    "    * Discuss best practices for using computation to solve a problem\n",
    "    * Suggest types of problems that can be solved through computation\n",
    "    * Show how computation can solve a problem\n",
    "<br><br>    \n",
    "* Recognize key computer science concepts\n",
    "    * Identify data types used in Python scripting\n",
    "    * Identify data structures used in Python scripting\n",
    "    * Define variables and strings\n",
    "    * Recognize how queries operate\n",
    "<br><br>    \n",
    "* Demonstrate the ability to build basic scripts using Python scripting language\n",
    "    * Use various data types and structures in Python scripting\n",
    "    * Collect data using Python scripting\n",
    "    * Extract data using Python scripting\n",
    "    * Develop advanced data structures using Python scripting"
   ]
  },
  {
   "cell_type": "markdown",
   "metadata": {},
   "source": [
    "<hr>\n",
    "\n",
    "<a id=\"Overview\"></a>\n",
    "## 4.2. Overview\n",
    "The following material is divided into the following parts:\n",
    "* Lesson\n",
    "* Guided Exercise\n",
    "* Practical Exercises"
   ]
  },
  {
   "cell_type": "markdown",
   "metadata": {},
   "source": [
    "<hr>\n",
    "\n",
    "<a id='Review'></a>\n",
    "## 4.3. Review"
   ]
  },
  {
   "cell_type": "markdown",
   "metadata": {},
   "source": [
    "<hr>\n",
    "\n",
    "<a id = 'bool'></a>\n",
    "### 4.3.1. Boolean Expressions\n",
    "\n",
    "**Exercise:** Write one boolean expression that evaluates to `True` and one that evaluates to `False`. Try to use a combination of comparison, membership, and logical operators."
   ]
  },
  {
   "cell_type": "code",
   "execution_count": null,
   "metadata": {},
   "outputs": [],
   "source": [
    "## YOUR CODE GOES HERE ##"
   ]
  },
  {
   "cell_type": "markdown",
   "metadata": {},
   "source": [
    "<hr>\n",
    "<a id = 'if'></a>\n",
    "\n",
    "### 4.3.2. If Statements \n",
    "\n",
    "**Exercise:** What will the value of `my_val` be after the code below is run?"
   ]
  },
  {
   "cell_type": "code",
   "execution_count": null,
   "metadata": {},
   "outputs": [],
   "source": [
    "my_val = 'test string'\n",
    "\n",
    "if None == 0:\n",
    "    my_val = 'zero'\n",
    "\n",
    "elif my_val[0] == 'T':\n",
    "    my_val = 'one'\n",
    "    \n",
    "elif my_val[-1] == 'e':\n",
    "    my_val = 'two'\n",
    "    \n",
    "elif my_val.lower() == my_val:\n",
    "    \n",
    "    if ' ' in my_val:\n",
    "        my_val = my_val.upper()\n",
    "        \n",
    "    else:\n",
    "        my_val = my_val * 2\n",
    "\n",
    "else: \n",
    "    my_val = 'three' "
   ]
  },
  {
   "cell_type": "code",
   "execution_count": null,
   "metadata": {},
   "outputs": [],
   "source": [
    "## YOUR ANSWER GOES HERE -- NO CODE NECESSARY ##"
   ]
  },
  {
   "cell_type": "markdown",
   "metadata": {},
   "source": [
    "**Exercise:** Use an `if` block to build a password checker. In the first cell below, create a username and password and store them in two variables. In the second cell below, create two more variables to hold your username and password \"attempts\", and build an `if` block to test if it is the correct login. If the guess is correct, inform the user they have \"unlocked\" the account. If not, inform the user whether it is the username or the password that is incorrect."
   ]
  },
  {
   "cell_type": "code",
   "execution_count": null,
   "metadata": {},
   "outputs": [],
   "source": [
    "## YOUR CODE GOES HERE ##"
   ]
  },
  {
   "cell_type": "code",
   "execution_count": null,
   "metadata": {},
   "outputs": [],
   "source": [
    "## YOUR CODE GOES HERE ##"
   ]
  },
  {
   "cell_type": "markdown",
   "metadata": {},
   "source": [
    "<hr><a id ='strings'></a>\n",
    "\n",
    "### 4.3.3. String Manipulations\n",
    "\n",
    "**Exercise:** Take the string below and complete the following tasks:\n",
    "1. Make it all lowercase. HINT: `.lower()`\n",
    "3. Remove all the `$` characters. HINT: `.replace()`\n",
    "4. Separate the string into two sentences. HINT: `.split()`\n",
    "5. Get the word count of each sentence. HINT: `.split()` and `len()`"
   ]
  },
  {
   "cell_type": "code",
   "execution_count": null,
   "metadata": {},
   "outputs": [],
   "source": [
    "practice_string = \"\"\"Hi, I'm a $stude$nt in CSCI201$1. $I lov$e $python.\"\"\""
   ]
  },
  {
   "cell_type": "code",
   "execution_count": null,
   "metadata": {},
   "outputs": [],
   "source": [
    "## YOUR CODE GOES HERE ##"
   ]
  },
  {
   "cell_type": "markdown",
   "metadata": {},
   "source": [
    "<hr><a id=\"Numbers\"></a>\n",
    "\n",
    "### 4.3.4. Numbers and Casting\n",
    "**Exercise:** Take the following two strings, convert them into number data types, and then use floor division."
   ]
  },
  {
   "cell_type": "code",
   "execution_count": null,
   "metadata": {},
   "outputs": [],
   "source": [
    "first = '23.5214'\n",
    "second = '2'"
   ]
  },
  {
   "cell_type": "code",
   "execution_count": null,
   "metadata": {},
   "outputs": [],
   "source": [
    "## YOUR CODE GOES HERE ##"
   ]
  },
  {
   "cell_type": "markdown",
   "metadata": {},
   "source": [
    "<hr>\n",
    "\n",
    "<a id='Lesson'></a>\n",
    "## 4.4. Lesson: Ordered Data Structures\n",
    "\n",
    "<hr>\n",
    "\n",
    "<a id='ordered-collections'></a>\n",
    "### 4.4.1. Sequences\n",
    "\n",
    "#### References:\n",
    "* [Python: Data Structures](https://docs.python.org/3.4/tutorial/datastructures.html#data-structures)\n",
    "\n",
    "A sequence in Python is an ordered grouping of elements.  Each element in a sequence is assigned an index, which is a number that marks its place in the sequence. The first item in a Python sequence has index `[0]`, the second has index `[1]`, and so on. Note that Python supports negative indexing too, with the last element in the sequence having the index `[-1]`. That means each element in a sequence can be accessed with two indexes, a positive one and a negative one.\n",
    "\n",
    "<img src=\"./GRAPHICS/arrayIndex.png\" width=\"40%\">"
   ]
  },
  {
   "cell_type": "markdown",
   "metadata": {},
   "source": [
    "<hr> \n",
    "\n",
    "<a id='lists'></a>\n",
    "### 4.4.2. Lists\n",
    "\n",
    "#### References:\n",
    "* [Python: More on Lists](https://docs.python.org/3.4/tutorial/datastructures.html#more-on-lists)\n",
    "* [Effbot: An Introduction to Python Lists](http://www.effbot.org/zone/python-list.htm)\n",
    "\n",
    "Lists are containers that hold objects in a given order. Lists are _mutable_, meaning they allow you to add, remove, or overwrite individual elements inside them. In Python, lists are always wrapped in square brackets: `[]`."
   ]
  },
  {
   "cell_type": "markdown",
   "metadata": {},
   "source": [
    "#### 4.4.2.1. Creating Lists\n",
    "To initialize or create an empty list, we can use the built-in `list()` function. Or we can simply use a set of empty square brackets."
   ]
  },
  {
   "cell_type": "code",
   "execution_count": null,
   "metadata": {},
   "outputs": [],
   "source": [
    "empty_list_1 = list()\n",
    "empty_list_1 "
   ]
  },
  {
   "cell_type": "code",
   "execution_count": null,
   "metadata": {},
   "outputs": [],
   "source": [
    "empty_list_2 = []\n",
    "empty_list_2"
   ]
  },
  {
   "cell_type": "markdown",
   "metadata": {},
   "source": [
    "You can also create a list with elements in it. Just wrap the items, separated by commas, in a set of brackets. Lists can contain elements of any data type."
   ]
  },
  {
   "cell_type": "code",
   "execution_count": null,
   "metadata": {},
   "outputs": [],
   "source": [
    "numbers_list = [0, 1, 2, 3, 4, 5, 6, 7, 8, 9]\n",
    "numbers_list"
   ]
  },
  {
   "cell_type": "code",
   "execution_count": null,
   "metadata": {},
   "outputs": [],
   "source": [
    "str_list = ['Talk', 'is', 'cheap.',       \n",
    "            'Show', 'me', 'the', 'code.',\n",
    "            ' - Linus Torvalds']\n",
    "str_list"
   ]
  },
  {
   "cell_type": "markdown",
   "metadata": {},
   "source": [
    "Lists can also contain other collections, such as lists. Lists stored inside other lists are often called _nested_ lists."
   ]
  },
  {
   "cell_type": "code",
   "execution_count": null,
   "metadata": {},
   "outputs": [],
   "source": [
    "list_of_lists = ['a', 'b', 'c', ['d', 'e', 'f']]\n",
    "list_of_lists"
   ]
  },
  {
   "cell_type": "markdown",
   "metadata": {},
   "source": [
    "**Exercise:** Create a list and store it in a variable."
   ]
  },
  {
   "cell_type": "code",
   "execution_count": null,
   "metadata": {},
   "outputs": [],
   "source": [
    "## YOUR CODE GOES HERE ##"
   ]
  },
  {
   "cell_type": "markdown",
   "metadata": {},
   "source": [
    "#### 4.4.2.2. List Methods and Operations\n",
    "\n",
    "There are a number of methods (i.e. functions) that can be applied to lists. Let's initialize a list of agencies in the Intelligence Community to explore some of these methods."
   ]
  },
  {
   "cell_type": "code",
   "execution_count": null,
   "metadata": {},
   "outputs": [],
   "source": [
    "ic_agencies = ['CIA', 'DIA', 'NSA', 'NRO', '25AF', 'MI', 'MCIA', 'ONI', \n",
    "               'OICI', 'I&A', 'CGI', 'FBI', 'ONSI', 'INR', 'TFI']\n",
    "ic_agencies"
   ]
  },
  {
   "cell_type": "markdown",
   "metadata": {},
   "source": [
    "Writing a set of brackets containing an integer after a list or list variable will access an element from the list. The integer inside the brackets refers to the index location of the item to access. This is sometimes referred to as _bracket notation_. You can also use an equals sign (`=`) to overwrite the element at that location with a new value.\n",
    "\n",
    "| Syntax                 | Description                               |\n",
    "|:----------------------:|-------------------------------------------|\n",
    "| `list_variable[n]` |Accesses the item at index `[n]` |\n",
    "| `list_variable[n] = x` |Sets the item at index `[n]` to  `x` |"
   ]
  },
  {
   "cell_type": "code",
   "execution_count": null,
   "metadata": {},
   "outputs": [],
   "source": [
    "ic_agencies[4]"
   ]
  },
  {
   "cell_type": "code",
   "execution_count": null,
   "metadata": {},
   "outputs": [],
   "source": [
    "ic_agencies[4] = 'AF-25'\n",
    "ic_agencies"
   ]
  },
  {
   "cell_type": "markdown",
   "metadata": {},
   "source": [
    "The `.append()` method adds an item to the end of a list. The `.extend()` method is similar to `.append()`, but instead of adding a single element to a list, it adds multiple items, one by one. Because `.extend()` expects to add multiple items, you must pass it a sequence (such as a list) as an argument. The `.insert()` method also adds an item to a list, but it adds it in a position we specify. The new item will be placed at the index we put in the first argument, moving all later elements in the list to make room.\n",
    "\n",
    "| Syntax               | Description                               |\n",
    "|:----------------------:|-------------------------------------------|\n",
    "|`list_variable.append(x)` | Adds `x` to the end of the list |\n",
    "|`list_variable.extend(my_list)`    | Appends each item in `my_list` to the list. |\n",
    "|`list_variable.insert(i, x)`        | Inserts `x` at index `i` in the list |"
   ]
  },
  {
   "cell_type": "code",
   "execution_count": null,
   "metadata": {},
   "outputs": [],
   "source": [
    "ic_agencies.append('DI')\n",
    "ic_agencies"
   ]
  },
  {
   "cell_type": "code",
   "execution_count": null,
   "metadata": {
    "scrolled": true
   },
   "outputs": [],
   "source": [
    "ic_agencies.extend(['MI5','MI6'])\n",
    "ic_agencies"
   ]
  },
  {
   "cell_type": "code",
   "execution_count": null,
   "metadata": {},
   "outputs": [],
   "source": [
    "ic_agencies.insert(0, 'NGA')\n",
    "ic_agencies"
   ]
  },
  {
   "cell_type": "markdown",
   "metadata": {},
   "source": [
    "While the `.append()` method and `.extend()` method are very similar, they are also very different. Look at the examples below and note how the two work differently."
   ]
  },
  {
   "cell_type": "code",
   "execution_count": null,
   "metadata": {},
   "outputs": [],
   "source": [
    "ic_agencies.append(['IB','PET'])\n",
    "ic_agencies"
   ]
  },
  {
   "cell_type": "code",
   "execution_count": null,
   "metadata": {},
   "outputs": [],
   "source": [
    "ic_agencies.extend('CSIS')\n",
    "ic_agencies"
   ]
  },
  {
   "cell_type": "markdown",
   "metadata": {},
   "source": [
    "As we see here, `.append()` will always add the argument to the list as a single item, even if your argument is a list of things. On the other hand, `.extend()` will always treat the argument as a sequence of things and try to add each individual item to the list."
   ]
  },
  {
   "cell_type": "markdown",
   "metadata": {},
   "source": [
    "The `.remove()` method searches a list for a value specified and removes the first instance of that value from the collection. The `.pop()` method also removes an item from the list. But instead of specifying a value, we have to give it an index location. Furthermore, `.pop()` removes the item but also _returns_ it, meaning that it is made available to be, for instance, stored in a variable.\n",
    "\n",
    "| Syntax               | Description                               |\n",
    "|:----------------------:|-------------------------------------------|\n",
    "|`list_variable.remove(x)`          | Removes the first appearance of `x` in the list |\n",
    "|`list_variable.pop(i)` | Removes the item at index `i` in the list and returns that item |"
   ]
  },
  {
   "cell_type": "markdown",
   "metadata": {},
   "source": [
    "Let's clean up the mistake we made above when using the `.extend()` method with a single item ('CSIS'). We'll have to remove each letter one by one."
   ]
  },
  {
   "cell_type": "code",
   "execution_count": null,
   "metadata": {},
   "outputs": [],
   "source": [
    "ic_agencies.remove('C')\n",
    "ic_agencies.remove('S')\n",
    "ic_agencies.remove('I')\n",
    "ic_agencies"
   ]
  },
  {
   "cell_type": "markdown",
   "metadata": {},
   "source": [
    "Notice that we still need to remove the second 'S'. Why? We already asked it to remove 'S'. What is causing this behavior?"
   ]
  },
  {
   "cell_type": "code",
   "execution_count": null,
   "metadata": {},
   "outputs": [],
   "source": [
    "ic_agencies.remove('S')\n",
    "ic_agencies"
   ]
  },
  {
   "cell_type": "code",
   "execution_count": null,
   "metadata": {},
   "outputs": [],
   "source": [
    "item = ic_agencies.pop(-1)\n",
    "item"
   ]
  },
  {
   "cell_type": "code",
   "execution_count": null,
   "metadata": {},
   "outputs": [],
   "source": [
    "ic_agencies"
   ]
  },
  {
   "cell_type": "markdown",
   "metadata": {},
   "source": [
    "The `.index()` method searches a list for a given value, and returns the index position of the first instance of the value. If the value is not in the list, this method throws an error. The `.count()` method counts the number of times a value appears in a list.\n",
    "\n",
    "| Syntax               | Description                               |\n",
    "|:----------------------:|-------------------------------------------|\n",
    "|`list_variable.index(x)` | Returns the index where `x` first appears in the list; <br>Throws an error if `x` is not contained in the list |\n",
    "|`list_variable.count(x)`| Counts the number of times `x` appears in the list |"
   ]
  },
  {
   "cell_type": "code",
   "execution_count": null,
   "metadata": {},
   "outputs": [],
   "source": [
    "ic_agencies.index('FBI')"
   ]
  },
  {
   "cell_type": "code",
   "execution_count": null,
   "metadata": {},
   "outputs": [],
   "source": [
    "ic_agencies.count('ONI')"
   ]
  },
  {
   "cell_type": "markdown",
   "metadata": {},
   "source": [
    "The `.sort()` method sorts a list. By default, it sorts the list in ascending order (least to greatest), however, to sort in descending order pass it the optional `reverse=True` argument.\n",
    "\n",
    "| Syntax               | Description                               |\n",
    "|:----------------------:|-------------------------------------------|\n",
    "|`list_variable.sort(reverse=False)`    | Sorts the list |"
   ]
  },
  {
   "cell_type": "code",
   "execution_count": null,
   "metadata": {},
   "outputs": [],
   "source": [
    "ic_agencies.sort()\n",
    "ic_agencies"
   ]
  },
  {
   "cell_type": "code",
   "execution_count": null,
   "metadata": {},
   "outputs": [],
   "source": [
    "ic_agencies.sort(reverse=True)\n",
    "ic_agencies"
   ]
  },
  {
   "cell_type": "markdown",
   "metadata": {},
   "source": [
    "**Exercise:** Use list methods on the list `ic_agencies` to remove `'CGI'` and add `'ATF'` to the end of the list."
   ]
  },
  {
   "cell_type": "code",
   "execution_count": null,
   "metadata": {},
   "outputs": [],
   "source": [
    "## YOUR CODE GOES HERE ##"
   ]
  },
  {
   "cell_type": "markdown",
   "metadata": {},
   "source": [
    "**Exercise:** Create a list of fruits containing the following fruits: apple, banana."
   ]
  },
  {
   "cell_type": "code",
   "execution_count": null,
   "metadata": {},
   "outputs": [],
   "source": [
    "## YOUR CODE GOES HERE ##"
   ]
  },
  {
   "cell_type": "markdown",
   "metadata": {},
   "source": [
    "**Exercise:** Extend the fruits list by the second list of fruits."
   ]
  },
  {
   "cell_type": "code",
   "execution_count": null,
   "metadata": {},
   "outputs": [],
   "source": [
    "fruits2 = ['kiwi', 'mango']"
   ]
  },
  {
   "cell_type": "code",
   "execution_count": null,
   "metadata": {},
   "outputs": [],
   "source": [
    "## YOUR CODE GOES HERE ##"
   ]
  },
  {
   "cell_type": "markdown",
   "metadata": {},
   "source": [
    "**Exercise:** Append another type of fruit to the list."
   ]
  },
  {
   "cell_type": "code",
   "execution_count": null,
   "metadata": {},
   "outputs": [],
   "source": [
    "## YOUR SOLUTION GOES HERE ##"
   ]
  },
  {
   "cell_type": "markdown",
   "metadata": {},
   "source": [
    "**Exercise:** Sort the fruits list reverse-alphabetically."
   ]
  },
  {
   "cell_type": "code",
   "execution_count": null,
   "metadata": {},
   "outputs": [],
   "source": [
    "## YOUR CODE GOES HERE ##"
   ]
  },
  {
   "cell_type": "markdown",
   "metadata": {},
   "source": [
    "<hr>\n",
    "\n",
    "<a id='tuples'></a>\n",
    "### 4.4.3. Tuples\n",
    "\n",
    "#### References:\n",
    "* [Python: Tuples and Sequences](https://docs.python.org/3.4/tutorial/datastructures.html#tuples-and-sequences)\n",
    "* [TutorialsPoint: Python - Tuples](https://www.tutorialspoint.com/python/python_tuples.htm)\n",
    "\n",
    "Tuples are immutable sequences. Like all sequences, items in a tuple are accessible by a numeric index. Like all immutable objects, tuples will not allow you to add, subtract, or edit items without overwriting the entire structure. This makes tuples nice for storing data that you don't want to be edited piecemeal, such as coordinate pairs or days of the week. If there’s something you don’t want to change, making that fact explicit by not allowing it to change is best practice. Tuples are always wrapped in parentheses: `()`.\n",
    "\n",
    "#### 4.4.3.1. Creating Tuples\n",
    "\n",
    "We can create tuples by wrapping two or more pieces of data of any type in a set of parentheses, separated by commas. Here, we create a tuple containing days of the week."
   ]
  },
  {
   "cell_type": "code",
   "execution_count": null,
   "metadata": {},
   "outputs": [],
   "source": [
    "multi_element_tuple = ('Monday', 'Tuesday', 'Wednesday', 'Thursday', 'Friday') \n",
    "multi_element_tuple"
   ]
  },
  {
   "cell_type": "markdown",
   "metadata": {},
   "source": [
    "Notice what happens if we try to modify one of the elements of a tuple. Python throws an error because tuples are immutable."
   ]
  },
  {
   "cell_type": "code",
   "execution_count": null,
   "metadata": {},
   "outputs": [],
   "source": [
    "multi_element_tuple[0] = 'Lunes'"
   ]
  },
  {
   "cell_type": "markdown",
   "metadata": {},
   "source": [
    "**Exercise:** Create a tuple and store it in a variable."
   ]
  },
  {
   "cell_type": "code",
   "execution_count": null,
   "metadata": {},
   "outputs": [],
   "source": [
    "## YOUR CODE GOES HERE ##"
   ]
  },
  {
   "cell_type": "markdown",
   "metadata": {},
   "source": [
    "**Exercise:** Create a tuple of information about Ron Swanson from Parks and Rec with his first and last name, age, job title, marital status, and email, and store it in a variable.\n",
    "- remember to use different data types\n",
    "\n",
    "| Name | Age | Position | Married? | email |\n",
    "|:---------------:|:---:|:--------:|:----:|:----------------:|\n",
    "| Ron Swanson | 45 | Parks Director | Yes | ron.swanson@parks.gov |"
   ]
  },
  {
   "cell_type": "code",
   "execution_count": null,
   "metadata": {},
   "outputs": [],
   "source": [
    "## YOUR CODE GOES HERE ##"
   ]
  },
  {
   "cell_type": "markdown",
   "metadata": {},
   "source": [
    "**Exercise:** Create another tuple for Ron Swanson's coworker, Leslie Knope, and store it in a variable. Then, add these two tuples into a list.\n",
    "\n",
    "| Name | Age | Position | Married? | email |\n",
    "|:---------------:|:---:|:--------:|:----:|:----------------:|\n",
    "| Leslie Knope | 35 | Deputy Director | Yes | leslie.knope@parks.gov |"
   ]
  },
  {
   "cell_type": "code",
   "execution_count": null,
   "metadata": {},
   "outputs": [],
   "source": [
    "## YOUR CODE GOES HERE ##"
   ]
  },
  {
   "cell_type": "markdown",
   "metadata": {},
   "source": [
    "#### 4.4.3.2. Mutable vs. Immutable\n",
    "\n",
    "Before we move on, it is important to discuss mutability. Not all Python objects handle changes the same way.\n",
    "\n",
    "* A _mutable_ object can be altered without overwriting the entire structure\n",
    "* An _immutable_ object cannot be altered without overwriting the entire structure\n",
    "\n",
    "You can make changes to individual pieces of of mutable objects, such as lists. In contrast, the only way to change immutable objects is to overwrite the entire structure. The code below shows how you would change the second item in a list (mutable) versus a tuple (immutable). You can overwrite the individual item in the list, but you need to overwrite the entire tuple to change a single item.\n",
    "\n",
    "<br><center><b>Mutability of Common Types</b></center>\n",
    "\n",
    "| Immutable   | Mutable      |\n",
    "| :-----------:| :------------:|\n",
    "| int         | list         |\n",
    "| float       | dictionary   |\n",
    "| bool        | set          |\n",
    "| string      |              |\n",
    "| tuple       |              |"
   ]
  },
  {
   "cell_type": "code",
   "execution_count": null,
   "metadata": {},
   "outputs": [],
   "source": [
    "my_tuple = (11, 15, 2018)\n",
    "my_tuple = (11, 30, 2018)\n",
    "\n",
    "my_tuple"
   ]
  },
  {
   "cell_type": "code",
   "execution_count": null,
   "metadata": {},
   "outputs": [],
   "source": [
    "my_list = [11, 15, 2018]\n",
    "my_list[1] = 30\n",
    "\n",
    "my_list"
   ]
  },
  {
   "cell_type": "markdown",
   "metadata": {},
   "source": [
    "<hr>\n",
    "\n",
    "<a id='index-slice'></a>\n",
    "### 4.4.4. Indexing and Slicing\n",
    "\n",
    "<img src=\"./GRAPHICS/ArrayIndex.png\" width=\"40%\">\n",
    "\n",
    "#### 4.4.4.1. Indexing\n",
    "\n",
    "Recall that we can use numeric indexes to access individual items and subsets of strings. We can do the same with lists and tuples. You can access elements of any sequence by location using _bracket notation_. Remember in Python we start counting from zero.\n",
    "\n",
    "| Syntax               | Description                               |\n",
    "|:----------------------:|-----------------------------------|\n",
    "|`sequence[i]`   | Returns the element at index `i` |"
   ]
  },
  {
   "cell_type": "code",
   "execution_count": null,
   "metadata": {},
   "outputs": [],
   "source": [
    "sample_list = [11, 14, 6, 2, 7, 5, 1, 12, 15, 10]\n",
    "sample_tuple = (11, 14, 6, 2, 7, 5, 1, 12, 15, 10)"
   ]
  },
  {
   "cell_type": "code",
   "execution_count": null,
   "metadata": {},
   "outputs": [],
   "source": [
    "sample_list[0]"
   ]
  },
  {
   "cell_type": "code",
   "execution_count": null,
   "metadata": {},
   "outputs": [],
   "source": [
    "sample_tuple[1]"
   ]
  },
  {
   "cell_type": "code",
   "execution_count": null,
   "metadata": {},
   "outputs": [],
   "source": [
    "sample_tuple[-1]"
   ]
  },
  {
   "cell_type": "markdown",
   "metadata": {},
   "source": [
    "**Exercise:** Access the 5th item in `sample_tuple` using bracket notation."
   ]
  },
  {
   "cell_type": "code",
   "execution_count": null,
   "metadata": {},
   "outputs": [],
   "source": [
    "## YOUR CODE GOES HERE ##"
   ]
  },
  {
   "cell_type": "markdown",
   "metadata": {},
   "source": [
    "#### 4.4.4.2. Slicing\n",
    "\n",
    "Slicing is similar to indexing except you are accessing multiple elements instead of a single element. A slice can be of any size from zero elements up to the length of the entire collection, and we create one by specifying a start and stop index.\n",
    "\n",
    "| Syntax               | Description                               |\n",
    "|:----------------------:|-------------------------------------------|\n",
    "|`sequence[start:stop]`| Returns the elements from `start` up to but not including `stop`|"
   ]
  },
  {
   "cell_type": "markdown",
   "metadata": {},
   "source": [
    "If we leave either index out of a slice, Python will interpret that as a slice including all elements before or after a certain spot. The two examples below illustrate this."
   ]
  },
  {
   "cell_type": "code",
   "execution_count": null,
   "metadata": {},
   "outputs": [],
   "source": [
    "sample_list[:5]"
   ]
  },
  {
   "cell_type": "code",
   "execution_count": null,
   "metadata": {},
   "outputs": [],
   "source": [
    "sample_tuple[5:] "
   ]
  },
  {
   "cell_type": "markdown",
   "metadata": {},
   "source": [
    "**Exercise:** Print the last 3 items in `sample_list` using slicing."
   ]
  },
  {
   "cell_type": "code",
   "execution_count": null,
   "metadata": {},
   "outputs": [],
   "source": [
    "## YOUR CODE GOES HERE ##"
   ]
  },
  {
   "cell_type": "markdown",
   "metadata": {},
   "source": [
    "<hr>\n",
    "\n",
    "<a id='common-ops'></a>\n",
    "### 4.4.5. Common Operations Across Data Structures\n",
    "\n",
    "There are certain operations you can do on any collection of data we cover in this course. For example, Python has built-in functions for finding the number of elements in a collection and for finding its largest and smallest elements. <br>\n",
    "\n",
    "The `max()` function will take any collection and return the maximum (largest) value it contains. If your collection has mixed types (e.g. integers and strings), this function will throw an error.<br>\n",
    "The `min()` function will take any collection and return the minimum (smallest) value it contains. If your collection has mixed types (e.g. integers and strings), this function will also throw an error.<br>\n",
    "The `sum()` function finds the sum of the elements of a collection. All the members of the collection must be numeric.<br>\n",
    "The `len()` function finds the number of items in a collection.<br> The `sorted()` function is like the `.sort()` list method, but it works with any data structure. It takes the collection, sorts the elements, and gives you back a new list.\n",
    "\n",
    "| Syntax               | Description                               |\n",
    "|:----------------------:|-------------------------------------------|\n",
    "|`max(collection)`    | Returns the maximum value contained in the collection |\n",
    "|`min(collection)`    | Returns the minimum value contained in the collection |\n",
    "|`sum(collection)`    | Returns the sum of the collection's elements (only works if all items are numeric) |\n",
    "|`len(collection)`    | Returns the length of the collection as an integer |\n",
    "|`sorted(collection)` | Returns a sorted copy of the collection |"
   ]
  },
  {
   "cell_type": "code",
   "execution_count": null,
   "metadata": {},
   "outputs": [],
   "source": [
    "my_tuple = (168, 162, 182, 180, 163, 192, 167, 199, 194, 187, 187, 178)\n",
    "\n",
    "max(my_tuple)"
   ]
  },
  {
   "cell_type": "code",
   "execution_count": null,
   "metadata": {},
   "outputs": [],
   "source": [
    "min(my_tuple)"
   ]
  },
  {
   "cell_type": "code",
   "execution_count": null,
   "metadata": {},
   "outputs": [],
   "source": [
    "my_list = [45, 42, 57, 55, 46, 60, 50, 44, 40, 43, 52, 54]\n",
    "\n",
    "sum(my_list)"
   ]
  },
  {
   "cell_type": "code",
   "execution_count": null,
   "metadata": {},
   "outputs": [],
   "source": [
    "sorted(my_list)"
   ]
  },
  {
   "cell_type": "code",
   "execution_count": null,
   "metadata": {},
   "outputs": [],
   "source": [
    "my_string = '38.876096, -77.072946'\n",
    "\n",
    "len(my_string)"
   ]
  },
  {
   "cell_type": "markdown",
   "metadata": {},
   "source": [
    "**Exercise:** Find the length of `my_list`. Then, find the sum of all the elements in `my_tuple`."
   ]
  },
  {
   "cell_type": "code",
   "execution_count": null,
   "metadata": {},
   "outputs": [],
   "source": [
    "## YOUR CODE GOES HERE ##"
   ]
  },
  {
   "cell_type": "markdown",
   "metadata": {},
   "source": [
    "<hr>\n",
    "\n",
    "<a id='Guided-Exercise'></a>\n",
    "## 4.5. Guided Exercise: Employee Hours\n"
   ]
  },
  {
   "cell_type": "markdown",
   "metadata": {},
   "source": [
    "You manage a team of employees, and store vital business data in Python data structures. For example, you have a list of employees and how many hours they have worked so far this year. That list is below."
   ]
  },
  {
   "cell_type": "code",
   "execution_count": null,
   "metadata": {},
   "outputs": [],
   "source": [
    "hours = [('Akua', 1717), ('Rasel', 1540), ('James', 1654), ('Oralie', 1759), ('Emilia', 1802)]"
   ]
  },
  {
   "cell_type": "markdown",
   "metadata": {},
   "source": [
    "**Problem 1:** You want to sum up the total number of hours your team has worked this year. This means you need to access the hour numbers. Access the hours for the first employee in the list."
   ]
  },
  {
   "cell_type": "code",
   "execution_count": null,
   "metadata": {},
   "outputs": [],
   "source": [
    "hours[0][1]"
   ]
  },
  {
   "cell_type": "markdown",
   "metadata": {},
   "source": [
    "**Problem 2:** Create an empty list to hold on to all the hours numbers. Then, add the number of hours for each employee to the list."
   ]
  },
  {
   "cell_type": "code",
   "execution_count": null,
   "metadata": {},
   "outputs": [],
   "source": [
    "hrs = []\n",
    "\n",
    "hrs.append(hours[0][1])\n",
    "hrs.append(hours[1][1])\n",
    "hrs.append(hours[2][1])\n",
    "hrs.append(hours[3][1])\n",
    "hrs.append(hours[4][1])\n",
    "\n",
    "hrs"
   ]
  },
  {
   "cell_type": "markdown",
   "metadata": {},
   "source": [
    "**Problem 3:** Use the `sum()` function to find the total number of hours your team worked."
   ]
  },
  {
   "cell_type": "code",
   "execution_count": null,
   "metadata": {},
   "outputs": [],
   "source": [
    "sum(hrs)"
   ]
  },
  {
   "cell_type": "markdown",
   "metadata": {},
   "source": [
    "**Problem 4:** Use the `len()` function to count how many employees are on your team, and use that number and the total number of hours you found in problem 4 to calculate the average number of hours worked per employee."
   ]
  },
  {
   "cell_type": "code",
   "execution_count": null,
   "metadata": {},
   "outputs": [],
   "source": [
    "sum(hrs) / len(hrs)"
   ]
  },
  {
   "cell_type": "markdown",
   "metadata": {},
   "source": [
    "**Problem 5:** The company is going through some employee turnover. Rasel and Emilia have quit and need to be debriefed. Create a new list to hold the names of employees who need debriefing, then remove them from the current employee list and add them to the debriefing list."
   ]
  },
  {
   "cell_type": "code",
   "execution_count": null,
   "metadata": {},
   "outputs": [],
   "source": [
    "debrief = []\n",
    "\n",
    "emp1 = hours.pop(1)\n",
    "debrief.append(emp1[0])\n",
    "\n",
    "emp2 = hours.pop(-1)\n",
    "debrief.append(emp2[0])\n",
    "\n",
    "debrief"
   ]
  },
  {
   "cell_type": "markdown",
   "metadata": {},
   "source": [
    "<hr>\n",
    "\n",
    "<a id='Practical-Exercises'></a>\n",
    "## 4.6. Practical Exercises \n",
    "<hr>\n",
    "\n",
    "<a id='PE1'></a>\n",
    "### 4.6.1. Practical Exercise 1: Sequence Questions\n",
    "\n",
    "**Problem 1:** List the types of sequences"
   ]
  },
  {
   "cell_type": "code",
   "execution_count": null,
   "metadata": {},
   "outputs": [],
   "source": [
    "## YOUR ANSWER GOES HERE -- NO CODE NECESSARY ##"
   ]
  },
  {
   "cell_type": "markdown",
   "metadata": {},
   "source": [
    "**Problem 2:** What is an index? What is a negative index? When would you use indexes?"
   ]
  },
  {
   "cell_type": "code",
   "execution_count": null,
   "metadata": {},
   "outputs": [],
   "source": [
    "## YOUR ANSWER GOES HERE -- NO CODE NECESSARY ##"
   ]
  },
  {
   "cell_type": "code",
   "execution_count": null,
   "metadata": {},
   "outputs": [],
   "source": [
    "## INSTRUCTION SOLUTION(S) ##\n",
    "## - index is a number telling the position where an element of a sequence is \n",
    "## - negative index is the number position as well but starting count from the end of the sequence\n",
    "## - use them in order to get a certain element of a sequence or in slicing"
   ]
  },
  {
   "cell_type": "markdown",
   "metadata": {},
   "source": [
    "**Problem 3:** The code cell below contains an example of slicing. In your own words, what is slicing?"
   ]
  },
  {
   "cell_type": "code",
   "execution_count": null,
   "metadata": {},
   "outputs": [],
   "source": [
    "sample_list = [7975, 1177, 5255, 1455, 4475, 9296, 1345, 3370, 9372, 8403]\n",
    "\n",
    "sample_list[2:5]"
   ]
  },
  {
   "cell_type": "code",
   "execution_count": null,
   "metadata": {},
   "outputs": [],
   "source": [
    "## YOUR ANSWER GOES HERE -- NO CODE NECESSARY ##"
   ]
  },
  {
   "cell_type": "markdown",
   "metadata": {},
   "source": [
    "**Problem 4:** What are the actions you can do with lists?"
   ]
  },
  {
   "cell_type": "code",
   "execution_count": null,
   "metadata": {},
   "outputs": [],
   "source": [
    "## YOUR ANSWER GOES HERE -- NO CODE NECESSARY ##"
   ]
  },
  {
   "cell_type": "markdown",
   "metadata": {},
   "source": [
    "**Problem 5:** In your own words, what is the difference between the `.append()` and `.extend()` methods?"
   ]
  },
  {
   "cell_type": "code",
   "execution_count": null,
   "metadata": {},
   "outputs": [],
   "source": [
    "## YOUR ANSWER GOES HERE -- NO CODE NECESSARY ##"
   ]
  },
  {
   "cell_type": "markdown",
   "metadata": {},
   "source": [
    "**Problem 6:** In your own words, what is the difference between immutable and mutable?"
   ]
  },
  {
   "cell_type": "code",
   "execution_count": null,
   "metadata": {},
   "outputs": [],
   "source": [
    "## YOUR ANSWER GOES HERE -- NO CODE NECESSARY ##"
   ]
  },
  {
   "cell_type": "markdown",
   "metadata": {},
   "source": [
    "**Problem 7:** What data types can lists and tuples hold? "
   ]
  },
  {
   "cell_type": "code",
   "execution_count": null,
   "metadata": {},
   "outputs": [],
   "source": [
    "## YOUR ANSWER GOES HERE -- NO CODE NECESSARY ##"
   ]
  },
  {
   "cell_type": "markdown",
   "metadata": {},
   "source": [
    "<hr>\n",
    "\n",
    "<a id='PE2'></a>\n",
    "### 4.6.2. Practical Exercise 2: Practice Lists\n",
    "\n",
    "**Problem 1:** Create two lists of strings and save them to variables."
   ]
  },
  {
   "cell_type": "code",
   "execution_count": null,
   "metadata": {},
   "outputs": [],
   "source": [
    "## YOUR CODE GOES HERE ##"
   ]
  },
  {
   "cell_type": "markdown",
   "metadata": {},
   "source": [
    "**Problem 2:** Use list methods to combine the lists of strings from above into one big list of strings. "
   ]
  },
  {
   "cell_type": "code",
   "execution_count": null,
   "metadata": {},
   "outputs": [],
   "source": [
    "## YOUR CODE GOES HERE ##"
   ]
  },
  {
   "cell_type": "markdown",
   "metadata": {},
   "source": [
    "**Problem 3:** How many elements are in the combined list you created above?"
   ]
  },
  {
   "cell_type": "code",
   "execution_count": null,
   "metadata": {},
   "outputs": [],
   "source": [
    "## YOUR CODE GOES HERE ##"
   ]
  },
  {
   "cell_type": "markdown",
   "metadata": {},
   "source": [
    "**Problem 4:** Retrieve one item from the list using its index location. "
   ]
  },
  {
   "cell_type": "code",
   "execution_count": null,
   "metadata": {},
   "outputs": [],
   "source": [
    "## YOUR CODE GOES HERE ##"
   ]
  },
  {
   "cell_type": "markdown",
   "metadata": {},
   "source": [
    "**Problem 5:** Change one item in the list using its index location and assignment."
   ]
  },
  {
   "cell_type": "code",
   "execution_count": null,
   "metadata": {},
   "outputs": [],
   "source": [
    "## YOUR CODE GOES HERE ##"
   ]
  },
  {
   "cell_type": "markdown",
   "metadata": {},
   "source": [
    "**Problem 6:** Now that we have a list of strings, combine that into one string with spaces in between each word.<br>\n",
    "\n",
    "HINT: Refer to Lesson 2 String Methods "
   ]
  },
  {
   "cell_type": "code",
   "execution_count": null,
   "metadata": {},
   "outputs": [],
   "source": [
    "## YOUR CODE GOES HERE ##"
   ]
  },
  {
   "cell_type": "markdown",
   "metadata": {},
   "source": [
    "<hr> \n",
    "\n",
    "<a id='PE3'></a>\n",
    "### 4.6.3. Practical Exercise 3: Practice Tuples\n"
   ]
  },
  {
   "cell_type": "markdown",
   "metadata": {},
   "source": [
    "**Problem 1:** It's common to store coordinates in tuples because they are made up of two elements: a latitude and a longitude. How many coordinates are in the list below? Don't count them: use `len()` to find the answer."
   ]
  },
  {
   "cell_type": "code",
   "execution_count": null,
   "metadata": {},
   "outputs": [],
   "source": [
    "coords = [(37.08, 73.03), (37.04, 73.08), (37.02, 73.06), (37.06, 73.05), \n",
    "          (37.07, 73.08), (37.04, 73.03), (37.02, 73.03), (37.06, 73.05), \n",
    "          (37.02, 73.02), (37.08, 73.02), (37.06, 73.09), (37.02, 73.05)]"
   ]
  },
  {
   "cell_type": "code",
   "execution_count": null,
   "metadata": {},
   "outputs": [],
   "source": [
    "## YOUR CODE GOES HERE ##"
   ]
  },
  {
   "cell_type": "markdown",
   "metadata": {},
   "source": [
    "**Problem 2:** Create your own coordinate and store it in a tuple. Then, add your new coordinate to the list of coordinates above."
   ]
  },
  {
   "cell_type": "code",
   "execution_count": null,
   "metadata": {},
   "outputs": [],
   "source": [
    "## YOUR CODE GOES HERE ##"
   ]
  },
  {
   "cell_type": "markdown",
   "metadata": {},
   "source": [
    "**Problem 3:** Dates are also made up of multiple elements (year, month, day). Thus, tuples are good data structures to store date information. Below is a tuple that holds a date. Create your own tuple to store a different date, storing the year as the first element, the month as the second, and the day as the third."
   ]
  },
  {
   "cell_type": "code",
   "execution_count": null,
   "metadata": {},
   "outputs": [],
   "source": [
    "date1 = (2019, 6, 15)"
   ]
  },
  {
   "cell_type": "code",
   "execution_count": null,
   "metadata": {},
   "outputs": [],
   "source": [
    "## YOUR CODE GOES HERE ##"
   ]
  },
  {
   "cell_type": "markdown",
   "metadata": {},
   "source": [
    "**Problem 4:** Try to change an element of your tuple using the same approach you used to change an element in your list in Practical Exercise 2. What issues do you run into?"
   ]
  },
  {
   "cell_type": "code",
   "execution_count": null,
   "metadata": {},
   "outputs": [],
   "source": [
    "## YOUR CODE GOES HERE ##"
   ]
  },
  {
   "cell_type": "markdown",
   "metadata": {
    "collapsed": true
   },
   "source": [
    "<hr>\n",
    "\n",
    "\n",
    "<a id='PE4'></a>\n",
    "### 4.6.4. Practical Exercise 4: Negative List Index\n",
    "\n",
    "Write a script that takes a list and an index (int) as inputs and outputs the corresponding negative index.<br>\n",
    "\n",
    "HINT: The negative index will depend on the list's length.\n",
    "\n",
    "**Bonus:** Before you find the negative index, first check if the input index is valid. If not, print a helpful error message.\n",
    "\n",
    "| Example Input | Expected Output |\n",
    "|:-------|:-----------------:|\n",
    "| `my_list = ['a','b','c','d','e','f']`<br>`i = 2` | `-4` |\n",
    "| `my_list = ['a','b','c','d','e','f','g','h']`<br>`i = 7` | `-1` |\n",
    "| `my_list = ['a','b','c','d','e','f','g','h','i','j']`<br>`i = 0` | `-10` |\n",
    "| `my_list = ['a','b','c','d']`<br>`i = 6` | `'Invalid index'` |"
   ]
  },
  {
   "cell_type": "code",
   "execution_count": null,
   "metadata": {},
   "outputs": [],
   "source": [
    "## YOUR CODE GOES HERE ##"
   ]
  },
  {
   "cell_type": "markdown",
   "metadata": {},
   "source": [
    "<hr>\n",
    "\n",
    "<a id = 'PE5'></a>\n",
    "### 4.6.5. Practical Exercise 5: Dates and Tuples\n",
    "**Problem 1:** Write some code to determine whether two tuples that hold date information come from the same year. Assume the year is the first element in the tuple.\n",
    "\n",
    "|Example Input|Expected Output|\n",
    "|:-----|:-----:|\n",
    "|`date1 = (2019, 6, 15)`<br>`date2 = (2018, 1, 1)`| `False` |\n",
    "|`date1 = (2019, 6, 15)`<br>`date2 = (2019, 1, 1)`| `True` |\n",
    "|`date1 = (1965, 7, 27)`<br>`date2 = (1965, 7, 3)`| `True` |"
   ]
  },
  {
   "cell_type": "code",
   "execution_count": null,
   "metadata": {},
   "outputs": [],
   "source": [
    "## YOUR CODE GOES HERE ##"
   ]
  },
  {
   "cell_type": "markdown",
   "metadata": {},
   "source": [
    "**Problem 2:** Extend the code you wrote above to print the number of months between the two dates if the dates come from the same year (simply find the difference between the two month numbers). If the dates are from different years, print a message saying that.\n",
    "\n",
    "|Example Input|Expected Output|\n",
    "|:-----|:-----:|\n",
    "|`date1 = (2019, 6, 15)`<br>`date2 = (2018, 1, 1)`| `different years` |\n",
    "|`date1 = (2019, 6, 15)`<br>`date2 = (2019, 1, 1)`| `5` |\n",
    "|`date1 = (1965, 7, 27)`<br>`date2 = (1965, 7, 3)`| `0` |"
   ]
  },
  {
   "cell_type": "code",
   "execution_count": null,
   "metadata": {},
   "outputs": [],
   "source": [
    "## YOUR CODE GOES HERE ##"
   ]
  },
  {
   "cell_type": "markdown",
   "metadata": {},
   "source": [
    "<hr>\n",
    "\n",
    "<a id='appendix'></a>\n",
    "## 4.7. Appendix"
   ]
  },
  {
   "cell_type": "markdown",
   "metadata": {},
   "source": [
    "<br><center> **List Methods and Operations** </center>\n",
    "\n",
    "| Syntax                 | Description                               | Example                               |\n",
    "|:----------------------:|-------------------------------------------|-------------------------------------------|\n",
    "| `list_variable[n]` |Accesses the item at index `[n]` | <p align = 'left'> >> strings_list = ['hey','class'] <br> >> strings_list[1] <br> 'class' </p>   |\n",
    "| `list_variable[n] = x` |Sets the item at index `[n]` to  `x` | <p align = 'left'> >> strings_list[1] = 'hi' <br> >> strings_list <br> ['hi', 'class'] </p>\n",
    "|`list_variable.append(x)` | Adds `x` to the end of the list |<p align = 'left'>     >> strings_list.append('python') <br> >> strings_list <br> ['hi','class', 'python']        </p>\n",
    "|`list_variable.extend(my_list)`    | Appends each item in `my_list` to a list. |<p align = 'left'> >> strings_list.extend(['is','is','fun']) <br> >> strings_list <br> ['hi', 'class', 'python', 'is', 'is', 'fun'] </p> \n",
    "|`list_variable.insert(i, x)`        | Inserts `x` at index `i` in the list |<p align = 'left'> >> string_list.insert(2, '!') <br> >> strings_list <br> ['hi', 'class', '!', 'python', 'is', 'is', 'fun']</p> \n",
    "|`list_variable.remove(x)`          | Removes the first appearance of `x` in the list |<p align = 'left'> >> strings_list.remove('class') <br> >> strings_list <br> ['hi', '!', 'python', 'is', 'is', 'fun'] </p> \n",
    "|`list_variable.pop(i)` | Removes the item at index `i` in the list and returns that item |<p align = 'left'> >> strings_list.pop(1) <br> '!' <br> >> strings_list <br> ['hi', 'python', 'is', 'is', 'fun']</p> \n",
    "|`list_variable.index(x)` | Returns the index where `x` first appears in the list <br>Throws an error if `x` is not contained in the list |<p align = 'left'> >> strings_list.index('fun') <br> 4 </p> \n",
    "|`list_variable.count(x)`| Counts the number of times `x` appears in the list |<p align = 'left'> >> strings_list.count('is') <br> 2 </p> \n",
    "|`list_variable.sort(reverse=False)`    | Sorts the list |<p align = 'left'> >> strings_list.sort(reverse=False) <br> >> strings_list <br> ['fun', 'hi', 'is', 'is', 'python'] </p> \n",
    "\n",
    "<br><center><b>Mutability of Common Types</b></center>\n",
    "\n",
    "| Immutable   | Mutable      |\n",
    "| :-----------:| :------------:|\n",
    "| int         | list         |\n",
    "| float       | dictionary   |\n",
    "| bool        | set          |\n",
    "| string      |              |\n",
    "| tuple       |              |\n",
    "\n",
    "<br><center>**Indexing and Slicing Any Sequence**</center>\n",
    "\n",
    "| Syntax               | Description                               |\n",
    "|:----------------------:|-----------------------------------|\n",
    "|`sequence[i]`   | Returns the element at index `i` |\n",
    "|`sequence[start:stop]`| Returns the elements from `start` up to but not including `stop`|\n",
    "\n",
    "<br><center>**Functions for Any Data Structure**</center>\n",
    "\n",
    "| Syntax               | Description                               |\n",
    "|:----------------------:|-------------------------------------------|\n",
    "|`max(collection)`    | Returns the maximum value contained in the collection |\n",
    "|`min(collection)`    | Returns the minimum value contained in the collection |\n",
    "|`sum(collection)`    | Returns the sum of the collection's elements (only works if all items are numeric) |\n",
    "|`len(collection)`    | Returns the length of the collection as an integer |\n",
    "|`sorted(collection)` | Returns a sorted copy of the collection |"
   ]
  },
  {
   "cell_type": "markdown",
   "metadata": {},
   "source": [
    "<hr> <b><center>UNCLASSIFIED</center></b>"
   ]
  }
 ],
 "metadata": {
  "kernelspec": {
   "display_name": "Python 3",
   "language": "python",
   "name": "python3"
  },
  "language_info": {
   "codemirror_mode": {
    "name": "ipython",
    "version": 3
   },
   "file_extension": ".py",
   "mimetype": "text/x-python",
   "name": "python",
   "nbconvert_exporter": "python",
   "pygments_lexer": "ipython3",
   "version": "3.6.6"
  }
 },
 "nbformat": 4,
 "nbformat_minor": 2
}
